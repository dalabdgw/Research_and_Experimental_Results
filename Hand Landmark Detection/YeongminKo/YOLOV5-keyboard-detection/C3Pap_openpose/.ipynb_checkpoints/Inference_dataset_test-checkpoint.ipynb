{
 "cells": [
  {
   "cell_type": "markdown",
   "id": "e52de2db",
   "metadata": {},
   "source": [
    "# Before run codes you have to define image directory!!"
   ]
  },
  {
   "cell_type": "code",
   "execution_count": 1,
   "id": "88a5fef0",
   "metadata": {},
   "outputs": [],
   "source": [
    "import os\n",
    "from IPython.display import Image"
   ]
  },
  {
   "cell_type": "code",
   "execution_count": 6,
   "id": "0b7788b9",
   "metadata": {
    "scrolled": true
   },
   "outputs": [
    {
     "name": "stderr",
     "output_type": "stream",
     "text": [
      "\u001b[34m\u001b[1mdetect: \u001b[0mweights=['./yolov5/runs/train/piano_yolov5s_results/weights/best.pt'], source=C:/Users/User/Desktop/repo/Experimental/Hand_Landmark_Detection/YeongminKo/YOLOV5/C3Pap_openpose/test/*.*, data=yolov5\\data\\coco128.yaml, imgsz=[640, 640], conf_thres=0.25, iou_thres=0.45, max_det=1000, device=, view_img=False, save_txt=False, save_conf=False, save_crop=False, nosave=False, classes=None, agnostic_nms=False, augment=False, visualize=False, update=False, project=yolov5\\runs\\detect, name=exp, exist_ok=False, line_thickness=3, hide_labels=False, hide_conf=False, half=False, dnn=False, vid_stride=1\n",
      "YOLOv5  v7.0-203-g0897415 Python-3.10.11 torch-2.0.1 CUDA:0 (NVIDIA GeForce RTX 4080, 16376MiB)\n",
      "\n",
      "Fusing layers... \n",
      "YOLOv5s summary: 157 layers, 7012822 parameters, 0 gradients, 15.8 GFLOPs\n",
      "image 1/20 C:\\Users\\User\\Desktop\\repo\\Experimental\\Hand_Landmark_Detection\\YeongminKo\\YOLOV5\\C3Pap_openpose\\test\\1.png: 416x640 1 keyboard, 50.6ms\n",
      "image 2/20 C:\\Users\\User\\Desktop\\repo\\Experimental\\Hand_Landmark_Detection\\YeongminKo\\YOLOV5\\C3Pap_openpose\\test\\10.png: 384x640 (no detections), 46.9ms\n",
      "image 3/20 C:\\Users\\User\\Desktop\\repo\\Experimental\\Hand_Landmark_Detection\\YeongminKo\\YOLOV5\\C3Pap_openpose\\test\\11.png: 448x640 1 keyboard, 46.9ms\n",
      "image 4/20 C:\\Users\\User\\Desktop\\repo\\Experimental\\Hand_Landmark_Detection\\YeongminKo\\YOLOV5\\C3Pap_openpose\\test\\12.png: 448x640 1 keyboard, 0.0ms\n",
      "image 5/20 C:\\Users\\User\\Desktop\\repo\\Experimental\\Hand_Landmark_Detection\\YeongminKo\\YOLOV5\\C3Pap_openpose\\test\\13.png: 448x640 1 keyboard, 0.0ms\n",
      "image 6/20 C:\\Users\\User\\Desktop\\repo\\Experimental\\Hand_Landmark_Detection\\YeongminKo\\YOLOV5\\C3Pap_openpose\\test\\14.png: 448x640 1 keyboard, 0.0ms\n",
      "image 7/20 C:\\Users\\User\\Desktop\\repo\\Experimental\\Hand_Landmark_Detection\\YeongminKo\\YOLOV5\\C3Pap_openpose\\test\\15.png: 448x640 1 keyboard, 0.0ms\n",
      "image 8/20 C:\\Users\\User\\Desktop\\repo\\Experimental\\Hand_Landmark_Detection\\YeongminKo\\YOLOV5\\C3Pap_openpose\\test\\16.png: 448x640 1 keyboard, 1.0ms\n",
      "image 9/20 C:\\Users\\User\\Desktop\\repo\\Experimental\\Hand_Landmark_Detection\\YeongminKo\\YOLOV5\\C3Pap_openpose\\test\\17.png: 448x640 1 keyboard, 6.0ms\n",
      "image 10/20 C:\\Users\\User\\Desktop\\repo\\Experimental\\Hand_Landmark_Detection\\YeongminKo\\YOLOV5\\C3Pap_openpose\\test\\18.png: 448x640 1 keyboard, 6.0ms\n",
      "image 11/20 C:\\Users\\User\\Desktop\\repo\\Experimental\\Hand_Landmark_Detection\\YeongminKo\\YOLOV5\\C3Pap_openpose\\test\\19.png: 448x640 1 keyboard, 0.0ms\n",
      "image 12/20 C:\\Users\\User\\Desktop\\repo\\Experimental\\Hand_Landmark_Detection\\YeongminKo\\YOLOV5\\C3Pap_openpose\\test\\2.png: 480x640 (no detections), 62.5ms\n",
      "image 13/20 C:\\Users\\User\\Desktop\\repo\\Experimental\\Hand_Landmark_Detection\\YeongminKo\\YOLOV5\\C3Pap_openpose\\test\\20.png: 448x640 1 keyboard, 0.0ms\n",
      "image 14/20 C:\\Users\\User\\Desktop\\repo\\Experimental\\Hand_Landmark_Detection\\YeongminKo\\YOLOV5\\C3Pap_openpose\\test\\3.png: 448x640 (no detections), 0.0ms\n",
      "image 15/20 C:\\Users\\User\\Desktop\\repo\\Experimental\\Hand_Landmark_Detection\\YeongminKo\\YOLOV5\\C3Pap_openpose\\test\\4.png: 640x640 1 keyboard, 0.0ms\n",
      "image 16/20 C:\\Users\\User\\Desktop\\repo\\Experimental\\Hand_Landmark_Detection\\YeongminKo\\YOLOV5\\C3Pap_openpose\\test\\5.png: 640x448 (no detections), 54.2ms\n",
      "image 17/20 C:\\Users\\User\\Desktop\\repo\\Experimental\\Hand_Landmark_Detection\\YeongminKo\\YOLOV5\\C3Pap_openpose\\test\\6.png: 480x640 (no detections), 5.0ms\n",
      "image 18/20 C:\\Users\\User\\Desktop\\repo\\Experimental\\Hand_Landmark_Detection\\YeongminKo\\YOLOV5\\C3Pap_openpose\\test\\7.png: 320x640 (no detections), 45.3ms\n",
      "image 19/20 C:\\Users\\User\\Desktop\\repo\\Experimental\\Hand_Landmark_Detection\\YeongminKo\\YOLOV5\\C3Pap_openpose\\test\\8.png: 640x512 (no detections), 64.6ms\n",
      "image 20/20 C:\\Users\\User\\Desktop\\repo\\Experimental\\Hand_Landmark_Detection\\YeongminKo\\YOLOV5\\C3Pap_openpose\\test\\9.png: 480x640 1 keyboard, 5.0ms\n",
      "Speed: 1.8ms pre-process, 19.7ms inference, 0.1ms NMS per image at shape (1, 3, 640, 640)\n",
      "Results saved to \u001b[1myolov5\\runs\\detect\\exp\u001b[0m\n"
     ]
    }
   ],
   "source": [
    "# epochs 100 model\n",
    "!python ./yolov5/detect.py --weights ./yolov5/runs/train/piano_yolov5s_results/weights/best.pt --source \"C:/Users/User/Desktop/repo/Experimental/Hand_Landmark_Detection/YeongminKo/YOLOV5/C3Pap_openpose/test/*.*\"\n",
    "#--save-txt"
   ]
  },
  {
   "cell_type": "code",
   "execution_count": null,
   "id": "0e8a9094",
   "metadata": {},
   "outputs": [],
   "source": [
    "# epochs 50 model\n",
    "!python ./yolov5/detect.py --weights ./yolov5/runs/train/piano_yolov5s_results2/weights/best.pt --source \"C:/Users/User/Desktop/repo/Experimental/Hand_Landmark_Detection/YeongminKo/YOLOV5/C3Pap_openpose/test/*.*\"\n",
    "#--save-txt"
   ]
  },
  {
   "cell_type": "code",
   "execution_count": null,
   "id": "296cb319",
   "metadata": {},
   "outputs": [],
   "source": []
  }
 ],
 "metadata": {
  "kernelspec": {
   "display_name": "Python 3 (ipykernel)",
   "language": "python",
   "name": "python3"
  },
  "language_info": {
   "codemirror_mode": {
    "name": "ipython",
    "version": 3
   },
   "file_extension": ".py",
   "mimetype": "text/x-python",
   "name": "python",
   "nbconvert_exporter": "python",
   "pygments_lexer": "ipython3",
   "version": "3.10.11"
  }
 },
 "nbformat": 4,
 "nbformat_minor": 5
}
