{
 "cells": [
  {
   "cell_type": "markdown",
   "id": "bc4404b4",
   "metadata": {},
   "source": [
    "### 피아노 Midi 사이트\n",
    "- https://www.freepianotutorials.net/2023/12/ludwig-goransson-can-you-hear-music.html#more"
   ]
  },
  {
   "cell_type": "markdown",
   "id": "871d5d07",
   "metadata": {},
   "source": [
    "### Ⅰ. 라이브러리"
   ]
  },
  {
   "cell_type": "code",
   "execution_count": 2,
   "id": "3f332b7b",
   "metadata": {},
   "outputs": [],
   "source": [
    "import os\n",
    "import mido\n",
    "import numpy as np\n",
    "import pandas as pd\n",
    "\n",
    "from mido import MidiFile, MidiTrack, MetaMessage, Message"
   ]
  },
  {
   "cell_type": "code",
   "execution_count": 3,
   "id": "d5d2b18c",
   "metadata": {},
   "outputs": [],
   "source": [
    "data_folder = \"midi_data\""
   ]
  },
  {
   "cell_type": "code",
   "execution_count": 4,
   "id": "b647a4ba",
   "metadata": {},
   "outputs": [],
   "source": [
    "def load_midi_data(input_name, target_name):\n",
    "    input_path  = os.path.join(data_folder, input_name)\n",
    "    target_path = os.path.join(data_folder, target_name)\n",
    "    \n",
    "    input_mid  = mido.MidiFile(input_path)\n",
    "    target_mid = mido.MidiFile(target_path)\n",
    "    \n",
    "    return input_mid, target_mid"
   ]
  },
  {
   "cell_type": "code",
   "execution_count": 5,
   "id": "d677c8fd",
   "metadata": {},
   "outputs": [],
   "source": [
    "#input_name = \"Fugue3.mid\"\n",
    "input_name = \"Fugue3.mid\"\n",
    "target_name = \"Fugue1.mid\"\n",
    "\n",
    "input_mid, target_mid = load_midi_data(input_name, target_name)"
   ]
  },
  {
   "cell_type": "markdown",
   "id": "48057ae6",
   "metadata": {},
   "source": [
    "### Ⅱ. Data Extraction"
   ]
  },
  {
   "cell_type": "markdown",
   "id": "b92869e9",
   "metadata": {},
   "source": [
    "#### 1. note (음정) : [ 0 to 127 ]\n",
    "- msg.type = 'note_on' / 'note_off'\n",
    "    + 소리의 강도 / 세기 ( velocity )\n",
    "    + 지속 시간 ( time, 단위 : tick )\n",
    "    \n",
    "- note_on / note_off 구분 X\n",
    "    + note_on channel=0 note=66 velocity=64 time=0\n",
    "    + note_off channel=0 note=66 velocity=48 time=60\n",
    "        - note_off 도 (( note / velocity )) 존재"
   ]
  },
  {
   "cell_type": "code",
   "execution_count": 7,
   "id": "b6dc2b4f",
   "metadata": {},
   "outputs": [],
   "source": [
    "def distribute_msg(mid_track):\n",
    "    track_dict = {}\n",
    "    \n",
    "    track_dict['MetaMessage'] = []\n",
    "    track_dict['Message'] = []\n",
    "    track_dict['ETC'] = []\n",
    "    \n",
    "    for msg in mid_track:\n",
    "        \n",
    "        if isinstance(msg, MetaMessage):\n",
    "            track_dict['MetaMessage'].append(msg)\n",
    "            \n",
    "        elif isinstance(msg, Message):\n",
    "            track_dict['Message'].append(msg)\n",
    "            \n",
    "        else:\n",
    "            track_dict['ETC'].append(msg)\n",
    "            \n",
    "    return track_dict"
   ]
  },
  {
   "cell_type": "code",
   "execution_count": 8,
   "id": "f39de28a",
   "metadata": {},
   "outputs": [],
   "source": [
    "def extract_note(track_file, mid_msg):\n",
    "    \n",
    "    def initialize_note_ticks():\n",
    "        tick_type = []\n",
    "        tick_note = []\n",
    "        tick_chan = []\n",
    "        tick_velo = []\n",
    "    \n",
    "        return tick_type, tick_note, tick_chan, tick_velo\n",
    "    \n",
    "    df_note_col = {'tick', 'count', 'msg_type', 'msg_note', 'msg_velocity', 'msg_channel'}\n",
    "    df_note = pd.DataFrame(columns = df_note_col)\n",
    "    \n",
    "    note_cur_time = 0\n",
    "    note_start = True\n",
    "    note_tick_type, note_tick_note, note_tick_chan, note_tick_velo = initialize_note_ticks()\n",
    "    \n",
    "    def note_check(msg_type):\n",
    "        if msg_type !='note_on' and msg_type !='note_off':\n",
    "            return False\n",
    "        \n",
    "        else:\n",
    "            return True\n",
    "    \n",
    "    def insert_note_data(note_tick_type, note_tick_note, note_tick_chan, note_tick_velo):\n",
    "        until_tick = df_note.shape[0]\n",
    "                \n",
    "        for note_idx in range(until_tick, note_cur_time):\n",
    "            df_note.loc[note_idx, \"tick\"] = note_cur_time\n",
    "            df_note.loc[note_idx, \"count\"] = len(note_tick_note)\n",
    "            df_note.loc[note_idx, \"msg_type\"] = note_tick_type\n",
    "            df_note.loc[note_idx, \"msg_note\"] = note_tick_note\n",
    "            df_note.loc[note_idx, \"msg_velocity\"] = note_tick_velo\n",
    "            df_note.loc[note_idx, \"msg_channel\"] = note_tick_chan\n",
    "            \n",
    "    \n",
    "    for msg in mid_msg:\n",
    "        \n",
    "        # note_check\n",
    "        if note_check(msg.type) == False:\n",
    "            continue\n",
    "        \n",
    "        # note_type\n",
    "        if msg.type == 'note_on' and msg.velocity == 0:\n",
    "            msg_typ = 'note_off'\n",
    "        else:\n",
    "            msg_typ = msg.type\n",
    "            \n",
    "        if msg.time > 0:\n",
    "            \n",
    "            if note_start == True:\n",
    "                note_start = False\n",
    "            else:\n",
    "                insert_note_data(note_tick_type, note_tick_note, note_tick_chan, note_tick_velo)\n",
    "                note_tick_type, note_tick_note, note_tick_chan, note_tick_velo = initialize_note_ticks()\n",
    "                \n",
    "            note_cur_time = msg.time + note_cur_time\n",
    "            \n",
    "        note_tick_type.append(msg_typ)\n",
    "        note_tick_note.append(msg.note)\n",
    "        note_tick_chan.append(msg.channel)\n",
    "        note_tick_velo.append(msg.velocity)\n",
    "            \n",
    "    if len(note_tick_note) > 0:\n",
    "        insert_note_data(note_tick_type, note_tick_note, note_tick_chan, note_tick_velo)\n",
    "\n",
    "    df_note.to_csv(track_file)\n",
    "    \n",
    "    return df_note"
   ]
  },
  {
   "cell_type": "code",
   "execution_count": null,
   "id": "52f3dc6e",
   "metadata": {
    "scrolled": true
   },
   "outputs": [],
   "source": [
    "def extract_data_info(file_name, mid):\n",
    "    mid_info  = {}\n",
    "    mid_track = []\n",
    "    \n",
    "    # mid_info\n",
    "    mid_info['type'] = mid.type\n",
    "    mid_info['ticks_per_beat'] = mid.ticks_per_beat\n",
    "    mid_info['track'] = mid_track\n",
    "    \n",
    "    for idx, track in enumerate(mid.tracks):\n",
    "        \n",
    "        track_dict = distribute_msg(track)\n",
    "        \n",
    "        track_file_name = file_name.split(\".\")[0] + \"_\" + str(idx) + \".csv\"\n",
    "        df_note = extract_note(track_file_name, track_dict['Message'])\n",
    "        \n",
    "        print(df_note)\n",
    "        mid_track.append(df_note)\n",
    "        \n",
    "    return mid_info\n",
    "\n",
    "input_info = extract_data_info(input_name, input_mid)\n",
    "target_info = extract_data_info(target_name, target_mid)"
   ]
  },
  {
   "cell_type": "markdown",
   "id": "8f9abfc6",
   "metadata": {},
   "source": [
    "- 비교 알고리즘 다시 생각해볼 필요가 있음\n",
    "    + time 기준\n",
    "    + 어떤 것을 바탕으로 평가 알고리즘"
   ]
  },
  {
   "cell_type": "code",
   "execution_count": 272,
   "id": "7a10b313",
   "metadata": {},
   "outputs": [],
   "source": [
    "def processing_note_on_data(input_track, target_track):\n",
    "    input_notes = []\n",
    "    target_notes = []\n",
    "    for note_track in input_track:\n",
    "        for index in range(note_track.shape[0]):\n",
    "            for count in range(note_track.loc[index,'count']):\n",
    "                if note_track.loc[index, 'msg_type'][count] == 'note_on':\n",
    "                    input_notes.append(note_track.loc[index, 'msg_note'][count])\n",
    "            \n",
    "    for note_track in target_track:\n",
    "        for index in range(note_track.shape[0]):\n",
    "            for count in range(note_track.loc[index,'count']):\n",
    "                if note_track.loc[index, 'msg_type'][count] == 'note_on':\n",
    "                    target_notes.append(note_track.loc[index, 'msg_note'][count])\n",
    "                \n",
    "    return input_notes, target_notes"
   ]
  },
  {
   "cell_type": "code",
   "execution_count": 273,
   "id": "a593ecbc",
   "metadata": {},
   "outputs": [],
   "source": [
    "def calculate_note_accuracy(input_info, target_info, limit_offset=0):\n",
    "    \"\"\"\n",
    "    인풋 MIDI와 정답 MIDI의 pitch 정확도 계산 - Yeong-Min Ko\n",
    "    \n",
    "    Args:\n",
    "        input_midi: 인풋 MIDI 파일\n",
    "        target_midi: 타겟 MIDI 파일\n",
    "        \n",
    "    Return:\n",
    "        pitch 정확도\n",
    "    \"\"\"\n",
    "\n",
    "    # 인풋 MIDI와 타겟 MIDI의 음표 정보를 추출\n",
    "    input_notes, target_notes = processing_note_on_data(input_info['track'], target_info['track'])\n",
    "    \n",
    "    # 피치 정확도 계산\n",
    "    # time 별로 기준을 세울 필요가 있음\n",
    "    total_accuracy = 0\n",
    "    for input_note in input_notes:\n",
    "        for reference_note in target_notes:\n",
    "            if abs(input_note - reference_note) < limit_offset:\n",
    "                total_accuracy += 1\n",
    "                break\n",
    "\n",
    "    # 전체 음표 수와 정확한 음표 수를 이용하여 정확도 계산\n",
    "    pitch_accuracy = (total_accuracy / len(target_notes)) * 100\n",
    "    if pitch_accuracy > 100:\n",
    "        pitch_accuracy %= 100\n",
    "    \n",
    "    return pitch_accuracy\n"
   ]
  },
  {
   "cell_type": "code",
   "execution_count": 274,
   "id": "9bd1f31f",
   "metadata": {},
   "outputs": [],
   "source": [
    "def calculate_accuracy_level(accuracy):\n",
    "    \"\"\"\n",
    "    음정 정확도에 따라 Level을 계산하는 함수\n",
    "\n",
    "    Args:\n",
    "        accuracy: 음정 정확도\n",
    "\n",
    "    Return:\n",
    "        계산된 Level\n",
    "    \"\"\"\n",
    "    level = int(min(10, round(accuracy / 10)))  # 10% 단위로 Level 계산, 최대 Level은 10, 반올림 적용\n",
    "    return level"
   ]
  },
  {
   "cell_type": "code",
   "execution_count": 275,
   "id": "63449354",
   "metadata": {},
   "outputs": [],
   "source": [
    "note_accuracy = calculate_note_accuracy(input_info, target_info, 5)\n",
    "note_level = calculate_accuracy_level(note_accuracy)"
   ]
  },
  {
   "cell_type": "code",
   "execution_count": 276,
   "id": "6a9418e7",
   "metadata": {},
   "outputs": [
    {
     "name": "stdout",
     "output_type": "stream",
     "text": [
      "Pitch Accuracy testCase 1: 21.23% - Level 2\n",
      "2\n"
     ]
    }
   ],
   "source": [
    "print(f'Pitch Accuracy testCase 1: {note_accuracy:.2f}% - Level {note_level}')\n",
    "print(note_level)"
   ]
  },
  {
   "cell_type": "code",
   "execution_count": 270,
   "id": "1349334e",
   "metadata": {},
   "outputs": [
    {
     "data": {
      "text/plain": [
       "52800"
      ]
     },
     "execution_count": 270,
     "metadata": {},
     "output_type": "execute_result"
    }
   ],
   "source": [
    "input_info['track'][1].shape[0]"
   ]
  },
  {
   "cell_type": "code",
   "execution_count": 1,
   "id": "865914a7",
   "metadata": {},
   "outputs": [
    {
     "ename": "NameError",
     "evalue": "name 'target_info' is not defined",
     "output_type": "error",
     "traceback": [
      "\u001b[1;31m---------------------------------------------------------------------------\u001b[0m",
      "\u001b[1;31mNameError\u001b[0m                                 Traceback (most recent call last)",
      "\u001b[1;32mC:\\Users\\Public\\Documents\\ESTsoft\\CreatorTemp\\ipykernel_31108\\1828118652.py\u001b[0m in \u001b[0;36m<module>\u001b[1;34m\u001b[0m\n\u001b[1;32m----> 1\u001b[1;33m \u001b[0mtarget_info\u001b[0m\u001b[1;33m[\u001b[0m\u001b[1;34m'track'\u001b[0m\u001b[1;33m]\u001b[0m\u001b[1;33m[\u001b[0m\u001b[1;36m1\u001b[0m\u001b[1;33m]\u001b[0m\u001b[1;33m\u001b[0m\u001b[1;33m\u001b[0m\u001b[0m\n\u001b[0m",
      "\u001b[1;31mNameError\u001b[0m: name 'target_info' is not defined"
     ]
    }
   ],
   "source": [
    "target_info['track'][1]"
   ]
  },
  {
   "cell_type": "code",
   "execution_count": null,
   "id": "b6fec084",
   "metadata": {},
   "outputs": [],
   "source": [
    "for index in range(target_info['track'][1].shape[0],input_info['track'][1].shape[0] ):\n",
    "    "
   ]
  },
  {
   "cell_type": "code",
   "execution_count": 284,
   "id": "3357a1f1",
   "metadata": {},
   "outputs": [
    {
     "ename": "IndexError",
     "evalue": "list index out of range",
     "output_type": "error",
     "traceback": [
      "\u001b[1;31m---------------------------------------------------------------------------\u001b[0m",
      "\u001b[1;31mIndexError\u001b[0m                                Traceback (most recent call last)",
      "\u001b[1;32mC:\\Users\\Public\\Documents\\ESTsoft\\CreatorTemp\\ipykernel_42004\\1222222205.py\u001b[0m in \u001b[0;36m<module>\u001b[1;34m\u001b[0m\n\u001b[0;32m     17\u001b[0m \u001b[1;33m\u001b[0m\u001b[0m\n\u001b[0;32m     18\u001b[0m             \u001b[1;32mfor\u001b[0m \u001b[0mtarget_count\u001b[0m \u001b[1;32min\u001b[0m \u001b[0mrange\u001b[0m\u001b[1;33m(\u001b[0m\u001b[0mtarget_df\u001b[0m\u001b[1;33m.\u001b[0m\u001b[0mloc\u001b[0m\u001b[1;33m[\u001b[0m\u001b[0mtick\u001b[0m\u001b[1;33m,\u001b[0m \u001b[1;34m'count'\u001b[0m\u001b[1;33m]\u001b[0m\u001b[1;33m)\u001b[0m\u001b[1;33m:\u001b[0m\u001b[1;33m\u001b[0m\u001b[1;33m\u001b[0m\u001b[0m\n\u001b[1;32m---> 19\u001b[1;33m                 \u001b[0mtarget_note\u001b[0m \u001b[1;33m=\u001b[0m \u001b[0mtarget_df\u001b[0m\u001b[1;33m.\u001b[0m\u001b[0mloc\u001b[0m\u001b[1;33m[\u001b[0m\u001b[0mtick\u001b[0m\u001b[1;33m,\u001b[0m \u001b[1;34m'msg_note'\u001b[0m\u001b[1;33m]\u001b[0m\u001b[1;33m[\u001b[0m\u001b[0mcount\u001b[0m\u001b[1;33m]\u001b[0m\u001b[1;33m\u001b[0m\u001b[1;33m\u001b[0m\u001b[0m\n\u001b[0m\u001b[0;32m     20\u001b[0m                 \u001b[1;32mif\u001b[0m \u001b[0mabs\u001b[0m\u001b[1;33m(\u001b[0m\u001b[0minput_note\u001b[0m \u001b[1;33m-\u001b[0m \u001b[0mtarget_note\u001b[0m\u001b[1;33m)\u001b[0m \u001b[1;33m<\u001b[0m \u001b[0mlimit_offset\u001b[0m\u001b[1;33m:\u001b[0m\u001b[1;33m\u001b[0m\u001b[1;33m\u001b[0m\u001b[0m\n\u001b[0;32m     21\u001b[0m                     \u001b[0mtotal_accuracy\u001b[0m \u001b[1;33m+=\u001b[0m \u001b[1;36m1\u001b[0m\u001b[1;33m\u001b[0m\u001b[1;33m\u001b[0m\u001b[0m\n",
      "\u001b[1;31mIndexError\u001b[0m: list index out of range"
     ]
    }
   ],
   "source": [
    "input_df = input_info['track'][1]\n",
    "target_df = target_info['track'][1]\n",
    "\n",
    "limit_offset = 5\n",
    "total_accuracy = 0\n",
    "\n",
    "for tick in range(input_df.shape[0]):\n",
    "    for input_count in range(input_df.loc[tick, 'count']):\n",
    "        if input_df.loc[tick, 'msg_type'][input_count] == 'note_on':\n",
    "            input_note = input_df.loc[tick, 'msg_note'][input_count]\n",
    "            \n",
    "            if tick > target_df.shape[0]:\n",
    "                target_note = 0\n",
    "                if abs(input_note - target_note) < limit_offset:\n",
    "                    total_accuracy += 1\n",
    "                continue\n",
    "                \n",
    "            for target_count in range(target_df.loc[tick, 'count']):\n",
    "                target_note = target_df.loc[tick, 'msg_note'][count]\n",
    "                if abs(input_note - target_note) < limit_offset:\n",
    "                    total_accuracy += 1\n",
    "                    break\n",
    "                \n",
    "pitch_accuracy = (total_accuracy / len(target_notes)) * 100\n",
    "if pitch_accuracy > 100:\n",
    "    pitch_accuracy %= 100\n",
    "    \n",
    "print(total_accuracy)\n",
    "print(pitch_accuracy)"
   ]
  },
  {
   "cell_type": "markdown",
   "id": "2f74ff0a",
   "metadata": {},
   "source": [
    "#### 8. 옥타브 ( note )"
   ]
  },
  {
   "cell_type": "markdown",
   "id": "39d64d81",
   "metadata": {},
   "source": [
    "#### 전제 조건\n",
    "- track\n",
    "    + 길이가 다르면 처음부터 측정 불가능\n",
    "    + track 은 **왼손 / 오른손 2개**만 있다는 가정"
   ]
  },
  {
   "cell_type": "code",
   "execution_count": null,
   "id": "d768a34f",
   "metadata": {},
   "outputs": [],
   "source": [
    "def pre_check(input_mid, target_mid):\n",
    "    # track 길이 비교\n",
    "    input_track_len  = len(input_mid.tracks)\n",
    "    target_track_len = len(target_mid.tracks)\n",
    "    \n",
    "    #return input_track_len == target_track_len\n",
    "    #### time 비교하는 것 짜기\n",
    "    return True"
   ]
  },
  {
   "cell_type": "markdown",
   "id": "60f4f3ff",
   "metadata": {},
   "source": [
    "### Ⅲ. Data Comparision"
   ]
  },
  {
   "cell_type": "code",
   "execution_count": 90,
   "id": "1ec8176c",
   "metadata": {},
   "outputs": [
    {
     "name": "stdout",
     "output_type": "stream",
     "text": [
      "4\n",
      "5\n"
     ]
    }
   ],
   "source": [
    "print(len(input_mid.tracks))\n",
    "print(len(target_mid.tracks))"
   ]
  },
  {
   "cell_type": "code",
   "execution_count": 93,
   "id": "3bcc2b92",
   "metadata": {},
   "outputs": [
    {
     "name": "stdout",
     "output_type": "stream",
     "text": [
      "Track 1: \n",
      "Track 2: \n",
      "Track 3: \n",
      "Track 4: \n",
      "Track 5: \n"
     ]
    }
   ],
   "source": [
    "for idx, track in enumerate(target_mid.tracks):\n",
    "    print(f\"Track {idx + 1}: {track.name}\")"
   ]
  },
  {
   "cell_type": "code",
   "execution_count": null,
   "id": "94b77935",
   "metadata": {},
   "outputs": [],
   "source": []
  },
  {
   "cell_type": "code",
   "execution_count": null,
   "id": "f5492063",
   "metadata": {},
   "outputs": [],
   "source": []
  },
  {
   "cell_type": "code",
   "execution_count": null,
   "id": "883d23a5",
   "metadata": {},
   "outputs": [],
   "source": []
  },
  {
   "cell_type": "code",
   "execution_count": null,
   "id": "3caff493",
   "metadata": {},
   "outputs": [],
   "source": []
  },
  {
   "cell_type": "code",
   "execution_count": null,
   "id": "1cd7e870",
   "metadata": {},
   "outputs": [],
   "source": []
  },
  {
   "cell_type": "code",
   "execution_count": null,
   "id": "aa218a12",
   "metadata": {},
   "outputs": [],
   "source": []
  },
  {
   "cell_type": "code",
   "execution_count": null,
   "id": "a46fd5f3",
   "metadata": {},
   "outputs": [],
   "source": []
  },
  {
   "cell_type": "code",
   "execution_count": null,
   "id": "b3ed99ec",
   "metadata": {},
   "outputs": [],
   "source": []
  },
  {
   "cell_type": "code",
   "execution_count": null,
   "id": "343f38b3",
   "metadata": {},
   "outputs": [],
   "source": []
  },
  {
   "cell_type": "code",
   "execution_count": null,
   "id": "22ec6948",
   "metadata": {},
   "outputs": [],
   "source": []
  },
  {
   "cell_type": "code",
   "execution_count": null,
   "id": "6a13451d",
   "metadata": {},
   "outputs": [],
   "source": []
  },
  {
   "cell_type": "code",
   "execution_count": null,
   "id": "9dad5a8b",
   "metadata": {},
   "outputs": [],
   "source": []
  },
  {
   "cell_type": "code",
   "execution_count": null,
   "id": "a8951631",
   "metadata": {},
   "outputs": [],
   "source": []
  },
  {
   "cell_type": "code",
   "execution_count": null,
   "id": "02763f11",
   "metadata": {},
   "outputs": [],
   "source": []
  },
  {
   "cell_type": "code",
   "execution_count": null,
   "id": "0930c049",
   "metadata": {},
   "outputs": [],
   "source": []
  }
 ],
 "metadata": {
  "kernelspec": {
   "display_name": "Python 3 (ipykernel)",
   "language": "python",
   "name": "python3"
  },
  "language_info": {
   "codemirror_mode": {
    "name": "ipython",
    "version": 3
   },
   "file_extension": ".py",
   "mimetype": "text/x-python",
   "name": "python",
   "nbconvert_exporter": "python",
   "pygments_lexer": "ipython3",
   "version": "3.7.9"
  }
 },
 "nbformat": 4,
 "nbformat_minor": 5
}
