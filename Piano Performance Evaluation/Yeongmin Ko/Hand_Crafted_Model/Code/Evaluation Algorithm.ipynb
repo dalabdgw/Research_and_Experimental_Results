{
 "cells": [
  {
   "cell_type": "markdown",
   "id": "f58acf77",
   "metadata": {},
   "source": [
    "# Work Record\n",
    "#### 2023/12/13(수)\n",
    " - 1번 평가 항목인 음정 정확도 평가 로직 작성\n",
    "#### 2023/12/14(목)\n",
    " - 1번 평가 항목인 음정 정확도 평가 로직 수정 및 4번 평가 항목인 빠르기 유사도 평가 로직 작성\n",
    " - 12번 평가 항목인 음의 길이(노트의 길이) 평가 로직 일부 작성(개선 필요)\n",
    "#### 2023/12/20(수)\n",
    " - 11번 평가 항목인 페달링 평가 로직 작성\n",
    " - 8번 평가 항목인 옥타브 평가 로직 작성\n",
    " - 빠르기의 변화 값 추출(5번) 코드 일부 작성\n",
    " - 1차 통합 테스트 실시"
   ]
  },
  {
   "cell_type": "markdown",
   "id": "01ef97d4",
   "metadata": {},
   "source": [
    "# 1. 음정 정확도"
   ]
  },
  {
   "cell_type": "code",
   "execution_count": 248,
   "id": "f43c210a",
   "metadata": {
    "scrolled": true
   },
   "outputs": [
    {
     "name": "stdout",
     "output_type": "stream",
     "text": [
      "Pitch Accuracy testCase 1: 100.00% - Level 10\n",
      "Pitch Accuracy testCase 2: 84.38% - Level 8\n",
      "Pitch Accuracy testCase 3: 84.38% - Level 8\n",
      "Pitch Accuracy testCase 4: 68.18% - Level 7\n"
     ]
    }
   ],
   "source": [
    "import mido\n",
    "\n",
    "# Step 1. 음정 정확도 구하기\n",
    "\n",
    "def calculate_pitch_accuracy(input_midi_path, target_midi_path):\n",
    "    \"\"\"\n",
    "    인풋 MIDI와 정답 MIDI의 pitch 정확도 계산 - Yeong-Min Ko\n",
    "    \n",
    "    Args:\n",
    "        input_midi: 인풋 MIDI 파일\n",
    "        target_midi: 타겟 MIDI 파일\n",
    "        \n",
    "    Return:\n",
    "        pitch_accuracy 피치 정확도\n",
    "    \"\"\"\n",
    "\n",
    "    # MIDI 파일 읽기\n",
    "    input_midi = mido.MidiFile(input_midi_path)\n",
    "    target_midi = mido.MidiFile(target_midi_path)\n",
    "\n",
    "    input_notes = set(msg.note for msg in input_midi if msg.type == 'note_on')\n",
    "    target_notes = set(msg.note for msg in target_midi if msg.type == 'note_on')\n",
    "\n",
    "    common_notes = input_notes.intersection(target_notes)\n",
    "    pitch_accuracy = (len(common_notes) / len(input_notes)) * 100\n",
    "\n",
    "    return pitch_accuracy\n",
    "\n",
    "def extract_note_info(midi_file_path):\n",
    "    \"\"\"\n",
    "    MIDI 파일에서 노트 정보를 추출\n",
    "    \"\"\"\n",
    "    mid = mido.MidiFile(midi_file_path)\n",
    "\n",
    "    note_info = []  # 각 노트의 정보를 저장할 리스트\n",
    "\n",
    "    current_time = 0  # 현재 시간 초기화\n",
    "\n",
    "    for i, track in enumerate(mid.tracks):\n",
    "        for msg in track:\n",
    "            current_time += msg.time  # 현재 시간을 누적\n",
    "\n",
    "            if msg.type == 'note_on':\n",
    "                note_start = current_time  # 노트 시작 시간\n",
    "                note_info.append({'start': note_start, 'end': None, 'note': msg.note})\n",
    "            elif msg.type == 'note_off':\n",
    "                note_end = current_time  # 노트 종료 시간\n",
    "                # 현재 노트 정보에 종료 시간 업데이트\n",
    "                note_info[-1]['end'] = note_end\n",
    "\n",
    "    return note_info\n",
    "\n",
    "def display_note_info(note_info, title):\n",
    "    \"\"\"\n",
    "    노트 정보를 출력\n",
    "    \"\"\"\n",
    "    print(f'\\nNote information for {title}:')\n",
    "    print('-----------------------------------')\n",
    "    for idx, note in enumerate(note_info):\n",
    "        print(f'Note {idx + 1}:')\n",
    "        print(f'Start Time: {note[\"start\"]} ms')\n",
    "        print(f'End Time: {note[\"end\"]} ms')\n",
    "        print(f'Note Pitch: {note[\"note\"]}')\n",
    "        print('-----------------------------------')\n",
    "\n",
    "def calculate_accuracy_level(accuracy):\n",
    "    \"\"\"\n",
    "    피치 정확도에 따라 Level을 계산하는 함수\n",
    "\n",
    "    Args:\n",
    "        accuracy: 피치 정확도\n",
    "\n",
    "    Return:\n",
    "        계산된 Level\n",
    "    \"\"\"\n",
    "    level = int(min(10, round(accuracy / 10)))  # 10% 단위로 Level 계산, 최대 Level은 10, 반올림 적용\n",
    "    return level\n",
    "\n",
    "# 메인 시작 부분\n",
    "if __name__ == \"__main__\":\n",
    "    # Step 2_1. Mido 라이브러리로 정답 데이터와 같은 인풋 데이터 읽기\n",
    "    input_midi_path1 = 'Prelude1.mid'\n",
    "    target_midi_path1 = 'Prelude1.mid'\n",
    "    accuracy1 = calculate_pitch_accuracy(input_midi_path1, target_midi_path1)\n",
    "\n",
    "    # Step 2_2. Mido 라이브러리로 정답 데이터와 다른 인풋 데이터 읽기\n",
    "    input_midi_path2 = 'Prelude1.mid'\n",
    "    target_midi_path2 = 'Fugue1.mid'\n",
    "    accuracy2 = calculate_pitch_accuracy(input_midi_path2, target_midi_path2)\n",
    "\n",
    "    # Step 2_3. Mido 라이브러리로 정답 데이터와 다른 인풋 데이터 읽기\n",
    "    input_midi_path3 = 'Prelude1.mid'\n",
    "    target_midi_path3 = 'Fugue1.mid'\n",
    "    accuracy3 = calculate_pitch_accuracy(input_midi_path3, target_midi_path3)\n",
    "\n",
    "    # Step 2_4. Mido 라이브러리로 정답 데이터와 다른 인풋 데이터 읽기\n",
    "    input_midi_path4 = 'Fugue3.mid'\n",
    "    target_midi_path4 = 'Fugue1.mid'\n",
    "    accuracy4 = calculate_pitch_accuracy(input_midi_path4, target_midi_path1)\n",
    "\n",
    "    # Step 3. 각각의 정확도 및 Level 출력\n",
    "    level1 = calculate_accuracy_level(accuracy1)\n",
    "    level2 = calculate_accuracy_level(accuracy2)\n",
    "    level3 = calculate_accuracy_level(accuracy3)\n",
    "    level4 = calculate_accuracy_level(accuracy4)\n",
    "    \n",
    "    print(f'Pitch Accuracy testCase 1: {accuracy1:.2f}% - Level {level1}')\n",
    "    print(f'Pitch Accuracy testCase 2: {accuracy2:.2f}% - Level {level2}')\n",
    "    print(f'Pitch Accuracy testCase 3: {accuracy3:.2f}% - Level {level3}')\n",
    "    print(f'Pitch Accuracy testCase 4: {accuracy4:.2f}% - Level {level4}')\n",
    "    \n",
    "    # 각 MIDI 파일의 노트 정보 추출\n",
    "    #note_info_1 = extract_note_info(midi_file_path_1)\n",
    "    #note_info_2 = extract_note_info(midi_file_path_2)\n",
    "    #note_info_4 = extract_note_info(midi_file_path_4)\n",
    "\n",
    "    # 노트 정보 출력\n",
    "    # display_note_info(note_info_1, 'Prelude1')\n",
    "    # display_note_info(note_info_2, 'Fugue1')\n",
    "    # display_note_info(note_info_4, 'Fugue3')"
   ]
  },
  {
   "cell_type": "markdown",
   "id": "7f55a757",
   "metadata": {},
   "source": [
    "# 2. 셈여림"
   ]
  },
  {
   "cell_type": "code",
   "execution_count": null,
   "id": "50c475d6",
   "metadata": {},
   "outputs": [],
   "source": []
  },
  {
   "cell_type": "markdown",
   "id": "0a459d05",
   "metadata": {},
   "source": [
    "# 3. 셈여림의 변화"
   ]
  },
  {
   "cell_type": "code",
   "execution_count": null,
   "id": "68fed786",
   "metadata": {},
   "outputs": [],
   "source": []
  },
  {
   "cell_type": "markdown",
   "id": "28587525",
   "metadata": {},
   "source": [
    "# 4. 곡의 빠르기 유사도 점수 구하기"
   ]
  },
  {
   "cell_type": "code",
   "execution_count": 246,
   "id": "e45e4c7d",
   "metadata": {},
   "outputs": [
    {
     "name": "stdout",
     "output_type": "stream",
     "text": [
      "Speed similarity scores of songs\n",
      "--------------------------------------------------------------------------------------------\n",
      "Average Tempo of Prelude1.mid: 63.30000225000275 BPM\n",
      "Average Tempo of Fugue1.mid: 53.12499922083624 BPM\n",
      "Average Tempo of Fugue3.mid: 53.12499922083624 BPM\n",
      "--------------------------------------------------------------------------------------------\n",
      "Tempo Difference Between Prelude1.mid and Fugue1.mid: 10.175003029166511 BPM\n",
      "Tempo Similarirty Level testCase 1: Score: 78.475 - Level: 8\n",
      "--------------------------------------------------------------------------------------------\n",
      "Tempo Difference Between Fugue1.mid and Fugue1.mid: 0.0 BPM\n",
      "Tempo Similarirty Level testCase 2: Score: 100.000 - Level: 10\n",
      "--------------------------------------------------------------------------------------------\n",
      "Tempo Difference Between Fugue1.mid and Fugue3.mid: 18.43055086620948 BPM\n",
      "Tempo Similarirty Level testCase 1: Score: 53.708 - Level: 5\n",
      "--------------------------------------------------------------------------------------------\n"
     ]
    }
   ],
   "source": [
    "import mido\n",
    "from mido import MidiFile\n",
    "\n",
    "def extract_tempo(midi_file):\n",
    "    \"\"\"\n",
    "    MIDI 파일에서 템포 정보를 추출\n",
    "    \"\"\"\n",
    "    mid = MidiFile(midi_file)\n",
    "\n",
    "    tempo_list = []  # 각 트랙의 템포를 저장할 리스트\n",
    "\n",
    "    for i, track in enumerate(mid.tracks):\n",
    "        for msg in track:\n",
    "            if msg.type == 'set_tempo':\n",
    "                # 템포 메시지에서 마이크로초당 박자 속도를 추출\n",
    "                tempo = mido.tempo2bpm(msg.tempo)\n",
    "                tempo_list.append(tempo)\n",
    "\n",
    "    # 템포 정보가 없는 경우 기본값으로 None을 반환\n",
    "    if not tempo_list:\n",
    "        return None\n",
    "\n",
    "    # 전체 트랙의 평균 템포를 계산\n",
    "    average_tempo = sum(tempo_list) / len(tempo_list)\n",
    "\n",
    "    return average_tempo\n",
    "\n",
    "def calculate_tempo_score(tempo_difference, threshold = 3):\n",
    "    \"\"\"\n",
    "    두 곡간의 평균 템포 차이를 기반으로 점수를 빠르기 Score를 계산하는 함수\n",
    "    \n",
    "    Arg:\n",
    "        tempo_difference: 템포 차이\n",
    "\n",
    "    Returns:\n",
    "        계산된 Score\n",
    "    \"\"\"\n",
    "    excess_difference = max(0, tempo_difference - threshold) # 임계값을 초과한 템포 차이\n",
    "\n",
    "    if tempo_difference <= threshold:\n",
    "        # threshold 이하의 템포 차이는 최고 점수 100을 부여\n",
    "        score = 100\n",
    "    else:\n",
    "        # threshold를 초과하는 경우 템포 차이에 따라 점수 부여\n",
    "        # 차후에 가중치 생각해 볼 필요 있음 - 현재는 임시 로직\n",
    "        score = max(0, 100 - min(3, excess_difference) * (tempo_difference - threshold))\n",
    "\n",
    "    return f'{score:.3f}'\n",
    "\n",
    "def calculate_tempo_level(score):\n",
    "    \"\"\"\n",
    "    두 곡 간의 평균 템포 차이를 기반으로 Level을 계산하는 함수\n",
    "\n",
    "    Arg:\n",
    "        score: 현재 점수\n",
    "\n",
    "    Returns:\n",
    "        계산된 Level\n",
    "    \"\"\"\n",
    "    score = float(score)  # 문자열에서 숫자로 변환\n",
    "    level = int(min(10, round(score / 10))) # 최대 Level은 10\n",
    "    return level\n",
    "\n",
    "if __name__ == \"__main__\":\n",
    "    # 두 MIDI 파일의 경로를 지정\n",
    "    midi_file_path_1 = 'Prelude1.mid'\n",
    "    midi_file_path_2 = 'Fugue1.mid'\n",
    "    midi_file_path_3 = 'Fugue1.mid'\n",
    "    midi_file_path_4 = 'Fugue3.mid'\n",
    "\n",
    "    # 두 파일의 평균 템포를 추출\n",
    "    average_tempo_1 = extract_tempo(midi_file_path_1)\n",
    "    average_tempo_2 = extract_tempo(midi_file_path_2)\n",
    "    average_tempo_3 = extract_tempo(midi_file_path_3)    \n",
    "    average_tempo_4 = extract_tempo(midi_file_path_4)\n",
    "\n",
    "    if average_tempo_1 is not None and average_tempo_2 is not None and average_tempo_3 is not None and average_tempo_3 is not None:\n",
    "        # 평균 템포의 차이를 계산\n",
    "        tempo_difference1 = abs(average_tempo_1 - average_tempo_2) # 다른 파일의 템포 평균\n",
    "        tempo_difference2 = abs(average_tempo_3 - average_tempo_2) # 같은 파일의 템포 평균\n",
    "        tempo_difference3 = abs(average_tempo_4 - average_tempo_3) # 다른 파일의 템포 평균\n",
    "        \n",
    "        # 템포 차이를 기반으로 점수 계산\n",
    "        score1 = calculate_tempo_score(tempo_difference1) # 다른 파일로 테스트\n",
    "        score2 = calculate_tempo_score(tempo_difference2) # 같은 파일로 테스트\n",
    "        score3 = calculate_tempo_score(tempo_difference3) # 다른 파일로 테스트\n",
    "        \n",
    "        # 템포 차이에 따른 Level 계산 및 출력\n",
    "        level_tempo1 = calculate_tempo_level(score1)\n",
    "        level_tempo2 = calculate_tempo_level(score2)\n",
    "        level_tempo3 = calculate_tempo_level(score3)\n",
    "        \n",
    "        print('Speed similarity scores of songs')\n",
    "        print('--------------------------------------------------------------------------------------------')\n",
    "        print(f'Average Tempo of {midi_file_path_1}: {average_tempo_1} BPM')\n",
    "        print(f'Average Tempo of {midi_file_path_2}: {average_tempo_2} BPM')\n",
    "        print(f'Average Tempo of {midi_file_path_4}: {average_tempo_3} BPM')\n",
    "        print('--------------------------------------------------------------------------------------------')\n",
    "        print(f'Tempo Difference Between {midi_file_path_1} and {midi_file_path_2}: {tempo_difference1} BPM')\n",
    "        print(f'Tempo Similarirty Level testCase 1: Score: {score1} - Level: {level_tempo1}') # 다른 파일로 연주한 경우\n",
    "        print('--------------------------------------------------------------------------------------------')\n",
    "        print(f'Tempo Difference Between {midi_file_path_2} and {midi_file_path_3}: {tempo_difference2} BPM')\n",
    "        print(f'Tempo Similarirty Level testCase 2: Score: {score2} - Level: {level_tempo2}') # 같은 파일로 연주한 경우\n",
    "        print('--------------------------------------------------------------------------------------------')   \n",
    "        print(f'Tempo Difference Between {midi_file_path_3} and {midi_file_path_4}: {tempo_difference3} BPM')\n",
    "        print(f'Tempo Similarirty Level testCase 1: Score: {score3} - Level: {level_tempo3}') # 다른 파일로 연주한 경우\n",
    "        print('--------------------------------------------------------------------------------------------')\n",
    "    else:\n",
    "        print('평균 템포를 계산할 수 없습니다.')"
   ]
  },
  {
   "cell_type": "code",
   "execution_count": 189,
   "id": "518205c7",
   "metadata": {},
   "outputs": [
    {
     "name": "stdout",
     "output_type": "stream",
     "text": [
      "Tempo of Prelude1.mid: 72.00002880001152 BPM\n",
      "Tempo of Fugue1.mid: 64.0 BPM\n",
      "Tempo Difference Between Prelude1.mid And Fugue1.mid: 8.00002880001152 BPM\n"
     ]
    }
   ],
   "source": [
    "# 아래 코드는 바로 위 로직짜기 전에 작성한 연습 코드\n",
    "import mido\n",
    "from mido import MidiFile\n",
    "\n",
    "def extract_tempo(midi_file):\n",
    "    \"\"\"\n",
    "    MIDI 파일에서 템포 정보를 추출\n",
    "    \"\"\"\n",
    "    mid = MidiFile(midi_file)\n",
    "\n",
    "    for i, track in enumerate(mid.tracks):\n",
    "        for msg in track:\n",
    "            if msg.type == 'set_tempo':\n",
    "                # 템포 메시지에서 마이크로초당 박자 속도를 추출\n",
    "                tempo = mido.tempo2bpm(msg.tempo)\n",
    "                return tempo\n",
    "\n",
    "    # 템포 정보가 없는 경우 기본값으로 120 BPM을 반환.\n",
    "    return 120\n",
    "\n",
    "def tempo_difference(tempo1, tempo2):\n",
    "    \"\"\"\n",
    "    두 템포 값 간의 유사도를 계산\n",
    "    \"\"\"\n",
    "    # 예제로 간단하게 차이의 절대값을 반환\n",
    "    return abs(tempo1 - tempo2)\n",
    "\n",
    "if __name__ == \"__main__\":\n",
    "    # 두 MIDI 파일의 경로를 지정.\n",
    "    midi_file_path_1 = 'Prelude1.mid'\n",
    "    midi_file_path_2 = 'Fugue1.mid'\n",
    "\n",
    "    # 템포 정보를 추출\n",
    "    tempo1 = extract_tempo(midi_file_path_1)\n",
    "    tempo2 = extract_tempo(midi_file_path_2)\n",
    "\n",
    "    # 템포 유사도를 계산\n",
    "    difference = tempo_difference(tempo1, tempo2)\n",
    "\n",
    "    print(f'Tempo of {midi_file_path_1}: {tempo1} BPM')\n",
    "    print(f'Tempo of {midi_file_path_2}: {tempo2} BPM')\n",
    "    print(f'Tempo Difference Between {midi_file_path_1} And {midi_file_path_2}: {difference} BPM')"
   ]
  },
  {
   "cell_type": "markdown",
   "id": "8662d9c6",
   "metadata": {},
   "source": [
    "# 5. 빠르기의 변화\n",
    "- 추가적인 고민 필요"
   ]
  },
  {
   "cell_type": "code",
   "execution_count": 190,
   "id": "340e35d7",
   "metadata": {},
   "outputs": [
    {
     "name": "stdout",
     "output_type": "stream",
     "text": [
      "빠르기 변화 비교 (Fugue3.mid vs Prelude1.mid):\n",
      "트랙 1 및 1, 시간: 0.02초 - 0.01초\n",
      "Fugue3.mid 빠르기: 82.00 BPM -> 81.00 BPM\n",
      "Fugue3.mid 빠르기 변화: -1.00 BPM\n",
      "Prelude1.mid 빠르기: 72.00 BPM -> 70.00 BPM\n",
      "Prelude1.mid 빠르기 변화: -2.00 BPM\n",
      "---------------------------------------------------------------\n",
      "트랙 1 및 1, 시간: 0.00초 - 0.00초\n",
      "Fugue3.mid 빠르기: 81.00 BPM -> 79.00 BPM\n",
      "Fugue3.mid 빠르기 변화: -2.00 BPM\n",
      "Prelude1.mid 빠르기: 70.00 BPM -> 68.00 BPM\n",
      "Prelude1.mid 빠르기 변화: -2.00 BPM\n",
      "---------------------------------------------------------------\n",
      "트랙 1 및 1, 시간: 0.00초 - 0.00초\n",
      "Fugue3.mid 빠르기: 79.00 BPM -> 77.00 BPM\n",
      "Fugue3.mid 빠르기 변화: -2.00 BPM\n",
      "Prelude1.mid 빠르기: 68.00 BPM -> 66.00 BPM\n",
      "Prelude1.mid 빠르기 변화: -2.00 BPM\n",
      "---------------------------------------------------------------\n",
      "트랙 1 및 1, 시간: 0.00초 - 0.00초\n",
      "Fugue3.mid 빠르기: 77.00 BPM -> 72.00 BPM\n",
      "Fugue3.mid 빠르기 변화: -5.00 BPM\n",
      "Prelude1.mid 빠르기: 66.00 BPM -> 64.00 BPM\n",
      "Prelude1.mid 빠르기 변화: -2.00 BPM\n",
      "---------------------------------------------------------------\n",
      "트랙 1 및 1, 시간: 0.00초 - 0.00초\n",
      "Fugue3.mid 빠르기: 72.00 BPM -> 69.00 BPM\n",
      "Fugue3.mid 빠르기 변화: -3.00 BPM\n",
      "Prelude1.mid 빠르기: 64.00 BPM -> 62.00 BPM\n",
      "Prelude1.mid 빠르기 변화: -2.00 BPM\n",
      "---------------------------------------------------------------\n",
      "트랙 1 및 1, 시간: 0.00초 - 0.00초\n",
      "Fugue3.mid 빠르기: 69.00 BPM -> 65.00 BPM\n",
      "Fugue3.mid 빠르기 변화: -4.00 BPM\n",
      "Prelude1.mid 빠르기: 62.00 BPM -> 60.00 BPM\n",
      "Prelude1.mid 빠르기 변화: -2.00 BPM\n",
      "---------------------------------------------------------------\n",
      "트랙 1 및 1, 시간: 0.00초 - 0.00초\n",
      "Fugue3.mid 빠르기: 65.00 BPM -> 61.00 BPM\n",
      "Fugue3.mid 빠르기 변화: -4.00 BPM\n",
      "Prelude1.mid 빠르기: 60.00 BPM -> 50.00 BPM\n",
      "Prelude1.mid 빠르기 변화: -10.00 BPM\n",
      "---------------------------------------------------------------\n",
      "트랙 1 및 1, 시간: 0.00초 - 0.00초\n",
      "Fugue3.mid 빠르기: 61.00 BPM -> 58.00 BPM\n",
      "Fugue3.mid 빠르기 변화: -3.00 BPM\n",
      "Prelude1.mid 빠르기: 50.00 BPM -> 49.00 BPM\n",
      "Prelude1.mid 빠르기 변화: -1.00 BPM\n",
      "---------------------------------------------------------------\n"
     ]
    }
   ],
   "source": [
    "from mido import MidiFile, MidiTrack\n",
    "\n",
    "def calculate_tempo_changes(midi_file_path):\n",
    "    mid = MidiFile(midi_file_path)\n",
    "\n",
    "    tempo_changes = []\n",
    "    current_tempo = None\n",
    "\n",
    "    for i, track in enumerate(mid.tracks):\n",
    "        for msg in track:\n",
    "            if msg.type == 'set_tempo':\n",
    "                tempo = mido.tempo2bpm(msg.tempo)\n",
    "                if current_tempo is not None and current_tempo != tempo:\n",
    "                    time_in_seconds = mido.tick2second(msg.time, mid.ticks_per_beat, current_tempo)\n",
    "                    tempo_changes.append((i, time_in_seconds, current_tempo, tempo))\n",
    "                current_tempo = tempo\n",
    "\n",
    "    return tempo_changes\n",
    "\n",
    "def compare_tempo_changes(file1, file2):\n",
    "    changes1 = calculate_tempo_changes(file1)\n",
    "    changes2 = calculate_tempo_changes(file2)\n",
    "\n",
    "    print(f\"빠르기 변화 비교 ({file1} vs {file2}):\")\n",
    "    for i in range(min(len(changes1), len(changes2))):\n",
    "        track1, time1, tempo1_start, tempo1_end = changes1[i]\n",
    "        track2, time2, tempo2_start, tempo2_end = changes2[i]\n",
    "\n",
    "        print(f\"트랙 {track1 + 1} 및 {track2 + 1}, 시간: {time1:.2f}초 - {time2:.2f}초\")\n",
    "        print(f\"{file1} 빠르기: {tempo1_start:.2f} BPM -> {tempo1_end:.2f} BPM\")\n",
    "        print(f\"{file1} 빠르기 변화: {tempo1_end-tempo1_start:.2f} BPM\") # 절댓값으로 하려면 abs() 사용\n",
    "        print(f\"{file2} 빠르기: {tempo2_start:.2f} BPM -> {tempo2_end:.2f} BPM\")\n",
    "        print(f\"{file2} 빠르기 변화: {tempo2_end-tempo2_start:.2f} BPM\") # 절댓값으로 하려면 abs() 사용\n",
    "        print(\"---------------------------------------------------------------\")\n",
    "\n",
    "if __name__ == \"__main__\":\n",
    "    midi_file1 = \"Fugue3.mid\"\n",
    "    midi_file2 = \"Fugue1.mid\"\n",
    "    midi_file3 = \"Prelude1.mid\"\n",
    "    midi_file4 = \"MIDI_sample.mid\"\n",
    "\n",
    "    #compare_tempo_changes(midi_file1, midi_file2)\n",
    "    #compare_tempo_changes(midi_file1, midi_file3)\n",
    "    compare_tempo_changes(midi_file1, midi_file3)"
   ]
  },
  {
   "cell_type": "markdown",
   "id": "94e39a48",
   "metadata": {},
   "source": [
    "# 6. 붙임줄, 스타카토, 테누토, 늘임표"
   ]
  },
  {
   "cell_type": "code",
   "execution_count": null,
   "id": "a3a9aee4",
   "metadata": {},
   "outputs": [],
   "source": []
  },
  {
   "cell_type": "markdown",
   "id": "61535348",
   "metadata": {},
   "source": [
    "# 7. 악센트"
   ]
  },
  {
   "cell_type": "code",
   "execution_count": null,
   "id": "8de7820c",
   "metadata": {},
   "outputs": [],
   "source": []
  },
  {
   "cell_type": "markdown",
   "id": "000307d4",
   "metadata": {},
   "source": [
    "# 8. 옥타브"
   ]
  },
  {
   "cell_type": "code",
   "execution_count": 191,
   "id": "57cd1007",
   "metadata": {},
   "outputs": [
    {
     "name": "stdout",
     "output_type": "stream",
     "text": [
      "Fugue1.mid의 옥타브 정보: [5, 5, 5, 6, 6, 6, 5, 6, 5, 6, 6, 6, 6, 5, 5, 5, 5, 6, 5, 6, 6, 6, 6, 6, 6, 6, 5, 6, 5, 6, 6, 5, 5, 5, 5, 5, 5, 5, 5, 5, 5, 5, 5, 6, 5, 6, 6, 6, 6, 6, 6, 6, 6, 6, 6, 6, 6, 6, 6, 6, 6, 6, 6, 6, 6, 6, 6, 6, 6, 6, 6, 6, 6, 6, 6, 5, 5, 6, 5, 5, 6, 5, 5, 6, 6, 6, 5, 5, 5, 5, 5, 6, 5, 5, 5, 5, 5, 5, 6, 6, 6, 6, 6, 5, 6, 5, 6, 5, 6, 5, 6, 5, 6, 5, 5, 5, 5, 5, 5, 6, 6, 6, 5, 6, 6, 6, 6, 6, 6, 6, 6, 6, 6, 6, 6, 6, 6, 6, 6, 6, 6, 6, 6, 6, 6, 6, 6, 6, 6, 6, 6, 6, 6, 6, 6, 6, 6, 6, 6, 6, 6, 6, 6, 6, 6, 6, 5, 5, 5, 6, 6, 6, 5, 6, 5, 6, 6, 6, 6, 5, 6, 6, 6, 6, 6, 6, 6, 6, 6, 6, 6, 6, 5, 6, 5, 6, 6, 5, 6, 5, 6, 5, 5, 5, 6, 6, 6, 6, 6, 6, 6, 6, 6, 6, 6, 6, 6, 5, 5, 5, 6, 6, 6, 6, 6, 6, 6, 6, 6, 6, 6, 7, 5, 5, 5, 5, 5, 5, 5, 5, 5, 5, 5, 5, 5, 5, 5, 5, 5, 5, 5, 5, 4, 4, 5, 5, 5, 5, 5, 5, 5, 5, 5, 5, 5, 5, 5, 5, 5, 5, 5, 5, 5, 5, 5, 5, 5, 5, 5, 5, 5, 5, 6, 6, 6, 5, 6, 5, 6, 6, 6, 6, 5, 5, 5, 5, 5, 5, 5, 5, 5, 5, 5, 5, 5, 5, 5, 5, 5, 5, 5, 5, 5, 5, 5, 5, 5, 5, 5, 5, 5, 5, 5, 5, 5, 5, 5, 5, 5, 5, 5, 5, 5, 5, 5, 5, 5, 5, 5, 5, 5, 5, 5, 5, 5, 6, 6, 6, 5, 6, 5, 6, 6, 6, 6, 5, 6, 6, 6, 6, 6, 6, 6, 5, 5, 5, 5, 5, 5, 5, 5, 6, 5, 5, 6, 5, 5, 5, 5, 5, 5, 5, 5, 5, 5, 5, 5, 5, 5, 5, 5, 5, 5, 6, 6, 5, 5, 5, 5, 5, 5, 5, 5, 5, 5, 5, 5, 6, 5, 5, 6, 5, 6, 6, 6, 5, 5, 5, 5, 5, 5, 5, 5, 5, 5, 5, 6, 6, 6, 6, 4, 4, 4, 5, 5, 5, 4, 5, 4, 5, 5, 5, 5, 4, 5, 4, 4, 5, 4, 5, 4, 4, 5, 5, 4, 4, 4, 4, 5, 5, 5, 4, 5, 4, 5, 5, 5, 5, 4, 5, 5, 4, 5, 4, 5, 5, 5, 4, 5, 4, 4, 5, 5, 5, 4, 4, 4, 4, 4, 4, 4, 4, 4, 4, 5, 4, 4, 5, 4, 4, 4, 4, 4, 4, 4, 4, 4, 5, 5, 5, 4, 5, 4, 5, 4, 5, 5, 4, 5, 5, 4, 4, 5, 5, 5, 5, 5, 5, 4, 5, 5, 5, 5, 5, 4, 4, 5, 5, 5, 5, 5, 5, 4, 5, 5, 5, 5, 5, 5, 5, 4, 4, 4, 4, 4, 4, 4, 5, 5, 5, 5, 5, 5, 5, 5, 5, 5, 5, 5, 5, 5, 5, 4, 4, 4, 4, 4, 4, 4, 4, 4, 4, 4, 4, 4, 4, 4, 4, 4, 4, 4, 4, 4, 4, 4, 4, 4, 4, 4, 4, 4, 5, 4, 5, 5, 4, 4, 4, 4, 4, 4, 4, 4, 4, 4, 4, 4, 4, 4, 4, 4, 4, 4, 4, 4, 3, 3, 4, 4, 4, 4, 4, 4, 4, 4, 4, 4, 4, 4, 4, 5, 5, 5, 4, 4, 4, 5, 3, 3, 3, 4, 4, 4, 3, 4, 3, 4, 4, 4, 4, 3, 4, 4, 4, 4, 4, 4, 4, 4, 4, 4, 4, 3, 3, 3, 3, 4, 4, 4, 3, 4, 3, 4, 4, 4, 4, 3, 3, 3, 3, 3, 4, 4, 4, 4, 4, 4, 4, 4, 4, 4, 4, 4, 4, 4, 4, 4, 4, 4, 4, 4, 4, 4, 4, 4, 4, 4, 3, 3, 3, 3, 3, 4, 4, 4, 4, 4, 4, 4, 4, 4, 4, 5, 4, 4, 4, 4, 4, 4, 4, 3, 4, 4, 4, 4, 4, 3, 4, 4]\n",
      "Fugue3.mid의 옥타브 정보: [5, 5, 5, 5, 5, 6, 6, 5, 5, 5, 5, 6, 5, 6, 5, 6, 5, 6, 6, 6, 6, 6, 6, 6, 6, 6, 6, 6, 6, 6, 6, 6, 6, 6, 6, 6, 6, 6, 6, 6, 6, 6, 5, 5, 6, 6, 6, 6, 6, 6, 6, 6, 5, 6, 6, 6, 5, 5, 6, 6, 6, 5, 5, 6, 6, 6, 5, 6, 6, 6, 6, 6, 6, 6, 6, 6, 6, 6, 6, 7, 6, 6, 6, 6, 6, 6, 6, 6, 5, 6, 5, 5, 6, 6, 6, 5, 5, 6, 6, 6, 6, 6, 6, 6, 6, 6, 6, 6, 6, 6, 6, 6, 6, 6, 6, 6, 6, 6, 6, 6, 6, 5, 5, 5, 5, 5, 5, 5, 5, 5, 5, 5, 5, 5, 5, 5, 5, 5, 5, 5, 5, 5, 5, 5, 5, 5, 5, 5, 5, 5, 5, 5, 5, 5, 5, 6, 6, 6, 5, 6, 5, 5, 5, 6, 5, 6, 5, 6, 5, 5, 5, 5, 5, 5, 5, 6, 6, 6, 6, 5, 5, 5, 5, 5, 5, 6, 5, 5, 6, 5, 5, 5, 5, 5, 5, 6, 5, 6, 5, 6, 6, 6, 6, 6, 7, 6, 6, 6, 6, 6, 6, 6, 6, 6, 6, 5, 5, 5, 5, 6, 6, 5, 5, 5, 5, 6, 5, 5, 5, 5, 6, 6, 5, 5, 5, 5, 5, 6, 6, 6, 6, 6, 6, 7, 6, 6, 6, 6, 6, 6, 6, 6, 5, 6, 5, 5, 5, 5, 5, 5, 6, 5, 6, 6, 5, 6, 6, 6, 5, 5, 5, 5, 5, 5, 5, 5, 5, 5, 5, 5, 5, 5, 5, 5, 6, 6, 6, 5, 5, 6, 6, 6, 6, 6, 6, 5, 6, 6, 6, 6, 6, 6, 6, 6, 6, 6, 6, 6, 6, 6, 5, 6, 6, 5, 6, 6, 6, 6, 6, 6, 6, 6, 6, 6, 6, 6, 5, 5, 6, 5, 6, 6, 6, 6, 6, 6, 6, 6, 5, 6, 6, 5, 5, 5, 5, 5, 6, 6, 6, 6, 6, 6, 6, 6, 5, 5, 6, 5, 5, 5, 5, 5, 5, 5, 5, 5, 5, 5, 5, 5, 6, 6, 5, 5, 5, 5, 5, 5, 5, 5, 5, 5, 5, 6, 6, 5, 5, 5, 5, 5, 5, 5, 5, 5, 5, 5, 6, 6, 5, 5, 5, 5, 5, 5, 6, 6, 6, 6, 6, 6, 6, 6, 6, 6, 6, 6, 6, 6, 6, 6, 6, 6, 6, 6, 6, 6, 6, 6, 6, 6, 6, 6, 6, 6, 6, 6, 6, 6, 6, 6, 6, 6, 6, 6, 6, 5, 6, 6, 6, 6, 6, 6, 6, 6, 6, 6, 6, 6, 6, 6, 5, 5, 5, 6, 6, 6, 6, 6, 6, 6, 6, 6, 6, 6, 5, 6, 5, 5, 5, 6, 6, 6, 6, 6, 6, 6, 6, 6, 6, 6, 5, 5, 5, 5, 5, 6, 6, 5, 5, 5, 5, 6, 5, 6, 5, 6, 5, 6, 6, 6, 6, 6, 6, 6, 6, 6, 6, 6, 6, 6, 6, 6, 6, 6, 6, 6, 6, 6, 6, 6, 6, 6, 5, 6, 6, 6, 6, 6, 6, 6, 6, 5, 6, 5, 5, 5, 5, 5, 5, 5, 5, 5, 5, 4, 5, 5, 5, 5, 6, 6, 6, 6, 6, 5, 5, 5, 5, 5, 5, 5, 6, 6, 5, 5, 5, 5, 6, 5, 5, 6, 5, 6, 5, 5, 5, 5, 5, 6, 6, 6, 6, 6, 6, 6, 6, 6, 6, 6, 6, 6, 5, 5, 6, 5, 5, 6, 5, 6, 6, 5, 5, 5, 5, 5, 6, 5, 5, 5, 5, 5, 5, 5, 5, 4, 5, 4, 5, 5, 5, 5, 6, 5, 6, 6, 5, 6, 6, 6, 5, 5, 5, 5, 5, 5, 5, 5, 5, 5, 5, 5, 5, 5, 5, 5, 6, 6, 5, 5, 5, 6, 6, 5, 5, 5, 5, 6, 6, 5, 6, 5, 5, 5, 5, 5, 5, 5, 5, 5, 5, 5, 5, 5, 5, 5, 5, 5, 5, 5, 4, 5, 5, 5, 4, 4, 4, 4, 4, 4, 4, 4, 4, 4, 4, 5, 5, 6, 6, 5, 6, 5, 5, 6, 6, 5, 5, 5, 5, 5, 6, 5, 5, 5, 5, 5, 4, 5, 5, 5, 4, 4, 4, 5, 4, 4, 5, 4, 4, 4, 4, 4, 4, 4, 4, 4, 4, 4, 4, 4, 5, 4, 4, 4, 4, 4, 4, 4, 4, 4, 3, 4, 4, 4, 4, 4, 4, 5, 5, 5, 5, 5, 5, 5, 5, 5, 4, 4, 4, 5, 5, 6, 5, 5, 5, 5, 5, 4, 4, 4, 4, 4, 5, 5, 4, 4, 4, 4, 5, 4, 5, 5, 5, 6, 6, 6, 6, 5, 5, 6, 5, 5, 4, 4, 4, 4, 4, 4, 4, 4, 4, 4, 4, 4, 4, 4, 4, 4, 4, 4, 4, 4, 4, 5, 5, 5, 5, 5, 5, 6, 5, 5, 5, 5, 5, 5, 5, 5, 4, 5, 4, 5, 5, 5, 5, 6, 5, 6, 6, 5, 6, 6, 6, 5, 5, 5, 5, 5, 5, 5, 5, 5, 5, 5, 5, 5, 5, 5, 5, 5, 5, 5, 5, 5, 4, 5, 5, 5, 5, 4, 4, 5, 5, 5, 5, 5, 5, 5, 4, 5, 5, 5, 4, 4, 4, 4, 4, 4, 4, 4, 4, 4, 4, 4, 4, 4, 4, 4, 4, 5, 5, 5, 4, 4, 4, 4, 4, 4, 4, 4, 4, 4, 4, 4, 5, 4, 5, 5, 5, 5, 5, 5, 5, 5, 5, 5, 4, 4, 4, 4, 4, 5, 5, 4, 4, 4, 4, 5, 4, 5, 4, 5, 4, 5, 5, 5, 5, 5, 5, 4, 5, 5, 4, 4, 4, 4, 4, 4, 5, 4, 5, 5, 5, 5, 4, 4, 5, 4, 4, 4, 4, 4, 3, 4, 4, 4, 5, 5, 4, 4, 4, 4, 4, 4, 4, 4, 4, 3, 4, 4, 5, 4, 5, 5, 4, 4, 4, 4, 4, 4, 5, 5, 4, 4, 4, 4, 4, 4, 4, 4, 3, 3, 4, 4, 4, 4, 4, 5, 4, 4, 4, 4, 4, 5, 4, 4, 4, 4, 3, 4, 4, 4, 5, 5, 4, 4, 4, 4, 4, 4, 4, 4, 4, 3, 4, 4, 4, 4, 5, 4, 4, 4, 4, 4, 4, 4, 4, 4, 3, 4, 4, 4, 4, 4, 4, 4, 4, 4, 4, 4, 4, 4, 4, 3, 3, 3, 3, 4, 4, 4, 4, 4, 4, 4, 4, 4, 4, 4, 4, 4, 4, 3, 4, 4, 3, 3, 4, 3, 3, 3, 3, 3, 4, 3, 4, 3, 3, 3, 4, 4, 4, 3, 3, 4, 4, 4, 4, 4, 4, 4, 4, 4, 4, 4, 4, 4, 4, 4, 4, 4, 4, 4, 4, 4, 4, 4, 3, 4, 4, 4, 4, 4, 4, 4, 4, 3, 4, 4, 4, 4, 4, 4, 4, 4, 4, 4, 4, 4, 5, 4, 4, 5, 5, 5, 5, 4, 4, 4, 4, 4, 4, 4, 4, 4, 4, 4, 4, 3, 4, 4, 3, 3, 4, 4, 4, 4, 3, 3, 4, 4, 4, 4, 3, 3, 4, 4, 3, 3, 3, 3, 4, 4, 3, 3, 3, 3, 4, 4, 4, 4, 4, 4, 4, 4, 4, 4, 4, 3, 4, 4, 4, 4, 4, 4, 4, 4, 4, 4, 4, 3, 4, 3, 4, 3, 4, 3, 4, 3, 4, 4, 4, 3, 4, 4, 4, 3, 4, 4, 4, 3, 4, 3, 5, 5, 5, 5, 4, 5, 5, 5, 5, 5, 5, 5, 6, 5, 5, 5, 5, 5, 4, 5, 5, 5, 5, 5, 5, 6, 5, 5, 5, 5, 5, 4, 5, 5, 5, 5, 5, 5, 5, 5, 5, 5, 4, 5, 4, 4, 5, 5, 5, 5, 5, 5, 5, 5, 5, 5, 4, 5, 5, 5, 4, 4, 4, 4, 4, 4, 4, 4, 4, 4, 4, 4, 4, 4, 4, 4, 4, 5, 5, 5, 4, 4, 4, 4, 4, 4, 4, 4, 4, 4, 5, 5, 4, 4, 4, 4, 5, 4, 5, 4, 5, 4, 3, 4, 4, 4, 4, 4, 4, 4, 3, 4, 4, 4, 4, 4, 4, 4, 4, 4, 4, 4, 4, 4, 4, 3, 4, 4, 4, 4, 4, 4, 4, 4, 4, 4, 3, 4, 4, 3, 3, 4, 4, 4, 4, 4, 4, 4, 4, 4, 4, 3, 3, 4, 3, 3, 4, 4, 4, 4, 4, 4, 4, 4, 4, 4, 3, 3, 4, 4, 3, 3, 3, 3, 3, 3]\n",
      "Fugue1.mid과 Fugue3.mid의 옥타브 평가 점수: 17.70 / 100\n",
      "Fugue1.mid의 옥타브 평가 레벨: 2\n"
     ]
    }
   ],
   "source": [
    "from mido import MidiFile\n",
    "\n",
    "def evaluate_octave_difference(input_path, target_path):\n",
    "    input_mid = MidiFile(input_path)\n",
    "    target_mid = MidiFile(target_path)\n",
    "\n",
    "    # 각 곡의 옥타브 정보 추출\n",
    "    input_octaves = [msg.note // 12 for track in input_mid.tracks for msg in track if msg.type == 'note_on']\n",
    "    target_octaves = [msg.note // 12 for track in target_mid.tracks for msg in track if msg.type == 'note_on']\n",
    "\n",
    "    # 두 곡의 옥타브 일치 여부를 평가하여 점수를 계산\n",
    "    octave_matching_score = sum(1 for input_octave, target_octave in zip(input_octaves, target_octaves) if input_octave == target_octave)\n",
    "\n",
    "    # 두 곡의 옥타브 일치 비율을 계산\n",
    "    octave_matching_ratio = octave_matching_score / len(target_octaves)\n",
    "\n",
    "    # 옥타브 일치 점수를 만점(100점) 기준으로 계산\n",
    "    score = octave_matching_ratio * 100\n",
    "\n",
    "    # 옥타브 정보 출력\n",
    "    print(f\"{input_path}의 옥타브 정보: {input_octaves}\")\n",
    "    print(f\"{target_path}의 옥타브 정보: {target_octaves}\")\n",
    "\n",
    "    return score\n",
    "\n",
    "def calculate_octave_level(score):\n",
    "    \"\"\"\n",
    "    두 곡 간의 옥타브 평가 점수를 기반으로 Level을 계산하는 함수\n",
    "\n",
    "    Arg:\n",
    "        score: 현재 점수\n",
    "\n",
    "    Returns:\n",
    "        계산된 Level\n",
    "    \"\"\"\n",
    "    score = float(score)  # 문자열에서 숫자로 변환\n",
    "    level = int(min(10, round(score / 10))) # 최대 Level은 10\n",
    "    return level\n",
    "\n",
    "# MIDI 파일의 경로를 지정\n",
    "input_path = 'Fugue1.mid'\n",
    "target_path = 'Fugue3.mid'\n",
    "\n",
    "# 평가 점수 계산\n",
    "score = evaluate_octave_difference(input_path, target_path)\n",
    "level = calculate_octave_level(score)\n",
    "\n",
    "# 결과 출력\n",
    "print(f\"{input_path}과 {target_path}의 옥타브 평가 점수: {score:.2f} / 100\")\n",
    "print(f\"{input_path}의 옥타브 평가 레벨: {level}\")"
   ]
  },
  {
   "cell_type": "code",
   "execution_count": 192,
   "id": "5a0bcf76",
   "metadata": {},
   "outputs": [
    {
     "name": "stdout",
     "output_type": "stream",
     "text": [
      "Fugue1.mid의 옥타브 정보: [5, 5, 5, 6, 6, 6, 5, 6, 5, 6, 6, 6, 6, 5, 5, 5, 5, 6, 5, 6, 6, 6, 6, 6, 6, 6, 5, 6, 5, 6, 6, 5, 5, 5, 5, 5, 5, 5, 5, 5, 5, 5, 5, 6, 5, 6, 6, 6, 6, 6, 6, 6, 6, 6, 6, 6, 6, 6, 6, 6, 6, 6, 6, 6, 6, 6, 6, 6, 6, 6, 6, 6, 6, 6, 6, 5, 5, 6, 5, 5, 6, 5, 5, 6, 6, 6, 5, 5, 5, 5, 5, 6, 5, 5, 5, 5, 5, 5, 6, 6, 6, 6, 6, 5, 6, 5, 6, 5, 6, 5, 6, 5, 6, 5, 5, 5, 5, 5, 5, 6, 6, 6, 5, 6, 6, 6, 6, 6, 6, 6, 6, 6, 6, 6, 6, 6, 6, 6, 6, 6, 6, 6, 6, 6, 6, 6, 6, 6, 6, 6, 6, 6, 6, 6, 6, 6, 6, 6, 6, 6, 6, 6, 6, 6, 6, 6, 5, 5, 5, 6, 6, 6, 5, 6, 5, 6, 6, 6, 6, 5, 6, 6, 6, 6, 6, 6, 6, 6, 6, 6, 6, 6, 5, 6, 5, 6, 6, 5, 6, 5, 6, 5, 5, 5, 6, 6, 6, 6, 6, 6, 6, 6, 6, 6, 6, 6, 6, 5, 5, 5, 6, 6, 6, 6, 6, 6, 6, 6, 6, 6, 6, 7, 5, 5, 5, 5, 5, 5, 5, 5, 5, 5, 5, 5, 5, 5, 5, 5, 5, 5, 5, 5, 4, 4, 5, 5, 5, 5, 5, 5, 5, 5, 5, 5, 5, 5, 5, 5, 5, 5, 5, 5, 5, 5, 5, 5, 5, 5, 5, 5, 5, 5, 6, 6, 6, 5, 6, 5, 6, 6, 6, 6, 5, 5, 5, 5, 5, 5, 5, 5, 5, 5, 5, 5, 5, 5, 5, 5, 5, 5, 5, 5, 5, 5, 5, 5, 5, 5, 5, 5, 5, 5, 5, 5, 5, 5, 5, 5, 5, 5, 5, 5, 5, 5, 5, 5, 5, 5, 5, 5, 5, 5, 5, 5, 5, 6, 6, 6, 5, 6, 5, 6, 6, 6, 6, 5, 6, 6, 6, 6, 6, 6, 6, 5, 5, 5, 5, 5, 5, 5, 5, 6, 5, 5, 6, 5, 5, 5, 5, 5, 5, 5, 5, 5, 5, 5, 5, 5, 5, 5, 5, 5, 5, 6, 6, 5, 5, 5, 5, 5, 5, 5, 5, 5, 5, 5, 5, 6, 5, 5, 6, 5, 6, 6, 6, 5, 5, 5, 5, 5, 5, 5, 5, 5, 5, 5, 6, 6, 6, 6, 4, 4, 4, 5, 5, 5, 4, 5, 4, 5, 5, 5, 5, 4, 5, 4, 4, 5, 4, 5, 4, 4, 5, 5, 4, 4, 4, 4, 5, 5, 5, 4, 5, 4, 5, 5, 5, 5, 4, 5, 5, 4, 5, 4, 5, 5, 5, 4, 5, 4, 4, 5, 5, 5, 4, 4, 4, 4, 4, 4, 4, 4, 4, 4, 5, 4, 4, 5, 4, 4, 4, 4, 4, 4, 4, 4, 4, 5, 5, 5, 4, 5, 4, 5, 4, 5, 5, 4, 5, 5, 4, 4, 5, 5, 5, 5, 5, 5, 4, 5, 5, 5, 5, 5, 4, 4, 5, 5, 5, 5, 5, 5, 4, 5, 5, 5, 5, 5, 5, 5, 4, 4, 4, 4, 4, 4, 4, 5, 5, 5, 5, 5, 5, 5, 5, 5, 5, 5, 5, 5, 5, 5, 4, 4, 4, 4, 4, 4, 4, 4, 4, 4, 4, 4, 4, 4, 4, 4, 4, 4, 4, 4, 4, 4, 4, 4, 4, 4, 4, 4, 4, 5, 4, 5, 5, 4, 4, 4, 4, 4, 4, 4, 4, 4, 4, 4, 4, 4, 4, 4, 4, 4, 4, 4, 4, 3, 3, 4, 4, 4, 4, 4, 4, 4, 4, 4, 4, 4, 4, 4, 5, 5, 5, 4, 4, 4, 5, 3, 3, 3, 4, 4, 4, 3, 4, 3, 4, 4, 4, 4, 3, 4, 4, 4, 4, 4, 4, 4, 4, 4, 4, 4, 3, 3, 3, 3, 4, 4, 4, 3, 4, 3, 4, 4, 4, 4, 3, 3, 3, 3, 3, 4, 4, 4, 4, 4, 4, 4, 4, 4, 4, 4, 4, 4, 4, 4, 4, 4, 4, 4, 4, 4, 4, 4, 4, 4, 4, 3, 3, 3, 3, 3, 4, 4, 4, 4, 4, 4, 4, 4, 4, 4, 5, 4, 4, 4, 4, 4, 4, 4, 3, 4, 4, 4, 4, 4, 3, 4, 4]\n",
      "Prelude1.mid의 옥타브 정보: [5, 6, 6, 5, 6, 6, 5, 6, 6, 5, 6, 6, 5, 6, 6, 5, 6, 6, 5, 6, 6, 5, 6, 6, 5, 6, 6, 5, 6, 6, 5, 6, 6, 5, 6, 6, 5, 6, 6, 5, 6, 6, 5, 6, 6, 5, 6, 6, 5, 6, 6, 5, 6, 6, 5, 6, 6, 5, 6, 6, 5, 5, 6, 5, 5, 6, 5, 5, 6, 5, 5, 6, 5, 6, 6, 5, 6, 6, 5, 6, 6, 5, 6, 6, 5, 5, 6, 5, 5, 6, 5, 5, 6, 5, 5, 6, 5, 5, 6, 5, 5, 6, 5, 5, 6, 5, 5, 6, 5, 5, 6, 5, 5, 6, 5, 5, 6, 5, 5, 6, 5, 5, 5, 5, 5, 5, 5, 5, 5, 5, 5, 5, 5, 5, 6, 5, 5, 6, 5, 5, 6, 5, 5, 6, 5, 5, 6, 5, 5, 6, 5, 5, 6, 5, 5, 6, 5, 5, 5, 5, 5, 5, 5, 5, 5, 5, 5, 5, 5, 5, 6, 5, 5, 6, 5, 5, 6, 5, 5, 6, 4, 5, 5, 4, 5, 5, 4, 5, 5, 4, 5, 5, 4, 5, 5, 4, 5, 5, 4, 5, 5, 4, 5, 5, 4, 4, 5, 4, 4, 5, 4, 4, 5, 4, 4, 5, 4, 5, 5, 4, 5, 5, 4, 5, 5, 4, 5, 5, 4, 5, 5, 4, 5, 5, 4, 5, 5, 4, 5, 5, 4, 5, 5, 4, 5, 5, 4, 5, 5, 4, 5, 5, 4, 5, 5, 4, 5, 5, 4, 5, 5, 4, 5, 5, 4, 5, 5, 4, 5, 5, 4, 5, 5, 4, 5, 5, 4, 4, 5, 4, 4, 5, 4, 4, 5, 4, 4, 5, 4, 5, 5, 4, 5, 5, 4, 5, 5, 4, 5, 5, 4, 5, 5, 4, 5, 5, 4, 5, 5, 4, 5, 5, 4, 4, 5, 4, 4, 5, 4, 4, 5, 4, 4, 5, 4, 5, 5, 4, 5, 5, 4, 5, 5, 4, 5, 5, 4, 5, 5, 4, 5, 5, 4, 5, 5, 4, 5, 5, 4, 5, 5, 4, 5, 5, 4, 5, 5, 4, 5, 5, 4, 4, 5, 4, 4, 5, 4, 4, 5, 4, 4, 5, 4, 4, 5, 4, 4, 5, 4, 4, 5, 4, 4, 5, 4, 4, 5, 5, 5, 4, 5, 4, 4, 4, 4, 4, 4, 4, 5, 5, 6, 6, 6, 5, 6, 5, 5, 5, 5, 5, 5, 5, 5, 5, 5, 5, 6, 5, 5, 5, 5, 5, 5, 5, 5, 4, 5, 4, 5, 5, 5, 5, 5, 5, 5, 5, 5, 5, 5, 5, 5, 4, 5, 4, 5, 4, 5, 4, 5, 4, 5, 4, 5, 4, 4, 4, 4, 4, 4, 4, 4, 4, 4, 4, 4, 4, 4, 4, 4, 4, 4, 4, 4, 4, 4, 4, 4, 4, 4, 4, 4, 4, 4, 4, 4, 3, 4, 3, 4, 4, 4, 4, 4, 4, 4, 4, 4, 3, 4, 3, 4, 3, 4, 3, 4, 3, 4, 3, 4, 3, 4, 3, 4, 3, 4, 3, 4, 3, 4, 3, 4, 3, 4, 3, 4, 3, 4, 3, 4, 3, 4, 3, 4, 3, 4, 3, 4, 3, 4, 3, 4, 3, 4, 3, 4, 3, 4, 3, 3, 4, 3]\n",
      "Fugue1.mid과 Prelude1.mid의 옥타브 평가 점수: 41.02 / 100\n",
      "Fugue1.mid의 옥타브 평가 레벨: 4\n"
     ]
    }
   ],
   "source": [
    "input_path = 'Fugue1.mid'\n",
    "target_path = 'Prelude1.mid'\n",
    "\n",
    "# 평가 점수 계산\n",
    "score = evaluate_octave_difference(input_path, target_path)\n",
    "level = calculate_octave_level(score)\n",
    "\n",
    "# 결과 출력\n",
    "print(f\"{input_path}과 {target_path}의 옥타브 평가 점수: {score:.2f} / 100\")\n",
    "print(f\"{input_path}의 옥타브 평가 레벨: {level}\")"
   ]
  },
  {
   "cell_type": "code",
   "execution_count": 193,
   "id": "330d2ae5",
   "metadata": {},
   "outputs": [
    {
     "name": "stdout",
     "output_type": "stream",
     "text": [
      "sample_midi.mid의 옥타브 정보: [3, 4, 4, 5, 5, 3, 4, 4, 4, 5, 3, 4, 4, 4, 5, 3, 4, 4, 4, 5, 3, 4, 4, 5, 5, 3, 4, 4, 4, 5, 3, 4, 4, 5, 5, 3, 4, 4, 5, 5, 5, 3, 4, 4, 5, 5, 3, 4, 4, 4, 5, 3, 4, 4, 4, 5, 3, 4, 4, 4, 5, 3, 4, 4, 5, 5, 3, 4, 4, 4, 5, 3, 4, 4, 5, 5]\n",
      "sample_midi.mid의 옥타브 정보: [3, 4, 4, 5, 5, 3, 4, 4, 4, 5, 3, 4, 4, 4, 5, 3, 4, 4, 4, 5, 3, 4, 4, 5, 5, 3, 4, 4, 4, 5, 3, 4, 4, 5, 5, 3, 4, 4, 5, 5, 5, 3, 4, 4, 5, 5, 3, 4, 4, 4, 5, 3, 4, 4, 4, 5, 3, 4, 4, 4, 5, 3, 4, 4, 5, 5, 3, 4, 4, 4, 5, 3, 4, 4, 5, 5]\n",
      "sample_midi.mid과 sample_midi.mid의 옥타브 평가 점수: 100.00 / 100\n",
      "sample_midi.mid의 옥타브 평가 레벨: 10\n"
     ]
    }
   ],
   "source": [
    "input_path = 'sample_midi.mid'\n",
    "target_path = 'sample_midi.mid'\n",
    "\n",
    "# 평가 점수 계산\n",
    "score = evaluate_octave_difference(input_path, target_path)\n",
    "level = calculate_octave_level(score)\n",
    "\n",
    "# 결과 출력\n",
    "print(f\"{input_path}과 {target_path}의 옥타브 평가 점수: {score:.2f} / 100\")\n",
    "print(f\"{input_path}의 옥타브 평가 레벨: {level}\")"
   ]
  },
  {
   "cell_type": "markdown",
   "id": "c9a796d8",
   "metadata": {},
   "source": [
    "# 9. 꾸밈음, 반복 기호\n",
    "- 추가 조사 필요"
   ]
  },
  {
   "cell_type": "code",
   "execution_count": null,
   "id": "7b640107",
   "metadata": {},
   "outputs": [],
   "source": []
  },
  {
   "cell_type": "markdown",
   "id": "0755aa52",
   "metadata": {},
   "source": [
    "# 10. 리듬\n",
    "- 추가 조사 필요"
   ]
  },
  {
   "cell_type": "code",
   "execution_count": null,
   "id": "174adb6f",
   "metadata": {},
   "outputs": [],
   "source": []
  },
  {
   "cell_type": "markdown",
   "id": "d270747c",
   "metadata": {},
   "source": [
    "# 11. 페달링"
   ]
  },
  {
   "cell_type": "code",
   "execution_count": 72,
   "id": "87ce8c4f",
   "metadata": {},
   "outputs": [],
   "source": [
    "file_path = \"Fugue1.mid.mid\"\n",
    "\n",
    "mid = MidiFile(file_name)"
   ]
  },
  {
   "cell_type": "code",
   "execution_count": 73,
   "id": "83da3cc9",
   "metadata": {},
   "outputs": [
    {
     "data": {
      "text/plain": [
       "MidiTrack([\n",
       "  MetaMessage('time_signature', numerator=4, denominator=4, clocks_per_click=24, notated_32nd_notes_per_beat=8, time=0),\n",
       "  MetaMessage('set_tempo', tempo=937500, time=0),\n",
       "  MetaMessage('set_tempo', tempo=967742, time=24720),\n",
       "  MetaMessage('set_tempo', tempo=1000000, time=240),\n",
       "  MetaMessage('set_tempo', tempo=1052632, time=120),\n",
       "  MetaMessage('set_tempo', tempo=1132075, time=120),\n",
       "  MetaMessage('set_tempo', tempo=1200000, time=120),\n",
       "  MetaMessage('set_tempo', tempo=1463415, time=64),\n",
       "  MetaMessage('set_tempo', tempo=1578947, time=56),\n",
       "  MetaMessage('end_of_track', time=0)])"
      ]
     },
     "execution_count": 73,
     "metadata": {},
     "output_type": "execute_result"
    }
   ],
   "source": [
    "mid.tracks[0]"
   ]
  },
  {
   "cell_type": "code",
   "execution_count": 215,
   "id": "c51b92bd",
   "metadata": {},
   "outputs": [
    {
     "name": "stdout",
     "output_type": "stream",
     "text": [
      "Fugue1.mid의 페달 상태: [0, 0, 0, 0, 0, 0, 0, 0, 0, 0, 0, 0, 0, 0, 0, 0, 0, 0, 0, 0, 0, 0, 0, 0, 0, 0, 0, 0, 0, 0, 0, 0, 0, 0, 0, 0, 0, 0, 0, 0, 0, 0, 0, 0, 0, 0, 0, 0, 0, 0, 0, 0, 0, 0, 0, 0, 0, 0, 0, 0, 0, 0, 0, 0, 0, 0, 0, 0, 0, 0, 0, 0, 0, 0, 0, 0, 0, 0, 0, 0, 0, 0, 0, 0, 0, 0, 0, 0, 0, 0, 0, 0, 0, 0, 0, 0, 0, 0, 0, 0, 0, 0, 0, 0, 0, 0, 0, 0, 0, 0, 0, 0, 0, 0, 0, 0, 0, 0, 0, 0, 0, 0, 0, 0, 0, 0, 0, 0, 0, 0, 0, 0, 0, 0, 0, 0, 0, 0, 0, 0, 0, 0, 0, 0, 0, 0, 0, 0, 0, 0, 0, 0, 0, 0, 0, 0, 0, 0, 0, 0, 0, 0, 0, 0, 0, 0, 0, 0, 0, 0, 0, 0, 0, 0, 0, 0, 0, 0, 0, 0, 0, 0, 0, 0, 0, 0, 0, 0, 0, 0, 0, 0, 0, 0, 0, 0, 0, 0, 0, 0, 0, 0, 0, 0, 0, 0, 0, 0, 0, 0, 0, 0, 0, 0, 0, 0, 0, 0, 0, 0, 0, 0, 0, 0, 0, 0, 0, 0, 0, 0, 0, 0, 0, 0, 0, 0, 0, 0, 0, 0, 0, 0, 0, 0, 0, 0, 0, 0, 0, 0, 0, 0, 0, 0, 0, 0, 0, 0, 0, 0, 0, 0, 0, 0, 0, 0, 0, 0, 0, 0, 0, 0, 0, 0, 0, 0, 0, 0, 0, 0, 0, 0, 0, 0, 0, 0, 0, 0, 0, 0, 0, 0, 0, 0, 0, 0, 0, 0, 0, 0, 0, 0, 0, 0, 0, 0, 0, 0, 0, 0, 0, 0, 0, 0, 0, 0, 0, 0, 0, 0, 0, 0, 0, 0, 0, 0, 0, 0, 0, 0, 0, 0, 0, 0, 0, 0, 0, 0, 0, 0, 0, 0, 0, 0, 0, 0, 0, 0, 0, 0, 0, 0, 0, 0, 0, 0, 0, 0, 0, 0, 0, 0, 0, 0, 0, 0, 0, 0, 0, 0, 0, 0, 0, 0, 0, 0, 0, 0, 0, 0, 0, 0, 0, 0, 0, 0, 0, 0, 0, 0, 0, 0, 0, 0, 0, 0, 0, 0, 0, 0, 0, 0, 0, 0, 0, 0, 0, 0, 0, 0, 0, 0, 0, 0, 0, 0, 0, 0, 0, 0, 0, 0, 0, 0, 0, 0, 0, 0, 0, 0, 0, 0, 0, 0, 0, 0, 0, 0, 0, 0, 0, 0, 0, 0, 0, 0, 0, 0, 0, 0, 0, 0, 0, 0, 0, 0, 0, 0, 0, 0, 0, 0, 0, 0, 0, 0, 0, 0, 0, 0, 0, 0, 0, 0, 0, 0, 0, 0, 0, 0, 0, 0, 0, 0, 0, 0, 0, 0, 0, 0, 0, 0, 0, 0, 0, 0, 0, 0, 0, 0, 0, 0, 0, 0, 0, 0, 0, 0, 0, 0, 0, 0, 0, 0, 0, 0, 0, 0, 0, 0, 0, 0, 0, 0, 0, 0, 0, 0, 0, 0, 0, 0, 0, 0, 0, 0, 0, 0, 0, 0, 0, 0, 0, 0, 0, 0, 0, 0, 0, 0, 0, 0, 0, 0, 0, 0, 0, 0, 0, 0, 0, 0, 0, 0, 0, 0, 0, 0, 0, 0, 0, 0, 0, 0, 0, 0, 0, 0, 0, 0, 0, 0, 0, 0, 0, 0, 0, 0, 0, 0, 0, 0, 0, 0, 0, 0, 0, 0, 0, 0, 0, 0, 0, 0, 0, 0, 0, 0, 0, 0, 0, 0, 0, 0, 0, 0, 0, 0, 0, 0, 0, 0, 0, 0, 0, 0, 0, 0, 0, 0, 0, 0, 0, 0, 0, 0, 0, 0, 0, 0, 0, 0, 0, 0, 0, 0, 0, 0, 0, 0, 0, 0, 0, 0, 0, 0, 0, 0, 0, 0, 0, 0, 0, 0, 0, 0, 0, 0, 0, 0, 0, 0, 0, 0, 0, 0, 0, 0, 0, 0, 0, 0, 0, 0, 0, 0, 0, 0, 0, 0, 0, 0, 0, 0, 0, 0, 0, 0, 0, 0, 0, 0, 0, 0, 0, 0, 0, 0, 0, 0, 0, 0, 0, 0, 0, 0, 0, 0, 0, 0, 0, 0, 0, 0, 0, 0, 0, 0, 0, 0, 0, 0, 0, 0, 0, 0, 0, 0, 0, 0, 0, 0, 0, 0, 0, 0, 0, 0, 0]\n",
      "MIDI_sample.mid의 페달 상태: [1, 0, 0, 0, 0, 0, 0, 0, 0, 0, 0, 0, 0, 0, 0, 0, 0, 0, 0, 0, 0, 0, 0, 0, 0, 0, 0, 0, 0, 0, 0, 0, 0, 0, 0, 0, 0, 0, 0, 0, 0, 0, 0, 0, 0, 0, 0, 0, 0, 0, 0, 0, 0, 0, 0, 0, 0, 0, 0, 0, 0, 0, 0, 0, 0, 0, 0, 0, 0, 0, 0, 0, 0, 0, 0, 0, 0, 0, 0, 0, 0, 0, 0, 0, 0, 0, 0, 0, 0, 0, 0, 0, 0, 0, 0, 0, 0, 0, 0, 0, 0, 0, 0, 0, 0, 0, 0, 0, 0, 0, 0, 0, 0, 0, 0, 0, 0, 0, 0, 0, 0, 0, 0, 0, 1, 0, 1, 0, 0, 0, 0, 0, 0, 0, 0, 0, 0, 0, 0, 0, 0, 0, 0, 0, 0, 0, 0, 0, 0, 0, 0, 0, 0, 0, 0, 0, 0, 0, 0, 0, 0, 0, 0, 0, 0, 0, 0, 0, 0, 0, 0, 0, 0, 0, 0, 0, 0, 0, 0, 0, 0, 0, 0, 0, 0, 0, 0, 0, 0, 0, 0, 0, 0, 0, 0, 0, 0, 0, 0, 0, 0, 0, 0, 0, 0, 0, 1, 0, 0, 0, 0, 0, 0, 0, 0, 0, 0, 0, 0, 0, 0, 0, 0, 0, 0, 0, 0, 0, 0, 0, 0, 0, 0, 0, 0, 0, 0, 0, 0, 0, 0, 0, 0, 0, 0, 0, 0, 0, 0, 0, 0, 0, 0, 0, 0, 0, 0, 0, 0, 0, 0, 0, 0, 0, 0, 0, 0, 0, 0, 0, 0, 0, 0, 0, 0, 0, 0, 0, 0, 0, 0, 0, 0, 0, 0, 0, 0, 0, 0, 0, 0, 0, 0, 0, 0, 0, 0, 0, 0, 0, 0, 0, 0, 0, 0, 0, 0, 0, 0, 0, 0, 0, 0, 0, 0, 0, 0, 0, 0, 0, 0, 0, 0, 0, 0, 0, 0, 0, 0, 0, 0, 0, 0, 0, 0, 0, 0, 0, 0, 0, 0, 0, 0, 0, 0, 0, 0, 0, 0, 0, 0, 0, 0, 0, 0, 0, 0, 0, 0, 0, 0, 0, 0, 0, 0, 0, 0, 0, 0, 0, 0, 0, 0, 0, 0, 0, 0, 0, 0, 0, 0, 0, 0, 0, 0, 0, 0, 0, 0, 0, 0, 0, 0, 0, 0, 0, 0, 0, 0, 0, 0, 0, 0, 0, 0, 0, 0, 0, 0, 0, 0, 0, 0, 0, 0, 0, 0, 0, 0, 0, 0, 0, 0, 0, 0, 0, 0, 0, 0, 0, 0, 0, 0, 0, 0, 0, 0, 0, 0, 0, 0, 0, 0, 0, 0, 0, 0, 0, 0, 0, 0, 0, 0, 0, 0, 0, 0, 0, 0, 0, 0, 0, 0, 0, 0, 0, 0, 0, 0, 0, 0, 0, 0, 0, 0, 0, 0, 0, 0, 0, 0, 0, 0, 0, 0, 0, 0, 0, 0, 0, 0, 0, 0, 0, 0, 0, 0, 0, 0, 0, 0, 0, 0, 0, 0, 0, 0, 0, 0, 0, 0, 0, 0, 0, 0, 0, 0, 0, 0, 0, 0, 0, 0, 0, 0, 0, 0, 0, 0, 0, 0, 0, 0, 0, 0, 0, 0, 0, 0, 0, 0, 0, 0, 0, 0, 0, 0, 0, 0, 0, 0, 0, 0, 0, 0, 0, 0, 0, 0, 0, 0, 0, 0, 0, 0, 0, 0, 0, 0, 0, 0, 0, 0, 0, 0, 0, 1, 0]\n",
      "MIDI_sample.mid에 대한 Fugue1.mid의 페달링 평가 점수: 76.50 / 100\n",
      "Fugue1.mid의 페달링 Level: 8\n"
     ]
    }
   ],
   "source": [
    "from mido import MidiFile\n",
    "\n",
    "def extract_pedal_and_note_durations(midi_file):\n",
    "    mid = MidiFile(midi_file)\n",
    "\n",
    "    note_durations = []  # 각 노트의 길이를 저장할 리스트\n",
    "    pedal_states = []  # 페달 상태를 저장할 리스트 (페달이 눌려져 있는지 여부)\n",
    "    control_values = []  # control_change 이벤트의 msg.control 값을 저장할 리스트\n",
    "\n",
    "    current_time = 0  # 현재 시간 초기화\n",
    "    current_pedal_state = 0  # 현재 페달 상태 초기화 (0은 페달 미작동)\n",
    "\n",
    "    for i, track in enumerate(mid.tracks):\n",
    "        for msg in track:\n",
    "            current_time += msg.time  # 현재 시간을 누적\n",
    "\n",
    "            if msg.type == 'note_on':\n",
    "                note_start = current_time  # 노트 시작 시간\n",
    "            elif msg.type == 'note_off':\n",
    "                note_end = current_time  # 노트 종료 시간\n",
    "                note_duration = note_end - note_start  # 노트 길이 계산\n",
    "                note_durations.append(note_duration)\n",
    "                pedal_states.append(current_pedal_state)  # 현재 페달 상태 저장\n",
    "                control_values.append(None)  # 노트 이벤트에서는 control_change 이벤트가 없으므로 None 저장\n",
    "\n",
    "            elif msg.type == 'control_change': # msg.contol == 64를 안해도 될까?\n",
    "                # control_change 이벤트 발생 시 페달 상태 및 control 값을 저장\n",
    "                current_pedal_state = 1 if msg.value > 0 else 0  # 0보다 크면 On, 아니면 Off로 처리\n",
    "                note_durations.append(None)  # control_change 이벤트에서는 노트 길이가 없으므로 None 저장\n",
    "                pedal_states.append(current_pedal_state)  # 현재 페달 상태 저장\n",
    "                control_values.append(msg.control)  # control_change 이벤트의 msg.control 값 저장\n",
    "\n",
    "    return note_durations, pedal_states\n",
    "\n",
    "def evaluate_pedaling(input_path, target_path):\n",
    "    # 두 곡의 페달 리스트 추출\n",
    "    _, input_pedals = extract_pedal_and_note_durations(input_path)\n",
    "    _, target_pedals = extract_pedal_and_note_durations(target_path)\n",
    "\n",
    "    # 각각의 곡의 페달 상태 출력\n",
    "    print(f\"{input_path}의 페달 상태:\", input_pedals)\n",
    "    print(f\"{target_path}의 페달 상태:\", target_pedals)\n",
    "\n",
    "    # 두 곡의 페달링 평가\n",
    "    if len(input_pedals) == 0 or len(target_pedals) == 0:\n",
    "        return 0.0  # 하나라도 곡이 페달 정보를 갖고 있지 않으면 평가 불가\n",
    "\n",
    "    # 페달링이 일치하는 부분의 수를 계산\n",
    "    matching_pedals = sum(1 for p1, p2 in zip(input_pedals, target_pedals) if p1 == p2)\n",
    "\n",
    "    # 페달링 일치 비율을 계산\n",
    "    pedal_matching_ratio = matching_pedals / len(input_pedals)\n",
    "\n",
    "    # 페달링 평가 점수 반환 (만점 100점 기준)\n",
    "    pedal_score = pedal_matching_ratio * 100\n",
    "\n",
    "    return pedal_score\n",
    "\n",
    "def calculate_pedal_level(score):\n",
    "    \"\"\"\n",
    "    두 곡 간의 페달링 평가 점수를 기반으로 Level을 계산하는 함수\n",
    "\n",
    "    Arg:\n",
    "        score: 현재 점수\n",
    "\n",
    "    Returns:\n",
    "        계산된 Level\n",
    "    \"\"\"\n",
    "    score = float(score)  # 문자열에서 숫자로 변환\n",
    "    level = int(min(10, round(score / 10))) # 최대 Level은 10\n",
    "    return level\n",
    "\n",
    "# MIDI 파일의 경로를 지정\n",
    "input_path = 'Fugue1.mid'\n",
    "target_path = 'MIDI_sample.mid'\n",
    "\n",
    "score = evaluate_pedaling(input_path, target_path)\n",
    "level = calculate_pedal_level(score)\n",
    "\n",
    "print(f\"{target_path}에 대한 {input_path}의 페달링 평가 점수: {score:.2f} / 100\")\n",
    "print(f\"{input_path}의 페달링 Level: {level}\")"
   ]
  },
  {
   "cell_type": "code",
   "execution_count": 216,
   "id": "9e311dbb",
   "metadata": {},
   "outputs": [
    {
     "name": "stdout",
     "output_type": "stream",
     "text": [
      "Fugue3.mid의 페달 상태: [0, 0, 0, 0, 0, 0, 0, 0, 0, 0, 0, 0, 0, 0, 0, 0, 0, 0, 0, 0, 0, 0, 0, 0, 0, 0, 0, 0, 0, 0, 0, 0, 0, 0, 0, 0, 0, 0, 0, 0, 0, 0, 0, 0, 0, 0, 0, 0, 0, 0, 0, 0, 0, 0, 0, 0, 0, 0, 0, 0, 0, 0, 0, 0, 0, 0, 0, 0, 0, 0, 0, 0, 0, 0, 0, 0, 0, 0, 0, 0, 0, 0, 0, 0, 0, 0, 0, 0, 0, 0, 0, 0, 0, 0, 0, 0, 0, 0, 0, 0, 0, 0, 0, 0, 0, 0, 0, 0, 0, 0, 0, 0, 0, 0, 0, 0, 0, 0, 0, 0, 0, 0, 0, 0, 0, 0, 0, 0, 0, 0, 0, 0, 0, 0, 0, 0, 0, 0, 0, 0, 0, 0, 0, 0, 0, 0, 0, 0, 0, 0, 0, 0, 0, 0, 0, 0, 0, 0, 0, 0, 0, 0, 0, 0, 0, 0, 0, 0, 0, 0, 0, 0, 0, 0, 0, 0, 0, 0, 0, 0, 0, 0, 0, 0, 0, 0, 0, 0, 0, 0, 0, 0, 0, 0, 0, 0, 0, 0, 0, 0, 0, 0, 0, 0, 0, 0, 0, 0, 0, 0, 0, 0, 0, 0, 0, 0, 0, 0, 0, 0, 0, 0, 0, 0, 0, 0, 0, 0, 0, 0, 0, 0, 0, 0, 0, 0, 0, 0, 0, 0, 0, 0, 0, 0, 0, 0, 0, 0, 0, 0, 0, 0, 0, 0, 0, 0, 0, 0, 0, 0, 0, 0, 0, 0, 0, 0, 0, 0, 0, 0, 0, 0, 0, 0, 0, 0, 0, 0, 0, 0, 0, 0, 0, 0, 0, 0, 0, 0, 0, 0, 0, 0, 0, 0, 0, 0, 0, 0, 0, 0, 0, 0, 0, 0, 0, 0, 0, 0, 0, 0, 0, 0, 0, 0, 0, 0, 0, 0, 0, 0, 0, 0, 0, 0, 0, 0, 0, 0, 0, 0, 0, 0, 0, 0, 0, 0, 0, 0, 0, 0, 0, 0, 0, 0, 0, 0, 0, 0, 0, 0, 0, 0, 0, 0, 0, 0, 0, 0, 0, 0, 0, 0, 0, 0, 0, 0, 0, 0, 0, 0, 0, 0, 0, 0, 0, 0, 0, 0, 0, 0, 0, 0, 0, 0, 0, 0, 0, 0, 0, 0, 0, 0, 0, 0, 0, 0, 0, 0, 0, 0, 0, 0, 0, 0, 0, 0, 0, 0, 0, 0, 0, 0, 0, 0, 0, 0, 0, 0, 0, 0, 0, 0, 0, 0, 0, 0, 0, 0, 0, 0, 0, 0, 0, 0, 0, 0, 0, 0, 0, 0, 0, 0, 0, 0, 0, 0, 0, 0, 0, 0, 0, 0, 0, 0, 0, 0, 0, 0, 0, 0, 0, 0, 0, 0, 0, 0, 0, 0, 0, 0, 0, 0, 0, 0, 0, 0, 0, 0, 0, 0, 0, 0, 0, 0, 0, 0, 0, 0, 0, 0, 0, 0, 0, 0, 0, 0, 0, 0, 0, 0, 0, 0, 0, 0, 0, 0, 0, 0, 0, 0, 0, 0, 0, 0, 0, 0, 0, 0, 0, 0, 0, 0, 0, 0, 0, 0, 0, 0, 0, 0, 0, 0, 0, 0, 0, 0, 0, 0, 0, 0, 0, 0, 0, 0, 0, 0, 0, 0, 0, 0, 0, 0, 0, 0, 0, 0, 0, 0, 0, 0, 0, 0, 0, 0, 0, 0, 0, 0, 0, 0, 0, 0, 0, 0, 0, 0, 0, 0, 0, 0, 0, 0, 0, 0, 0, 0, 0, 0, 0, 0, 0, 0, 0, 0, 0, 0, 0, 0, 0, 0, 0, 0, 0, 0, 0, 0, 0, 0, 0, 0, 0, 0, 0, 0, 0, 0, 0, 0, 0, 0, 0, 0, 0, 0, 0, 0, 0, 0, 0, 0, 0, 0, 0, 0, 0, 0, 0, 0, 0, 0, 0, 0, 0, 0, 0, 0, 0, 0, 0, 0, 0, 0, 0, 0, 0, 0, 0, 0, 0, 0, 0, 0, 0, 0, 0, 0, 0, 0, 0, 0, 0, 0, 0, 0, 0, 0, 0, 0, 0, 0, 0, 0, 0, 0, 0, 0, 0, 0, 0, 0, 0, 0, 0, 0, 0, 0, 0, 0, 0, 0, 0, 0, 0, 0, 0, 0, 0, 0, 0, 0, 0, 0, 0, 0, 0, 0, 0, 0, 0, 0, 0, 0, 0, 0, 0, 0, 0, 0, 0, 0, 0, 0, 0, 0, 0, 0, 0, 0, 0, 0, 0, 0, 0, 0, 0, 0, 0, 0, 0, 0, 0, 0, 0, 0, 0, 0, 0, 0, 0, 0, 0, 0, 0, 0, 0, 0, 0, 0, 0, 0, 0, 0, 0, 0, 0, 0, 0, 0, 0, 0, 0, 0, 0, 0, 0, 0, 0, 0, 0, 0, 0, 0, 0, 0, 0, 0, 0, 0, 0, 0, 0, 0, 0, 0, 0, 0, 0, 0, 0, 0, 0, 0, 0, 0, 0, 0, 0, 0, 0, 0, 0, 0, 0, 0, 0, 0, 0, 0, 0, 0, 0, 0, 0, 0, 0, 0, 0, 0, 0, 0, 0, 0, 0, 0, 0, 0, 0, 0, 0, 0, 0, 0, 0, 0, 0, 0, 0, 0, 0, 0, 0, 0, 0, 0, 0, 0, 0, 0, 0, 0, 0, 0, 0, 0, 0, 0, 0, 0, 0, 0, 0, 0, 0, 0, 0, 0, 0, 0, 0, 0, 0, 0, 0, 0, 0, 0, 0, 0, 0, 0, 0, 0, 0, 0, 0, 0, 0, 0, 0, 0, 0, 0, 0, 0, 0, 0, 0, 0, 0, 0, 0, 0, 0, 0, 0, 0, 0, 0, 0, 0, 0, 0, 0, 0, 0, 0, 0, 0, 0, 0, 0, 0, 0, 0, 0, 0, 0, 0, 0, 0, 0, 0, 0, 0, 0, 0, 0, 0, 0, 0, 0, 0, 0, 0, 0, 0, 0, 0, 0, 0, 0, 0, 0, 0, 0, 0, 0, 0, 0, 0, 0, 0, 0, 0, 0, 0, 0, 0, 0, 0, 0, 0, 0, 0, 0, 0, 0, 0, 0, 0, 0, 0, 0, 0, 0, 0, 0, 0, 0, 0, 0, 0, 0, 0, 0, 0, 0, 0, 0, 0, 0, 0, 0, 0, 0, 0, 0, 0, 0, 0, 0, 0, 0, 0, 0, 0, 0, 0, 0, 0, 0, 0, 0, 0, 0, 0, 0, 0, 0, 0, 0, 0, 0, 0, 0, 0, 0, 0, 0, 0, 0, 0, 0, 0, 0, 0, 0, 0, 0, 0, 0, 0, 0, 0, 0, 0, 0, 0, 0, 0, 0, 0, 0, 0, 0, 0, 0, 0, 0, 0, 0, 0, 0, 0, 0, 0, 0, 0, 0, 0, 0, 0, 0, 0, 0, 0, 0, 0, 0, 0, 0, 0, 0, 0, 0, 0, 0, 0, 0, 0, 0, 0, 0, 0, 0, 0, 0, 0, 0, 0, 0, 0, 0, 0, 0, 0, 0, 0, 0, 0, 0, 0, 0, 0, 0, 0, 0, 0, 0, 0, 0, 0, 0, 0, 0, 0, 0, 0, 0, 0, 0, 0, 0, 0, 0, 0, 0, 0, 0, 0, 0, 0, 0, 0, 0, 0, 0, 0, 0, 0, 0, 0, 0, 0, 0, 0, 0, 0, 0, 0, 0, 0, 0, 0, 0, 0, 0, 0, 0, 0, 0, 0, 0, 0, 0, 0, 0, 0, 0, 0, 0, 0, 0, 0, 0, 0, 0, 0, 0, 0, 0, 0, 0, 0, 0, 0, 0, 0, 0, 0, 0, 0, 0, 0, 0, 0, 0, 0, 0, 0, 0, 0, 0, 0, 0, 0, 0, 0, 0, 0, 0, 0, 0, 0, 0, 0, 0, 0, 0, 0, 0, 0, 0, 0, 0, 0, 0, 0, 0, 0, 0, 0, 0, 0, 0, 0, 0, 0, 0, 0, 0, 0, 0, 0, 0, 0, 0, 0, 0, 0, 0, 0, 0, 0, 0, 0, 0, 0, 0, 0, 0, 0, 0, 0, 0, 0, 0, 0, 0, 0, 0, 0, 0, 0, 0, 0, 0, 0, 0, 0, 0, 0, 0, 0, 0, 0, 0, 0, 0, 0, 0, 0, 0, 0, 0, 0, 0, 0, 0, 0, 0, 0, 0, 0, 0, 0, 0, 0, 0, 0, 0, 0, 0, 0, 0, 0, 0, 0, 0, 0, 0, 0, 0, 0, 0, 0, 0, 0, 0, 0, 0, 0, 0, 0, 0, 0, 0, 0, 0, 0, 0, 0, 0, 0, 0, 0, 0, 0, 0, 0, 0, 0, 0, 0, 0, 0, 0, 0, 0, 0, 0, 0, 0, 0, 0, 0, 0, 0, 0, 0, 0, 0, 0, 0, 0, 0, 0, 0, 0, 0, 0, 0, 0, 0, 0, 0, 0, 0, 0, 0, 0, 0, 0, 0, 0, 0, 0, 0, 0, 0, 0, 0, 0, 0, 0, 0]\n",
      "Prelude1.mid의 페달 상태: [0, 0, 0, 0, 0, 0, 0, 0, 0, 0, 0, 0, 0, 0, 0, 0, 0, 0, 0, 0, 0, 0, 0, 0, 0, 0, 0, 0, 0, 0, 0, 0, 0, 0, 0, 0, 0, 0, 0, 0, 0, 0, 0, 0, 0, 0, 0, 0, 0, 0, 0, 0, 0, 0, 0, 0, 0, 0, 0, 0, 0, 0, 0, 0, 0, 0, 0, 0, 0, 0, 0, 0, 0, 0, 0, 0, 0, 0, 0, 0, 0, 0, 0, 0, 0, 0, 0, 0, 0, 0, 0, 0, 0, 0, 0, 0, 0, 0, 0, 0, 0, 0, 0, 0, 0, 0, 0, 0, 0, 0, 0, 0, 0, 0, 0, 0, 0, 0, 0, 0, 0, 0, 0, 0, 0, 0, 0, 0, 0, 0, 0, 0, 0, 0, 0, 0, 0, 0, 0, 0, 0, 0, 0, 0, 0, 0, 0, 0, 0, 0, 0, 0, 0, 0, 0, 0, 0, 0, 0, 0, 0, 0, 0, 0, 0, 0, 0, 0, 0, 0, 0, 0, 0, 0, 0, 0, 0, 0, 0, 0, 0, 0, 0, 0, 0, 0, 0, 0, 0, 0, 0, 0, 0, 0, 0, 0, 0, 0, 0, 0, 0, 0, 0, 0, 0, 0, 0, 0, 0, 0, 0, 0, 0, 0, 0, 0, 0, 0, 0, 0, 0, 0, 0, 0, 0, 0, 0, 0, 0, 0, 0, 0, 0, 0, 0, 0, 0, 0, 0, 0, 0, 0, 0, 0, 0, 0, 0, 0, 0, 0, 0, 0, 0, 0, 0, 0, 0, 0, 0, 0, 0, 0, 0, 0, 0, 0, 0, 0, 0, 0, 0, 0, 0, 0, 0, 0, 0, 0, 0, 0, 0, 0, 0, 0, 0, 0, 0, 0, 0, 0, 0, 0, 0, 0, 0, 0, 0, 0, 0, 0, 0, 0, 0, 0, 0, 0, 0, 0, 0, 0, 0, 0, 0, 0, 0, 0, 0, 0, 0, 0, 0, 0, 0, 0, 0, 0, 0, 0, 0, 0, 0, 0, 0, 0, 0, 0, 0, 0, 0, 0, 0, 0, 0, 0, 0, 0, 0, 0, 0, 0, 0, 0, 0, 0, 0, 0, 0, 0, 0, 0, 0, 0, 0, 0, 0, 0, 0, 0, 0, 0, 0, 0, 0, 0, 0, 0, 0, 0, 0, 0, 0, 0, 0, 0, 0, 0, 0, 0, 0, 0, 0, 0, 0, 0, 0, 0, 0, 0, 0, 0, 0, 0, 0, 0, 0, 0, 0, 0, 0, 0, 0, 0, 0, 0, 0, 0, 0, 0, 0, 0, 0, 0, 0, 0, 0, 0, 0, 0, 0, 0, 0, 0, 0, 0, 0, 0, 0, 0, 0, 0, 0, 0, 0, 0, 0, 0, 0, 0, 0, 0, 0, 0, 0, 0, 0, 0, 0, 0, 0, 0, 0, 0, 0, 0, 0, 0, 0, 0, 0, 0, 0, 0, 0, 0, 0, 0, 0, 0, 0, 0, 0, 0, 0, 0, 0, 0, 0, 0, 0, 0, 0, 0, 0, 0, 0, 0, 0, 0, 0, 0, 0, 0, 0, 0, 0, 0, 0, 0, 0, 0, 0, 0, 0, 0, 0, 0, 0, 0, 0, 0, 0, 0, 0, 0, 0, 0, 0, 0, 0, 0, 0, 0, 0, 0, 0, 0, 0, 0, 0, 0, 0, 0, 0, 0, 0, 0, 0, 0, 0, 0, 0]\n",
      "Prelude1.mid에 대한 Fugue3.mid의 페달링 평가 점수: 38.11 / 100\n",
      "Fugue3.mid의 페달링 Level: 4\n"
     ]
    }
   ],
   "source": [
    "# MIDI 파일의 경로를 지정\n",
    "input_path = 'Fugue3.mid'\n",
    "target_path = 'Prelude1.mid'\n",
    "\n",
    "score = evaluate_pedaling(input_path, target_path)\n",
    "level = calculate_pedal_level(score)\n",
    "\n",
    "print(f\"{target_path}에 대한 {input_path}의 페달링 평가 점수: {score:.2f} / 100\")\n",
    "print(f\"{input_path}의 페달링 Level: {level}\")"
   ]
  },
  {
   "cell_type": "code",
   "execution_count": 219,
   "id": "e11e04ef",
   "metadata": {},
   "outputs": [
    {
     "name": "stdout",
     "output_type": "stream",
     "text": [
      "Fugue3.mid의 페달 상태: [0, 0, 0, 0, 0, 0, 0, 0, 0, 0, 0, 0, 0, 0, 0, 0, 0, 0, 0, 0, 0, 0, 0, 0, 0, 0, 0, 0, 0, 0, 0, 0, 0, 0, 0, 0, 0, 0, 0, 0, 0, 0, 0, 0, 0, 0, 0, 0, 0, 0, 0, 0, 0, 0, 0, 0, 0, 0, 0, 0, 0, 0, 0, 0, 0, 0, 0, 0, 0, 0, 0, 0, 0, 0, 0, 0, 0, 0, 0, 0, 0, 0, 0, 0, 0, 0, 0, 0, 0, 0, 0, 0, 0, 0, 0, 0, 0, 0, 0, 0, 0, 0, 0, 0, 0, 0, 0, 0, 0, 0, 0, 0, 0, 0, 0, 0, 0, 0, 0, 0, 0, 0, 0, 0, 0, 0, 0, 0, 0, 0, 0, 0, 0, 0, 0, 0, 0, 0, 0, 0, 0, 0, 0, 0, 0, 0, 0, 0, 0, 0, 0, 0, 0, 0, 0, 0, 0, 0, 0, 0, 0, 0, 0, 0, 0, 0, 0, 0, 0, 0, 0, 0, 0, 0, 0, 0, 0, 0, 0, 0, 0, 0, 0, 0, 0, 0, 0, 0, 0, 0, 0, 0, 0, 0, 0, 0, 0, 0, 0, 0, 0, 0, 0, 0, 0, 0, 0, 0, 0, 0, 0, 0, 0, 0, 0, 0, 0, 0, 0, 0, 0, 0, 0, 0, 0, 0, 0, 0, 0, 0, 0, 0, 0, 0, 0, 0, 0, 0, 0, 0, 0, 0, 0, 0, 0, 0, 0, 0, 0, 0, 0, 0, 0, 0, 0, 0, 0, 0, 0, 0, 0, 0, 0, 0, 0, 0, 0, 0, 0, 0, 0, 0, 0, 0, 0, 0, 0, 0, 0, 0, 0, 0, 0, 0, 0, 0, 0, 0, 0, 0, 0, 0, 0, 0, 0, 0, 0, 0, 0, 0, 0, 0, 0, 0, 0, 0, 0, 0, 0, 0, 0, 0, 0, 0, 0, 0, 0, 0, 0, 0, 0, 0, 0, 0, 0, 0, 0, 0, 0, 0, 0, 0, 0, 0, 0, 0, 0, 0, 0, 0, 0, 0, 0, 0, 0, 0, 0, 0, 0, 0, 0, 0, 0, 0, 0, 0, 0, 0, 0, 0, 0, 0, 0, 0, 0, 0, 0, 0, 0, 0, 0, 0, 0, 0, 0, 0, 0, 0, 0, 0, 0, 0, 0, 0, 0, 0, 0, 0, 0, 0, 0, 0, 0, 0, 0, 0, 0, 0, 0, 0, 0, 0, 0, 0, 0, 0, 0, 0, 0, 0, 0, 0, 0, 0, 0, 0, 0, 0, 0, 0, 0, 0, 0, 0, 0, 0, 0, 0, 0, 0, 0, 0, 0, 0, 0, 0, 0, 0, 0, 0, 0, 0, 0, 0, 0, 0, 0, 0, 0, 0, 0, 0, 0, 0, 0, 0, 0, 0, 0, 0, 0, 0, 0, 0, 0, 0, 0, 0, 0, 0, 0, 0, 0, 0, 0, 0, 0, 0, 0, 0, 0, 0, 0, 0, 0, 0, 0, 0, 0, 0, 0, 0, 0, 0, 0, 0, 0, 0, 0, 0, 0, 0, 0, 0, 0, 0, 0, 0, 0, 0, 0, 0, 0, 0, 0, 0, 0, 0, 0, 0, 0, 0, 0, 0, 0, 0, 0, 0, 0, 0, 0, 0, 0, 0, 0, 0, 0, 0, 0, 0, 0, 0, 0, 0, 0, 0, 0, 0, 0, 0, 0, 0, 0, 0, 0, 0, 0, 0, 0, 0, 0, 0, 0, 0, 0, 0, 0, 0, 0, 0, 0, 0, 0, 0, 0, 0, 0, 0, 0, 0, 0, 0, 0, 0, 0, 0, 0, 0, 0, 0, 0, 0, 0, 0, 0, 0, 0, 0, 0, 0, 0, 0, 0, 0, 0, 0, 0, 0, 0, 0, 0, 0, 0, 0, 0, 0, 0, 0, 0, 0, 0, 0, 0, 0, 0, 0, 0, 0, 0, 0, 0, 0, 0, 0, 0, 0, 0, 0, 0, 0, 0, 0, 0, 0, 0, 0, 0, 0, 0, 0, 0, 0, 0, 0, 0, 0, 0, 0, 0, 0, 0, 0, 0, 0, 0, 0, 0, 0, 0, 0, 0, 0, 0, 0, 0, 0, 0, 0, 0, 0, 0, 0, 0, 0, 0, 0, 0, 0, 0, 0, 0, 0, 0, 0, 0, 0, 0, 0, 0, 0, 0, 0, 0, 0, 0, 0, 0, 0, 0, 0, 0, 0, 0, 0, 0, 0, 0, 0, 0, 0, 0, 0, 0, 0, 0, 0, 0, 0, 0, 0, 0, 0, 0, 0, 0, 0, 0, 0, 0, 0, 0, 0, 0, 0, 0, 0, 0, 0, 0, 0, 0, 0, 0, 0, 0, 0, 0, 0, 0, 0, 0, 0, 0, 0, 0, 0, 0, 0, 0, 0, 0, 0, 0, 0, 0, 0, 0, 0, 0, 0, 0, 0, 0, 0, 0, 0, 0, 0, 0, 0, 0, 0, 0, 0, 0, 0, 0, 0, 0, 0, 0, 0, 0, 0, 0, 0, 0, 0, 0, 0, 0, 0, 0, 0, 0, 0, 0, 0, 0, 0, 0, 0, 0, 0, 0, 0, 0, 0, 0, 0, 0, 0, 0, 0, 0, 0, 0, 0, 0, 0, 0, 0, 0, 0, 0, 0, 0, 0, 0, 0, 0, 0, 0, 0, 0, 0, 0, 0, 0, 0, 0, 0, 0, 0, 0, 0, 0, 0, 0, 0, 0, 0, 0, 0, 0, 0, 0, 0, 0, 0, 0, 0, 0, 0, 0, 0, 0, 0, 0, 0, 0, 0, 0, 0, 0, 0, 0, 0, 0, 0, 0, 0, 0, 0, 0, 0, 0, 0, 0, 0, 0, 0, 0, 0, 0, 0, 0, 0, 0, 0, 0, 0, 0, 0, 0, 0, 0, 0, 0, 0, 0, 0, 0, 0, 0, 0, 0, 0, 0, 0, 0, 0, 0, 0, 0, 0, 0, 0, 0, 0, 0, 0, 0, 0, 0, 0, 0, 0, 0, 0, 0, 0, 0, 0, 0, 0, 0, 0, 0, 0, 0, 0, 0, 0, 0, 0, 0, 0, 0, 0, 0, 0, 0, 0, 0, 0, 0, 0, 0, 0, 0, 0, 0, 0, 0, 0, 0, 0, 0, 0, 0, 0, 0, 0, 0, 0, 0, 0, 0, 0, 0, 0, 0, 0, 0, 0, 0, 0, 0, 0, 0, 0, 0, 0, 0, 0, 0, 0, 0, 0, 0, 0, 0, 0, 0, 0, 0, 0, 0, 0, 0, 0, 0, 0, 0, 0, 0, 0, 0, 0, 0, 0, 0, 0, 0, 0, 0, 0, 0, 0, 0, 0, 0, 0, 0, 0, 0, 0, 0, 0, 0, 0, 0, 0, 0, 0, 0, 0, 0, 0, 0, 0, 0, 0, 0, 0, 0, 0, 0, 0, 0, 0, 0, 0, 0, 0, 0, 0, 0, 0, 0, 0, 0, 0, 0, 0, 0, 0, 0, 0, 0, 0, 0, 0, 0, 0, 0, 0, 0, 0, 0, 0, 0, 0, 0, 0, 0, 0, 0, 0, 0, 0, 0, 0, 0, 0, 0, 0, 0, 0, 0, 0, 0, 0, 0, 0, 0, 0, 0, 0, 0, 0, 0, 0, 0, 0, 0, 0, 0, 0, 0, 0, 0, 0, 0, 0, 0, 0, 0, 0, 0, 0, 0, 0, 0, 0, 0, 0, 0, 0, 0, 0, 0, 0, 0, 0, 0, 0, 0, 0, 0, 0, 0, 0, 0, 0, 0, 0, 0, 0, 0, 0, 0, 0, 0, 0, 0, 0, 0, 0, 0, 0, 0, 0, 0, 0, 0, 0, 0, 0, 0, 0, 0, 0, 0, 0, 0, 0, 0, 0, 0, 0, 0, 0, 0, 0, 0, 0, 0, 0, 0, 0, 0, 0, 0, 0, 0, 0, 0, 0, 0, 0, 0, 0, 0, 0, 0, 0, 0, 0, 0, 0, 0, 0, 0, 0, 0, 0, 0, 0, 0, 0, 0, 0, 0, 0, 0, 0, 0, 0, 0, 0, 0, 0, 0, 0, 0, 0, 0, 0, 0, 0, 0, 0, 0, 0, 0, 0, 0, 0, 0, 0, 0, 0, 0, 0, 0, 0, 0, 0, 0, 0, 0, 0, 0, 0, 0, 0, 0, 0, 0, 0, 0, 0, 0, 0, 0, 0, 0, 0, 0, 0, 0, 0, 0, 0, 0, 0, 0, 0, 0, 0, 0, 0, 0, 0, 0, 0, 0, 0, 0, 0, 0, 0, 0, 0, 0, 0, 0, 0, 0, 0, 0, 0, 0, 0, 0, 0, 0, 0, 0, 0, 0, 0, 0, 0, 0, 0, 0, 0, 0, 0, 0, 0, 0, 0, 0, 0, 0, 0, 0, 0, 0, 0, 0, 0, 0, 0, 0, 0, 0, 0, 0, 0, 0, 0, 0, 0, 0, 0, 0, 0, 0, 0, 0, 0, 0, 0, 0, 0, 0, 0, 0, 0, 0, 0, 0, 0, 0, 0, 0, 0, 0, 0, 0, 0, 0, 0, 0, 0, 0, 0, 0, 0, 0, 0]\n",
      "Fugue1.mid의 페달 상태: [0, 0, 0, 0, 0, 0, 0, 0, 0, 0, 0, 0, 0, 0, 0, 0, 0, 0, 0, 0, 0, 0, 0, 0, 0, 0, 0, 0, 0, 0, 0, 0, 0, 0, 0, 0, 0, 0, 0, 0, 0, 0, 0, 0, 0, 0, 0, 0, 0, 0, 0, 0, 0, 0, 0, 0, 0, 0, 0, 0, 0, 0, 0, 0, 0, 0, 0, 0, 0, 0, 0, 0, 0, 0, 0, 0, 0, 0, 0, 0, 0, 0, 0, 0, 0, 0, 0, 0, 0, 0, 0, 0, 0, 0, 0, 0, 0, 0, 0, 0, 0, 0, 0, 0, 0, 0, 0, 0, 0, 0, 0, 0, 0, 0, 0, 0, 0, 0, 0, 0, 0, 0, 0, 0, 0, 0, 0, 0, 0, 0, 0, 0, 0, 0, 0, 0, 0, 0, 0, 0, 0, 0, 0, 0, 0, 0, 0, 0, 0, 0, 0, 0, 0, 0, 0, 0, 0, 0, 0, 0, 0, 0, 0, 0, 0, 0, 0, 0, 0, 0, 0, 0, 0, 0, 0, 0, 0, 0, 0, 0, 0, 0, 0, 0, 0, 0, 0, 0, 0, 0, 0, 0, 0, 0, 0, 0, 0, 0, 0, 0, 0, 0, 0, 0, 0, 0, 0, 0, 0, 0, 0, 0, 0, 0, 0, 0, 0, 0, 0, 0, 0, 0, 0, 0, 0, 0, 0, 0, 0, 0, 0, 0, 0, 0, 0, 0, 0, 0, 0, 0, 0, 0, 0, 0, 0, 0, 0, 0, 0, 0, 0, 0, 0, 0, 0, 0, 0, 0, 0, 0, 0, 0, 0, 0, 0, 0, 0, 0, 0, 0, 0, 0, 0, 0, 0, 0, 0, 0, 0, 0, 0, 0, 0, 0, 0, 0, 0, 0, 0, 0, 0, 0, 0, 0, 0, 0, 0, 0, 0, 0, 0, 0, 0, 0, 0, 0, 0, 0, 0, 0, 0, 0, 0, 0, 0, 0, 0, 0, 0, 0, 0, 0, 0, 0, 0, 0, 0, 0, 0, 0, 0, 0, 0, 0, 0, 0, 0, 0, 0, 0, 0, 0, 0, 0, 0, 0, 0, 0, 0, 0, 0, 0, 0, 0, 0, 0, 0, 0, 0, 0, 0, 0, 0, 0, 0, 0, 0, 0, 0, 0, 0, 0, 0, 0, 0, 0, 0, 0, 0, 0, 0, 0, 0, 0, 0, 0, 0, 0, 0, 0, 0, 0, 0, 0, 0, 0, 0, 0, 0, 0, 0, 0, 0, 0, 0, 0, 0, 0, 0, 0, 0, 0, 0, 0, 0, 0, 0, 0, 0, 0, 0, 0, 0, 0, 0, 0, 0, 0, 0, 0, 0, 0, 0, 0, 0, 0, 0, 0, 0, 0, 0, 0, 0, 0, 0, 0, 0, 0, 0, 0, 0, 0, 0, 0, 0, 0, 0, 0, 0, 0, 0, 0, 0, 0, 0, 0, 0, 0, 0, 0, 0, 0, 0, 0, 0, 0, 0, 0, 0, 0, 0, 0, 0, 0, 0, 0, 0, 0, 0, 0, 0, 0, 0, 0, 0, 0, 0, 0, 0, 0, 0, 0, 0, 0, 0, 0, 0, 0, 0, 0, 0, 0, 0, 0, 0, 0, 0, 0, 0, 0, 0, 0, 0, 0, 0, 0, 0, 0, 0, 0, 0, 0, 0, 0, 0, 0, 0, 0, 0, 0, 0, 0, 0, 0, 0, 0, 0, 0, 0, 0, 0, 0, 0, 0, 0, 0, 0, 0, 0, 0, 0, 0, 0, 0, 0, 0, 0, 0, 0, 0, 0, 0, 0, 0, 0, 0, 0, 0, 0, 0, 0, 0, 0, 0, 0, 0, 0, 0, 0, 0, 0, 0, 0, 0, 0, 0, 0, 0, 0, 0, 0, 0, 0, 0, 0, 0, 0, 0, 0, 0, 0, 0, 0, 0, 0, 0, 0, 0, 0, 0, 0, 0, 0, 0, 0, 0, 0, 0, 0, 0, 0, 0, 0, 0, 0, 0, 0, 0, 0, 0, 0, 0, 0, 0, 0, 0, 0, 0, 0, 0, 0, 0, 0, 0, 0, 0, 0, 0, 0, 0, 0, 0, 0, 0, 0, 0, 0, 0, 0, 0, 0, 0, 0, 0, 0, 0, 0, 0, 0, 0, 0, 0, 0, 0, 0, 0, 0, 0, 0, 0, 0, 0, 0, 0, 0, 0, 0, 0, 0, 0, 0, 0, 0, 0, 0, 0, 0, 0, 0, 0, 0, 0, 0, 0, 0, 0, 0, 0, 0, 0, 0, 0, 0, 0, 0, 0, 0, 0, 0, 0, 0, 0, 0, 0, 0, 0, 0, 0, 0, 0, 0, 0, 0, 0, 0, 0, 0, 0, 0]\n",
      "Fugue1.mid에 대한 Fugue3.mid의 페달링 평가 점수: 51.80 / 100\n",
      "Fugue3.mid의 페달링 Level: 5\n"
     ]
    }
   ],
   "source": [
    "# MIDI 파일의 경로를 지정\n",
    "input_path = 'Fugue3.mid'\n",
    "target_path = 'Fugue1.mid'\n",
    "\n",
    "score = evaluate_pedaling(input_path, target_path)\n",
    "level = calculate_pedal_level(score)\n",
    "\n",
    "print(f\"{target_path}에 대한 {input_path}의 페달링 평가 점수: {score:.2f} / 100\")\n",
    "print(f\"{input_path}의 페달링 Level: {level}\")"
   ]
  },
  {
   "cell_type": "markdown",
   "id": "74c41681",
   "metadata": {},
   "source": [
    "# 12. 노트의 길이 유사도 점수 구하기\n",
    "- 조금 더 고민해봐야 할 것 같음"
   ]
  },
  {
   "cell_type": "code",
   "execution_count": 6,
   "id": "87418801",
   "metadata": {},
   "outputs": [
    {
     "name": "stdout",
     "output_type": "stream",
     "text": [
      "Note Duration Similarity Score: 71.50%\n",
      "Note Duration Similarity Score 2: 8.58%\n",
      "Note Duration Similarity Score 3: 100.00%\n",
      "-----------------------------------\n",
      "Note Durations 1\n",
      " [120, 120, 120, 180, 30, 2, 120, 120, 120, 170, 60, 60, 60, 60, 60, 60, 60, 60, 60, 60, 60, 60, 60, 60, 60, 120, 120, 120, 120, 60, 60, 60, 60, 170, 60, 60, 60, 60, 60, 60, 60, 60, 60, 480, 240, 120, 120, 120, 180, 30, 30, 120, 120, 120, 180, 60, 60, 60, 120, 180, 60, 60, 60, 480, 180, 60, 480, 240, 60, 60, 60, 60, 60, 60, 60, 60, 60, 60, 60, 60, 60, 60, 120, 120, 120, 60, 60, 60, 60, 60, 60, 60, 60, 60, 60, 120, 60, 60, 120, 120, 120, 240, 60, 60, 15, 15, 15, 15, 15, 15, 15, 15, 15, 45, 50, 240, 120, 120, 120, 180, 30, 2, 120, 120, 120, 120, 180, 30, 2, 120, 120, 120, 180, 60, 60, 60, 120, 120, 120, 120, 120, 60, 60, 60, 60, 60, 60, 60, 55, 5, 1, 30, 30, 2, 60, 60, 60, 60, 3, 1, 1, 1, 1, 100, 50, 148, 120, 120, 120, 147, 30, 2, 120, 120, 120, 170, 60, 60, 60, 60, 60, 60, 60, 60, 60, 60, 60, 60, 60, 60, 60, 3, 1, 1, 180, 120, 120, 120, 230, 120, 240, 120, 120, 120, 230, 120, 120, 120, 268, 38, 36, 41, 44, 41, 38, 39, 480, 30, 30, 60, 60, 60, 60, 150, 30, 30, 30, 2, 60, 170, 60, 480, 120, 120, 120, 180, 30, 2, 120, 120, 120, 167, 60, 60, 60, 60, 60, 60, 60, 60, 60, 60, 60, 120, 120, 323, 60, 60, 120, 120, 120, 120, 120, 120, 240, 60, 60, 280, 60, 120, 240, 120, 120, 60, 60, 60, 120, 120, 481, 120, 120, 120, 170, 30, 2, 120, 120, 120, 164, 60, 60, 60, 121, 120, 120, 120, 170, 30, 2, 120, 120, 120, 180, 60, 60, 60, 120, 120, 120, 180, 60, 60, 60, 60, 60, 60, 60, 60, 60, 60, 60, 120, 120, 120, 120, 170, 30, 2, 120, 120, 120, 180, 60, 60, 60, 81, 88, 82, 211, 120, 120, 230, 120, 120, 120, 154, 30, 2, 91, 120, 120, 180, 60, 60, 60, 120, 120, 120, 120, 120, 120, 120, 120, 120, 120, 120, 120, 170, 30, 2, 120, 120, 120, 168, 60, 60, 60, 60, 60, 60, 60, 240, 290, 60, 60, 60, 60, 60, 60, 60, 290, 60, 120, 220, 120, 120, 350, 240, 120, 240, 88, 230, 230, 120, 120, 120, 153, 30, 2, 120, 120, 120, 160, 60, 60, 60, 60, 60, 60, 60, 60, 60, 60, 60, 60, 240, 60, 120, 480, 480, 120, 120, 120, 180, 30, 2, 120, 120, 120, 170, 60, 60, 60, 120, 240, 120, 120, 120, 120, 120, 60, 60, 60, 240, 240, 120, 120, 120, 180, 2, 30, 120, 120, 120, 180, 60, 60, 60, 120, 360, 240, 60, 60, 60, 60, 60, 60, 60, 60, 60, 60, 60, 60, 60, 60, 60, 240, 120, 120, 120, 180, 30, 2, 120, 120, 120, 180, 60, 60, 60, 2, 239, 120, 240, 120, 120, 120, 180, 30, 2, 120, 120, 120, 240, 120, 240, 120, 120, 240, 120, 120, 120, 120, 180, 30, 2, 116, 120, 120, 180, 60, 60, 60, 120, 120, 120, 120, 180, 30, 2, 120, 120, 120, 180, 60, 60, 60, 540, 60, 60, 60, 60, 60, 60, 60, 4, 11, 12, 120, 180, 30, 2, 120, 120, 120, 180, 60, 60, 60, 240, 120, 240, 110, 360, 120, 120, 120, 180, 30, 2, 120, 120, 120, 170, 60, 60, 60, 60, 60, 60, 60, 60, 60, 60, 60, 60, 60, 60, 60, 60, 60, 60, 60, 420, 960, 120, 120, 120, 180, 30, 2, 120, 120, 120, 170, 60, 60, 60, 60, 60, 60, 60, 60, 60, 60, 60, 120, 120, 120, 120, 60, 60, 60, 60, 120, 120, 240, 240, 60, 60, 60, 60, 60, 60, 60, 60, 120, 120, 120, 120, 180, 30, 2, 120, 120, 120, 180, 60, 60, 60, 116, 240, 120, 120, 240, 240, 240, 120, 120, 60, 60, 240, 240, 120, 120, 120, 180, 30, 2, 120, 120, 120, 180, 60, 60, 60, 120, 120, 120, 120, 120, 120, 120, 120, 240, 120, 120, 180, 30, 2, 120, 120, 120, 180, 15, 60, 60, 60, 60, 60, 60, 120, 120, 540, 60, 60, 60, 60, 60, 60, 60, 120, 120, 120, 240, 60, 60, 120, 120, 960, 240, 120, 120, 60, 60, 60, 60, 60, 60, 60, 60, 60, 60, 60, 60, 120, 120, 480, 1440]\n",
      "-----------------------------------\n",
      "Note Durations 2\n",
      " [120, 60, 60, 60, 60, 120, 120, 120, 60, 60, 120, 120, 120, 120, 120, 120, 120, 60, 60, 60, 60, 60, 60, 60, 60, 60, 60, 60, 60, 60, 60, 300, 60, 60, 60, 60, 60, 60, 60, 60, 60, 60, 60, 30, 30, 120, 480, 480, 360, 120, 120, 7, 120, 350, 60, 60, 350, 120, 340, 60, 60, 350, 120, 300, 60, 60, 60, 300, 60, 60, 60, 60, 60, 60, 60, 60, 60, 60, 60, 120, 120, 120, 60, 60, 120, 120, 120, 120, 120, 120, 60, 60, 60, 60, 60, 60, 60, 60, 60, 60, 60, 60, 60, 60, 60, 60, 2, 2, 80, 60, 60, 60, 60, 60, 60, 60, 60, 60, 60, 60, 60, 60, 60, 60, 60, 60, 60, 60, 60, 60, 60, 60, 60, 60, 60, 60, 60, 60, 60, 300, 60, 60, 60, 60, 60, 60, 60, 60, 60, 60, 60, 60, 60, 60, 60, 300, 60, 60, 60, 300, 60, 60, 60, 300, 60, 60, 60, 300, 60, 60, 60, 300, 60, 60, 60, 300, 60, 60, 60, 480, 480, 360, 120, 120, 120, 60, 60, 60, 60, 60, 60, 60, 60, 60, 60, 60, 60, 60, 60, 60, 55, 60, 60, 60, 60, 22, 22, 22, 22, 22, 22, 45, 50, 237, 120, 60, 60, 60, 60, 120, 120, 120, 60, 60, 120, 120, 60, 60, 60, 60, 120, 120, 120, 7, 60, 60, 60, 60, 60, 60, 60, 60, 60, 120, 120, 120, 60, 60, 120, 120, 120, 120, 120, 120, 60, 60, 60, 60, 60, 60, 60, 60, 60, 60, 60, 60, 60, 60, 60, 60, 300, 60, 60, 60, 60, 60, 60, 60, 60, 60, 60, 60, 120, 120, 240, 60, 60, 273, 60, 60, 3, 120, 120, 120, 120, 120, 60, 60, 60, 60, 60, 60, 60, 60, 60, 60, 60, 60, 60, 60, 60, 60, 60, 60, 60, 60, 60, 60, 60, 60, 60, 60, 60, 60, 60, 60, 60, 60, 60, 60, 60, 60, 60, 60, 60, 60, 60, 60, 60, 60, 60, 60, 60, 60, 60, 60, 60, 60, 60, 60, 60, 60, 60, 60, 60, 60, 60, 60, 60, 60, 60, 60, 60, 60, 60, 60, 60, 60, 60, 60, 120, 120, 120, 60, 60, 60, 60, 60, 60, 60, 60, 60, 60, 120, 120, 120, 60, 60, 60, 60, 60, 60, 60, 60, 60, 4, 120, 120, 120, 60, 60, 60, 60, 60, 60, 60, 60, 60, 60, 60, 60, 60, 60, 22, 22, 22, 22, 22, 22, 22, 22, 22, 22, 22, 22, 22, 22, 22, 22, 22, 22, 22, 22, 32, 50, 60, 60, 60, 60, 60, 60, 60, 60, 60, 60, 60, 60, 60, 60, 60, 60, 60, 60, 60, 60, 60, 60, 60, 60, 60, 60, 60, 60, 60, 60, 60, 60, 60, 60, 60, 60, 60, 60, 60, 60, 60, 60, 60, 60, 60, 60, 60, 60, 60, 60, 60, 2, 2, 2, 60, 120, 60, 60, 60, 60, 120, 120, 120, 60, 60, 120, 120, 120, 120, 120, 120, 120, 60, 60, 60, 60, 60, 60, 60, 60, 60, 60, 60, 60, 60, 60, 300, 60, 60, 60, 60, 60, 60, 60, 60, 60, 60, 60, 120, 120, 480, 480, 360, 120, 120, 240, 120, 120, 120, 590, 60, 60, 350, 120, 350, 60]\n",
      "-----------------------------------\n",
      "Note Durations 3\n",
      " [60, 60, 60, 60, 60, 60, 60, 60, 60, 60, 60, 60, 60, 60, 60, 60, 60, 60, 60, 60, 60, 60, 60, 60, 60, 60, 60, 60, 60, 60, 60, 60, 60, 60, 60, 60, 60, 60, 60, 60, 60, 60, 60, 60, 60, 60, 60, 60, 60, 60, 60, 60, 60, 60, 60, 60, 60, 60, 60, 60, 60, 60, 60, 60, 60, 60, 60, 60, 60, 60, 60, 60, 60, 60, 60, 60, 60, 60, 60, 60, 60, 60, 60, 60, 60, 60, 60, 60, 60, 60, 60, 60, 60, 60, 60, 60, 60, 60, 60, 60, 60, 60, 60, 60, 60, 60, 60, 60, 60, 60, 60, 60, 60, 60, 60, 60, 60, 60, 60, 60, 60, 60, 60, 60, 60, 60, 60, 60, 60, 60, 60, 60, 60, 60, 60, 60, 60, 60, 60, 60, 60, 60, 60, 60, 60, 60, 60, 60, 60, 60, 60, 60, 60, 60, 60, 60, 60, 60, 60, 60, 60, 60, 60, 60, 60, 60, 60, 60, 60, 60, 60, 60, 60, 60, 60, 60, 60, 60, 60, 60, 60, 60, 60, 60, 60, 60, 60, 60, 60, 60, 60, 60, 60, 60, 60, 60, 60, 60, 60, 60, 60, 60, 60, 60, 60, 60, 60, 60, 60, 60, 60, 60, 60, 60, 60, 60, 60, 60, 60, 60, 60, 60, 60, 60, 60, 60, 60, 60, 60, 60, 60, 60, 60, 60, 60, 60, 60, 60, 60, 60, 60, 60, 60, 60, 60, 60, 60, 60, 60, 60, 60, 60, 60, 60, 60, 60, 60, 60, 60, 60, 60, 60, 60, 60, 60, 60, 60, 60, 60, 60, 60, 60, 60, 60, 60, 60, 60, 60, 60, 60, 60, 60, 60, 60, 60, 60, 60, 60, 60, 60, 60, 60, 60, 60, 60, 60, 60, 60, 60, 60, 60, 60, 60, 60, 60, 60, 60, 60, 60, 60, 60, 60, 60, 60, 60, 60, 60, 60, 60, 60, 60, 60, 60, 60, 60, 60, 60, 60, 60, 60, 60, 60, 60, 60, 60, 60, 60, 60, 60, 60, 60, 60, 60, 60, 60, 60, 60, 60, 60, 60, 60, 60, 60, 60, 60, 60, 60, 60, 60, 60, 60, 60, 60, 60, 60, 60, 60, 60, 60, 60, 60, 60, 60, 60, 60, 60, 60, 60, 60, 60, 60, 60, 60, 60, 60, 60, 60, 60, 60, 60, 60, 60, 60, 60, 60, 60, 60, 60, 60, 60, 60, 60, 60, 60, 60, 60, 60, 60, 60, 60, 3, 15, 30, 60, 960, 960, 960, 375, 410, 398, 410, 389, 410, 365, 410, 390, 410, 377, 410, 389, 410, 381, 410, 387, 410, 373, 410, 358, 410, 380, 410, 379, 410, 369, 410, 383, 410, 382, 410, 387, 410, 393, 410, 400, 413, 381, 410, 391, 410, 378, 410, 403, 410, 397, 410, 383, 410, 384, 410, 406, 410, 381, 410, 396, 410, 392, 410, 391, 410, 384, 410, 392, 410, 393, 410, 410, 413, 404, 410, 391, 410, 386, 410, 399, 410, 397, 397, 410, 410, 407, 410, 410, 7, 408, 410, 410, 417, 410, 410, 410, 418, 408, 410, 410, 17, 410, 412, 410, 414, 410, 3, 399, 410, 410, 419, 401, 410, 401, 410, 402, 410, 408, 410, 390, 410, 397, 413, 401, 410, 379, 410, 397, 413, 396, 410, 890, 899, 844, 890, 960, 960]\n"
     ]
    }
   ],
   "source": [
    "# 유사도 ?\n",
    "\n",
    "def extract_note_durations(midi_file):\n",
    "    \"\"\"\n",
    "    MIDI 파일에서 각 노트의 길이를 추출\n",
    "    \"\"\"\n",
    "    mid = MidiFile(midi_file)\n",
    "\n",
    "    note_durations = []  # 각 노트의 길이를 저장할 리스트\n",
    "\n",
    "    current_time = 0  # 현재 시간 초기화\n",
    "\n",
    "    for i, track in enumerate(mid.tracks):\n",
    "        for msg in track:\n",
    "            current_time += msg.time  # 현재 시간을 누적\n",
    "\n",
    "            if msg.type == 'note_on':\n",
    "                note_start = current_time  # 노트 시작 시간\n",
    "            elif msg.type == 'note_off':\n",
    "                note_end = current_time  # 노트 종료 시간\n",
    "                note_duration = note_end - note_start  # 노트 길이 계산\n",
    "                note_durations.append(note_duration)\n",
    "\n",
    "    return note_durations\n",
    "\n",
    "def adjust_note_lengths(note_durations_1, note_durations_2):\n",
    "    \"\"\"\n",
    "    두 노트 길이 리스트의 길이를 맞추기\n",
    "    \"\"\"\n",
    "    min_length = min(len(note_durations_1), len(note_durations_2))\n",
    "    return note_durations_1[:min_length], note_durations_2[:min_length]\n",
    "\n",
    "def calculate_note_duration_similarity(note_durations_1, note_durations_2, threshold = 10):\n",
    "    \"\"\"\n",
    "    두 곡 간의 노트 길이 유사도 점수를 계산\n",
    "    \"\"\"\n",
    "    # 노트 길이 리스트의 길이를 맞춤\n",
    "    note_durations_1, note_durations_2 = adjust_note_lengths(note_durations_1, note_durations_2)\n",
    "\n",
    "    # 노트 길이 차이의 절대값을 계산하여 유사도 점수 산출\n",
    "    absolute_differences = [abs(a - b) for a, b in zip(note_durations_1, note_durations_2)]\n",
    "    average_difference = sum(absolute_differences) / len(absolute_differences)\n",
    "    if average_difference < threshold:\n",
    "        return 100, note_durations_1, note_durations_2\n",
    "    else:\n",
    "        return average_difference % 100, note_durations_1, note_durations_2\n",
    "\n",
    "if __name__ == \"__main__\":\n",
    "    # MIDI 파일의 경로를 지정\n",
    "    midi_file_path_1 = 'Fugue1.mid'\n",
    "    midi_file_path_2 = 'Fugue3.mid'\n",
    "    midi_file_path_3 = 'Prelude1.mid'\n",
    "    \n",
    "\n",
    "    # 각 MIDI 파일의 노트 길이를 추출\n",
    "    note_durations_1 = extract_note_durations(midi_file_path_1)\n",
    "    note_durations_2 = extract_note_durations(midi_file_path_2)\n",
    "    note_durations_3 = extract_note_durations(midi_file_path_3)\n",
    "\n",
    "    # 노트 길이 유사도 점수 계산 및 노트 길이 리스트 출력\n",
    "    similarity_score, note_durations_1, note_durations_2 = calculate_note_duration_similarity(note_durations_1, note_durations_2)\n",
    "    similarity_score2, note_durations_2, note_durations_3 = calculate_note_duration_similarity(note_durations_2, note_durations_3)\n",
    "    similarity_score3, note_durations_3, note_durations_3 = calculate_note_duration_similarity(note_durations_3, note_durations_3)\n",
    "\n",
    "    if similarity_score is not None and similarity_score2 is not None and similarity_score3 is not None:\n",
    "        print(f'Note Duration Similarity Score: {similarity_score:.2f}%')\n",
    "        print(f'Note Duration Similarity Score 2: {similarity_score2:.2f}%')\n",
    "        print(f'Note Duration Similarity Score 3: {similarity_score3:.2f}%')\n",
    "        print('-----------------------------------')\n",
    "        print('Note Durations 1\\n', note_durations_1)\n",
    "        print('-----------------------------------')\n",
    "        print('Note Durations 2\\n', note_durations_2)\n",
    "        print('-----------------------------------')\n",
    "        print('Note Durations 3\\n', note_durations_3)\n",
    "    else:\n",
    "        print('Error')\n"
   ]
  },
  {
   "cell_type": "markdown",
   "id": "93955eaa",
   "metadata": {},
   "source": [
    "# 통합 테스트\n",
    "\n",
    "Fugue1 vs Fugue3\n",
    "\n",
    "|Pitch Accuracy|Speed Difference|Octave Accuracy|Pedaling Similarity|Note Duration Similarity|Mean|\n",
    "|--|--|--|--|--|--|\n",
    "|51.80%|55.00|17.70|100.00|71.50|59.2|"
   ]
  },
  {
   "cell_type": "code",
   "execution_count": 242,
   "id": "23a90fbf",
   "metadata": {},
   "outputs": [
    {
     "name": "stdout",
     "output_type": "stream",
     "text": [
      "Pitch Accuracy: 51.80% - Level 5\n"
     ]
    }
   ],
   "source": [
    "input_midi_path1 = 'Fugue1.mid'\n",
    "target_midi_path1 = 'Fugue3.mid'\n",
    "limit_offset = 5 # 정확도를 판단할 때 허용되는 피치 차이\n",
    "accuracy1 = calculate_pitch_accuracy(input_midi_path1, target_midi_path1, limit_offset)\n",
    "level1 = calculate_accuracy_level(accuracy1)  \n",
    "print(f'Pitch Accuracy: {accuracy1:.2f}% - Level {level1}')"
   ]
  },
  {
   "cell_type": "code",
   "execution_count": 243,
   "id": "fff436ea",
   "metadata": {},
   "outputs": [
    {
     "name": "stdout",
     "output_type": "stream",
     "text": [
      "Speed similarity scores of songs\n",
      "--------------------------------------------------------------------------------------------\n",
      "Average Tempo of Fugue1.mid: 64.0 BPM\n",
      "Average Tempo of Prelude1.mid: 82.00003553334874 BPM\n",
      "--------------------------------------------------------------------------------------------\n",
      "Tempo Difference Between Fugue1.mid and Fugue1.mid: 18.000035533348736 BPM\n",
      "Tempo Similarity Level testCase 1: Score: 55.000 - Level: 6\n",
      "--------------------------------------------------------------------------------------------\n"
     ]
    }
   ],
   "source": [
    "average_tempo_1 = extract_tempo(input_midi_path1)\n",
    "average_tempo_2 = extract_tempo(target_midi_path1)\n",
    "tempo_difference1 = abs(average_tempo_1 - average_tempo_2)\n",
    "score1 = calculate_tempo_score(tempo_difference1) # 다른 파일로 테스트        \n",
    "level_tempo1 = calculate_tempo_level(score1)\n",
    "print('Speed similarity scores of songs')\n",
    "print('--------------------------------------------------------------------------------------------')\n",
    "print(f'Average Tempo of {input_midi_path1}: {average_tempo_1} BPM')\n",
    "print(f'Average Tempo of {input_midi_path2}: {average_tempo_2} BPM')\n",
    "print('--------------------------------------------------------------------------------------------')\n",
    "print(f'Tempo Difference Between {input_midi_path1} and {target_midi_path2}: {tempo_difference1} BPM')\n",
    "print(f'Tempo Similarity Level testCase 1: Score: {score1} - Level: {level_tempo1}') # 다른 파일로 연주한 경우\n",
    "print('--------------------------------------------------------------------------------------------')"
   ]
  },
  {
   "cell_type": "code",
   "execution_count": 239,
   "id": "4ae24c19",
   "metadata": {},
   "outputs": [
    {
     "name": "stdout",
     "output_type": "stream",
     "text": [
      "Fugue1.mid의 옥타브 정보: [5, 5, 5, 6, 6, 6, 5, 6, 5, 6, 6, 6, 6, 5, 5, 5, 5, 6, 5, 6, 6, 6, 6, 6, 6, 6, 5, 6, 5, 6, 6, 5, 5, 5, 5, 5, 5, 5, 5, 5, 5, 5, 5, 6, 5, 6, 6, 6, 6, 6, 6, 6, 6, 6, 6, 6, 6, 6, 6, 6, 6, 6, 6, 6, 6, 6, 6, 6, 6, 6, 6, 6, 6, 6, 6, 5, 5, 6, 5, 5, 6, 5, 5, 6, 6, 6, 5, 5, 5, 5, 5, 6, 5, 5, 5, 5, 5, 5, 6, 6, 6, 6, 6, 5, 6, 5, 6, 5, 6, 5, 6, 5, 6, 5, 5, 5, 5, 5, 5, 6, 6, 6, 5, 6, 6, 6, 6, 6, 6, 6, 6, 6, 6, 6, 6, 6, 6, 6, 6, 6, 6, 6, 6, 6, 6, 6, 6, 6, 6, 6, 6, 6, 6, 6, 6, 6, 6, 6, 6, 6, 6, 6, 6, 6, 6, 6, 5, 5, 5, 6, 6, 6, 5, 6, 5, 6, 6, 6, 6, 5, 6, 6, 6, 6, 6, 6, 6, 6, 6, 6, 6, 6, 5, 6, 5, 6, 6, 5, 6, 5, 6, 5, 5, 5, 6, 6, 6, 6, 6, 6, 6, 6, 6, 6, 6, 6, 6, 5, 5, 5, 6, 6, 6, 6, 6, 6, 6, 6, 6, 6, 6, 7, 5, 5, 5, 5, 5, 5, 5, 5, 5, 5, 5, 5, 5, 5, 5, 5, 5, 5, 5, 5, 4, 4, 5, 5, 5, 5, 5, 5, 5, 5, 5, 5, 5, 5, 5, 5, 5, 5, 5, 5, 5, 5, 5, 5, 5, 5, 5, 5, 5, 5, 6, 6, 6, 5, 6, 5, 6, 6, 6, 6, 5, 5, 5, 5, 5, 5, 5, 5, 5, 5, 5, 5, 5, 5, 5, 5, 5, 5, 5, 5, 5, 5, 5, 5, 5, 5, 5, 5, 5, 5, 5, 5, 5, 5, 5, 5, 5, 5, 5, 5, 5, 5, 5, 5, 5, 5, 5, 5, 5, 5, 5, 5, 5, 6, 6, 6, 5, 6, 5, 6, 6, 6, 6, 5, 6, 6, 6, 6, 6, 6, 6, 5, 5, 5, 5, 5, 5, 5, 5, 6, 5, 5, 6, 5, 5, 5, 5, 5, 5, 5, 5, 5, 5, 5, 5, 5, 5, 5, 5, 5, 5, 6, 6, 5, 5, 5, 5, 5, 5, 5, 5, 5, 5, 5, 5, 6, 5, 5, 6, 5, 6, 6, 6, 5, 5, 5, 5, 5, 5, 5, 5, 5, 5, 5, 6, 6, 6, 6, 4, 4, 4, 5, 5, 5, 4, 5, 4, 5, 5, 5, 5, 4, 5, 4, 4, 5, 4, 5, 4, 4, 5, 5, 4, 4, 4, 4, 5, 5, 5, 4, 5, 4, 5, 5, 5, 5, 4, 5, 5, 4, 5, 4, 5, 5, 5, 4, 5, 4, 4, 5, 5, 5, 4, 4, 4, 4, 4, 4, 4, 4, 4, 4, 5, 4, 4, 5, 4, 4, 4, 4, 4, 4, 4, 4, 4, 5, 5, 5, 4, 5, 4, 5, 4, 5, 5, 4, 5, 5, 4, 4, 5, 5, 5, 5, 5, 5, 4, 5, 5, 5, 5, 5, 4, 4, 5, 5, 5, 5, 5, 5, 4, 5, 5, 5, 5, 5, 5, 5, 4, 4, 4, 4, 4, 4, 4, 5, 5, 5, 5, 5, 5, 5, 5, 5, 5, 5, 5, 5, 5, 5, 4, 4, 4, 4, 4, 4, 4, 4, 4, 4, 4, 4, 4, 4, 4, 4, 4, 4, 4, 4, 4, 4, 4, 4, 4, 4, 4, 4, 4, 5, 4, 5, 5, 4, 4, 4, 4, 4, 4, 4, 4, 4, 4, 4, 4, 4, 4, 4, 4, 4, 4, 4, 4, 3, 3, 4, 4, 4, 4, 4, 4, 4, 4, 4, 4, 4, 4, 4, 5, 5, 5, 4, 4, 4, 5, 3, 3, 3, 4, 4, 4, 3, 4, 3, 4, 4, 4, 4, 3, 4, 4, 4, 4, 4, 4, 4, 4, 4, 4, 4, 3, 3, 3, 3, 4, 4, 4, 3, 4, 3, 4, 4, 4, 4, 3, 3, 3, 3, 3, 4, 4, 4, 4, 4, 4, 4, 4, 4, 4, 4, 4, 4, 4, 4, 4, 4, 4, 4, 4, 4, 4, 4, 4, 4, 4, 3, 3, 3, 3, 3, 4, 4, 4, 4, 4, 4, 4, 4, 4, 4, 5, 4, 4, 4, 4, 4, 4, 4, 3, 4, 4, 4, 4, 4, 3, 4, 4]\n",
      "Fugue3.mid의 옥타브 정보: [5, 5, 5, 5, 5, 6, 6, 5, 5, 5, 5, 6, 5, 6, 5, 6, 5, 6, 6, 6, 6, 6, 6, 6, 6, 6, 6, 6, 6, 6, 6, 6, 6, 6, 6, 6, 6, 6, 6, 6, 6, 6, 5, 5, 6, 6, 6, 6, 6, 6, 6, 6, 5, 6, 6, 6, 5, 5, 6, 6, 6, 5, 5, 6, 6, 6, 5, 6, 6, 6, 6, 6, 6, 6, 6, 6, 6, 6, 6, 7, 6, 6, 6, 6, 6, 6, 6, 6, 5, 6, 5, 5, 6, 6, 6, 5, 5, 6, 6, 6, 6, 6, 6, 6, 6, 6, 6, 6, 6, 6, 6, 6, 6, 6, 6, 6, 6, 6, 6, 6, 6, 5, 5, 5, 5, 5, 5, 5, 5, 5, 5, 5, 5, 5, 5, 5, 5, 5, 5, 5, 5, 5, 5, 5, 5, 5, 5, 5, 5, 5, 5, 5, 5, 5, 5, 6, 6, 6, 5, 6, 5, 5, 5, 6, 5, 6, 5, 6, 5, 5, 5, 5, 5, 5, 5, 6, 6, 6, 6, 5, 5, 5, 5, 5, 5, 6, 5, 5, 6, 5, 5, 5, 5, 5, 5, 6, 5, 6, 5, 6, 6, 6, 6, 6, 7, 6, 6, 6, 6, 6, 6, 6, 6, 6, 6, 5, 5, 5, 5, 6, 6, 5, 5, 5, 5, 6, 5, 5, 5, 5, 6, 6, 5, 5, 5, 5, 5, 6, 6, 6, 6, 6, 6, 7, 6, 6, 6, 6, 6, 6, 6, 6, 5, 6, 5, 5, 5, 5, 5, 5, 6, 5, 6, 6, 5, 6, 6, 6, 5, 5, 5, 5, 5, 5, 5, 5, 5, 5, 5, 5, 5, 5, 5, 5, 6, 6, 6, 5, 5, 6, 6, 6, 6, 6, 6, 5, 6, 6, 6, 6, 6, 6, 6, 6, 6, 6, 6, 6, 6, 6, 5, 6, 6, 5, 6, 6, 6, 6, 6, 6, 6, 6, 6, 6, 6, 6, 5, 5, 6, 5, 6, 6, 6, 6, 6, 6, 6, 6, 5, 6, 6, 5, 5, 5, 5, 5, 6, 6, 6, 6, 6, 6, 6, 6, 5, 5, 6, 5, 5, 5, 5, 5, 5, 5, 5, 5, 5, 5, 5, 5, 6, 6, 5, 5, 5, 5, 5, 5, 5, 5, 5, 5, 5, 6, 6, 5, 5, 5, 5, 5, 5, 5, 5, 5, 5, 5, 6, 6, 5, 5, 5, 5, 5, 5, 6, 6, 6, 6, 6, 6, 6, 6, 6, 6, 6, 6, 6, 6, 6, 6, 6, 6, 6, 6, 6, 6, 6, 6, 6, 6, 6, 6, 6, 6, 6, 6, 6, 6, 6, 6, 6, 6, 6, 6, 6, 5, 6, 6, 6, 6, 6, 6, 6, 6, 6, 6, 6, 6, 6, 6, 5, 5, 5, 6, 6, 6, 6, 6, 6, 6, 6, 6, 6, 6, 5, 6, 5, 5, 5, 6, 6, 6, 6, 6, 6, 6, 6, 6, 6, 6, 5, 5, 5, 5, 5, 6, 6, 5, 5, 5, 5, 6, 5, 6, 5, 6, 5, 6, 6, 6, 6, 6, 6, 6, 6, 6, 6, 6, 6, 6, 6, 6, 6, 6, 6, 6, 6, 6, 6, 6, 6, 6, 5, 6, 6, 6, 6, 6, 6, 6, 6, 5, 6, 5, 5, 5, 5, 5, 5, 5, 5, 5, 5, 4, 5, 5, 5, 5, 6, 6, 6, 6, 6, 5, 5, 5, 5, 5, 5, 5, 6, 6, 5, 5, 5, 5, 6, 5, 5, 6, 5, 6, 5, 5, 5, 5, 5, 6, 6, 6, 6, 6, 6, 6, 6, 6, 6, 6, 6, 6, 5, 5, 6, 5, 5, 6, 5, 6, 6, 5, 5, 5, 5, 5, 6, 5, 5, 5, 5, 5, 5, 5, 5, 4, 5, 4, 5, 5, 5, 5, 6, 5, 6, 6, 5, 6, 6, 6, 5, 5, 5, 5, 5, 5, 5, 5, 5, 5, 5, 5, 5, 5, 5, 5, 6, 6, 5, 5, 5, 6, 6, 5, 5, 5, 5, 6, 6, 5, 6, 5, 5, 5, 5, 5, 5, 5, 5, 5, 5, 5, 5, 5, 5, 5, 5, 5, 5, 5, 4, 5, 5, 5, 4, 4, 4, 4, 4, 4, 4, 4, 4, 4, 4, 5, 5, 6, 6, 5, 6, 5, 5, 6, 6, 5, 5, 5, 5, 5, 6, 5, 5, 5, 5, 5, 4, 5, 5, 5, 4, 4, 4, 5, 4, 4, 5, 4, 4, 4, 4, 4, 4, 4, 4, 4, 4, 4, 4, 4, 5, 4, 4, 4, 4, 4, 4, 4, 4, 4, 3, 4, 4, 4, 4, 4, 4, 5, 5, 5, 5, 5, 5, 5, 5, 5, 4, 4, 4, 5, 5, 6, 5, 5, 5, 5, 5, 4, 4, 4, 4, 4, 5, 5, 4, 4, 4, 4, 5, 4, 5, 5, 5, 6, 6, 6, 6, 5, 5, 6, 5, 5, 4, 4, 4, 4, 4, 4, 4, 4, 4, 4, 4, 4, 4, 4, 4, 4, 4, 4, 4, 4, 4, 5, 5, 5, 5, 5, 5, 6, 5, 5, 5, 5, 5, 5, 5, 5, 4, 5, 4, 5, 5, 5, 5, 6, 5, 6, 6, 5, 6, 6, 6, 5, 5, 5, 5, 5, 5, 5, 5, 5, 5, 5, 5, 5, 5, 5, 5, 5, 5, 5, 5, 5, 4, 5, 5, 5, 5, 4, 4, 5, 5, 5, 5, 5, 5, 5, 4, 5, 5, 5, 4, 4, 4, 4, 4, 4, 4, 4, 4, 4, 4, 4, 4, 4, 4, 4, 4, 5, 5, 5, 4, 4, 4, 4, 4, 4, 4, 4, 4, 4, 4, 4, 5, 4, 5, 5, 5, 5, 5, 5, 5, 5, 5, 5, 4, 4, 4, 4, 4, 5, 5, 4, 4, 4, 4, 5, 4, 5, 4, 5, 4, 5, 5, 5, 5, 5, 5, 4, 5, 5, 4, 4, 4, 4, 4, 4, 5, 4, 5, 5, 5, 5, 4, 4, 5, 4, 4, 4, 4, 4, 3, 4, 4, 4, 5, 5, 4, 4, 4, 4, 4, 4, 4, 4, 4, 3, 4, 4, 5, 4, 5, 5, 4, 4, 4, 4, 4, 4, 5, 5, 4, 4, 4, 4, 4, 4, 4, 4, 3, 3, 4, 4, 4, 4, 4, 5, 4, 4, 4, 4, 4, 5, 4, 4, 4, 4, 3, 4, 4, 4, 5, 5, 4, 4, 4, 4, 4, 4, 4, 4, 4, 3, 4, 4, 4, 4, 5, 4, 4, 4, 4, 4, 4, 4, 4, 4, 3, 4, 4, 4, 4, 4, 4, 4, 4, 4, 4, 4, 4, 4, 4, 3, 3, 3, 3, 4, 4, 4, 4, 4, 4, 4, 4, 4, 4, 4, 4, 4, 4, 3, 4, 4, 3, 3, 4, 3, 3, 3, 3, 3, 4, 3, 4, 3, 3, 3, 4, 4, 4, 3, 3, 4, 4, 4, 4, 4, 4, 4, 4, 4, 4, 4, 4, 4, 4, 4, 4, 4, 4, 4, 4, 4, 4, 4, 3, 4, 4, 4, 4, 4, 4, 4, 4, 3, 4, 4, 4, 4, 4, 4, 4, 4, 4, 4, 4, 4, 5, 4, 4, 5, 5, 5, 5, 4, 4, 4, 4, 4, 4, 4, 4, 4, 4, 4, 4, 3, 4, 4, 3, 3, 4, 4, 4, 4, 3, 3, 4, 4, 4, 4, 3, 3, 4, 4, 3, 3, 3, 3, 4, 4, 3, 3, 3, 3, 4, 4, 4, 4, 4, 4, 4, 4, 4, 4, 4, 3, 4, 4, 4, 4, 4, 4, 4, 4, 4, 4, 4, 3, 4, 3, 4, 3, 4, 3, 4, 3, 4, 4, 4, 3, 4, 4, 4, 3, 4, 4, 4, 3, 4, 3, 5, 5, 5, 5, 4, 5, 5, 5, 5, 5, 5, 5, 6, 5, 5, 5, 5, 5, 4, 5, 5, 5, 5, 5, 5, 6, 5, 5, 5, 5, 5, 4, 5, 5, 5, 5, 5, 5, 5, 5, 5, 5, 4, 5, 4, 4, 5, 5, 5, 5, 5, 5, 5, 5, 5, 5, 4, 5, 5, 5, 4, 4, 4, 4, 4, 4, 4, 4, 4, 4, 4, 4, 4, 4, 4, 4, 4, 5, 5, 5, 4, 4, 4, 4, 4, 4, 4, 4, 4, 4, 5, 5, 4, 4, 4, 4, 5, 4, 5, 4, 5, 4, 3, 4, 4, 4, 4, 4, 4, 4, 3, 4, 4, 4, 4, 4, 4, 4, 4, 4, 4, 4, 4, 4, 4, 3, 4, 4, 4, 4, 4, 4, 4, 4, 4, 4, 3, 4, 4, 3, 3, 4, 4, 4, 4, 4, 4, 4, 4, 4, 4, 3, 3, 4, 3, 3, 4, 4, 4, 4, 4, 4, 4, 4, 4, 4, 3, 3, 4, 4, 3, 3, 3, 3, 3, 3]\n",
      "Fugue1.mid과 Fugue3.mid의 옥타브 평가 점수: 17.70 / 100\n",
      "Fugue1.mid의 옥타브 평가 레벨: 2\n"
     ]
    }
   ],
   "source": [
    "score = evaluate_octave_difference(input_midi_path1, target_midi_path1)\n",
    "level = calculate_octave_level(score)\n",
    "\n",
    "# 결과 출력\n",
    "print(f\"{input_midi_path1}과 {target_midi_path1}의 옥타브 평가 점수: {score:.2f} / 100\")\n",
    "print(f\"{input_midi_path1}의 옥타브 평가 레벨: {level}\")"
   ]
  },
  {
   "cell_type": "code",
   "execution_count": 240,
   "id": "41d66f70",
   "metadata": {},
   "outputs": [
    {
     "name": "stdout",
     "output_type": "stream",
     "text": [
      "Fugue1.mid의 페달 상태: [0, 0, 0, 0, 0, 0, 0, 0, 0, 0, 0, 0, 0, 0, 0, 0, 0, 0, 0, 0, 0, 0, 0, 0, 0, 0, 0, 0, 0, 0, 0, 0, 0, 0, 0, 0, 0, 0, 0, 0, 0, 0, 0, 0, 0, 0, 0, 0, 0, 0, 0, 0, 0, 0, 0, 0, 0, 0, 0, 0, 0, 0, 0, 0, 0, 0, 0, 0, 0, 0, 0, 0, 0, 0, 0, 0, 0, 0, 0, 0, 0, 0, 0, 0, 0, 0, 0, 0, 0, 0, 0, 0, 0, 0, 0, 0, 0, 0, 0, 0, 0, 0, 0, 0, 0, 0, 0, 0, 0, 0, 0, 0, 0, 0, 0, 0, 0, 0, 0, 0, 0, 0, 0, 0, 0, 0, 0, 0, 0, 0, 0, 0, 0, 0, 0, 0, 0, 0, 0, 0, 0, 0, 0, 0, 0, 0, 0, 0, 0, 0, 0, 0, 0, 0, 0, 0, 0, 0, 0, 0, 0, 0, 0, 0, 0, 0, 0, 0, 0, 0, 0, 0, 0, 0, 0, 0, 0, 0, 0, 0, 0, 0, 0, 0, 0, 0, 0, 0, 0, 0, 0, 0, 0, 0, 0, 0, 0, 0, 0, 0, 0, 0, 0, 0, 0, 0, 0, 0, 0, 0, 0, 0, 0, 0, 0, 0, 0, 0, 0, 0, 0, 0, 0, 0, 0, 0, 0, 0, 0, 0, 0, 0, 0, 0, 0, 0, 0, 0, 0, 0, 0, 0, 0, 0, 0, 0, 0, 0, 0, 0, 0, 0, 0, 0, 0, 0, 0, 0, 0, 0, 0, 0, 0, 0, 0, 0, 0, 0, 0, 0, 0, 0, 0, 0, 0, 0, 0, 0, 0, 0, 0, 0, 0, 0, 0, 0, 0, 0, 0, 0, 0, 0, 0, 0, 0, 0, 0, 0, 0, 0, 0, 0, 0, 0, 0, 0, 0, 0, 0, 0, 0, 0, 0, 0, 0, 0, 0, 0, 0, 0, 0, 0, 0, 0, 0, 0, 0, 0, 0, 0, 0, 0, 0, 0, 0, 0, 0, 0, 0, 0, 0, 0, 0, 0, 0, 0, 0, 0, 0, 0, 0, 0, 0, 0, 0, 0, 0, 0, 0, 0, 0, 0, 0, 0, 0, 0, 0, 0, 0, 0, 0, 0, 0, 0, 0, 0, 0, 0, 0, 0, 0, 0, 0, 0, 0, 0, 0, 0, 0, 0, 0, 0, 0, 0, 0, 0, 0, 0, 0, 0, 0, 0, 0, 0, 0, 0, 0, 0, 0, 0, 0, 0, 0, 0, 0, 0, 0, 0, 0, 0, 0, 0, 0, 0, 0, 0, 0, 0, 0, 0, 0, 0, 0, 0, 0, 0, 0, 0, 0, 0, 0, 0, 0, 0, 0, 0, 0, 0, 0, 0, 0, 0, 0, 0, 0, 0, 0, 0, 0, 0, 0, 0, 0, 0, 0, 0, 0, 0, 0, 0, 0, 0, 0, 0, 0, 0, 0, 0, 0, 0, 0, 0, 0, 0, 0, 0, 0, 0, 0, 0, 0, 0, 0, 0, 0, 0, 0, 0, 0, 0, 0, 0, 0, 0, 0, 0, 0, 0, 0, 0, 0, 0, 0, 0, 0, 0, 0, 0, 0, 0, 0, 0, 0, 0, 0, 0, 0, 0, 0, 0, 0, 0, 0, 0, 0, 0, 0, 0, 0, 0, 0, 0, 0, 0, 0, 0, 0, 0, 0, 0, 0, 0, 0, 0, 0, 0, 0, 0, 0, 0, 0, 0, 0, 0, 0, 0, 0, 0, 0, 0, 0, 0, 0, 0, 0, 0, 0, 0, 0, 0, 0, 0, 0, 0, 0, 0, 0, 0, 0, 0, 0, 0, 0, 0, 0, 0, 0, 0, 0, 0, 0, 0, 0, 0, 0, 0, 0, 0, 0, 0, 0, 0, 0, 0, 0, 0, 0, 0, 0, 0, 0, 0, 0, 0, 0, 0, 0, 0, 0, 0, 0, 0, 0, 0, 0, 0, 0, 0, 0, 0, 0, 0, 0, 0, 0, 0, 0, 0, 0, 0, 0, 0, 0, 0, 0, 0, 0, 0, 0, 0, 0, 0, 0, 0, 0, 0, 0, 0, 0, 0, 0, 0, 0, 0, 0, 0, 0, 0, 0, 0, 0, 0, 0, 0, 0, 0, 0, 0, 0, 0, 0, 0, 0, 0, 0, 0, 0, 0, 0, 0, 0, 0, 0, 0, 0, 0, 0, 0, 0, 0, 0, 0, 0, 0, 0, 0, 0, 0, 0, 0, 0, 0, 0, 0, 0, 0, 0, 0, 0, 0, 0, 0, 0, 0, 0, 0, 0, 0, 0, 0, 0, 0, 0, 0, 0, 0, 0, 0, 0]\n",
      "Fugue3.mid의 페달 상태: [0, 0, 0, 0, 0, 0, 0, 0, 0, 0, 0, 0, 0, 0, 0, 0, 0, 0, 0, 0, 0, 0, 0, 0, 0, 0, 0, 0, 0, 0, 0, 0, 0, 0, 0, 0, 0, 0, 0, 0, 0, 0, 0, 0, 0, 0, 0, 0, 0, 0, 0, 0, 0, 0, 0, 0, 0, 0, 0, 0, 0, 0, 0, 0, 0, 0, 0, 0, 0, 0, 0, 0, 0, 0, 0, 0, 0, 0, 0, 0, 0, 0, 0, 0, 0, 0, 0, 0, 0, 0, 0, 0, 0, 0, 0, 0, 0, 0, 0, 0, 0, 0, 0, 0, 0, 0, 0, 0, 0, 0, 0, 0, 0, 0, 0, 0, 0, 0, 0, 0, 0, 0, 0, 0, 0, 0, 0, 0, 0, 0, 0, 0, 0, 0, 0, 0, 0, 0, 0, 0, 0, 0, 0, 0, 0, 0, 0, 0, 0, 0, 0, 0, 0, 0, 0, 0, 0, 0, 0, 0, 0, 0, 0, 0, 0, 0, 0, 0, 0, 0, 0, 0, 0, 0, 0, 0, 0, 0, 0, 0, 0, 0, 0, 0, 0, 0, 0, 0, 0, 0, 0, 0, 0, 0, 0, 0, 0, 0, 0, 0, 0, 0, 0, 0, 0, 0, 0, 0, 0, 0, 0, 0, 0, 0, 0, 0, 0, 0, 0, 0, 0, 0, 0, 0, 0, 0, 0, 0, 0, 0, 0, 0, 0, 0, 0, 0, 0, 0, 0, 0, 0, 0, 0, 0, 0, 0, 0, 0, 0, 0, 0, 0, 0, 0, 0, 0, 0, 0, 0, 0, 0, 0, 0, 0, 0, 0, 0, 0, 0, 0, 0, 0, 0, 0, 0, 0, 0, 0, 0, 0, 0, 0, 0, 0, 0, 0, 0, 0, 0, 0, 0, 0, 0, 0, 0, 0, 0, 0, 0, 0, 0, 0, 0, 0, 0, 0, 0, 0, 0, 0, 0, 0, 0, 0, 0, 0, 0, 0, 0, 0, 0, 0, 0, 0, 0, 0, 0, 0, 0, 0, 0, 0, 0, 0, 0, 0, 0, 0, 0, 0, 0, 0, 0, 0, 0, 0, 0, 0, 0, 0, 0, 0, 0, 0, 0, 0, 0, 0, 0, 0, 0, 0, 0, 0, 0, 0, 0, 0, 0, 0, 0, 0, 0, 0, 0, 0, 0, 0, 0, 0, 0, 0, 0, 0, 0, 0, 0, 0, 0, 0, 0, 0, 0, 0, 0, 0, 0, 0, 0, 0, 0, 0, 0, 0, 0, 0, 0, 0, 0, 0, 0, 0, 0, 0, 0, 0, 0, 0, 0, 0, 0, 0, 0, 0, 0, 0, 0, 0, 0, 0, 0, 0, 0, 0, 0, 0, 0, 0, 0, 0, 0, 0, 0, 0, 0, 0, 0, 0, 0, 0, 0, 0, 0, 0, 0, 0, 0, 0, 0, 0, 0, 0, 0, 0, 0, 0, 0, 0, 0, 0, 0, 0, 0, 0, 0, 0, 0, 0, 0, 0, 0, 0, 0, 0, 0, 0, 0, 0, 0, 0, 0, 0, 0, 0, 0, 0, 0, 0, 0, 0, 0, 0, 0, 0, 0, 0, 0, 0, 0, 0, 0, 0, 0, 0, 0, 0, 0, 0, 0, 0, 0, 0, 0, 0, 0, 0, 0, 0, 0, 0, 0, 0, 0, 0, 0, 0, 0, 0, 0, 0, 0, 0, 0, 0, 0, 0, 0, 0, 0, 0, 0, 0, 0, 0, 0, 0, 0, 0, 0, 0, 0, 0, 0, 0, 0, 0, 0, 0, 0, 0, 0, 0, 0, 0, 0, 0, 0, 0, 0, 0, 0, 0, 0, 0, 0, 0, 0, 0, 0, 0, 0, 0, 0, 0, 0, 0, 0, 0, 0, 0, 0, 0, 0, 0, 0, 0, 0, 0, 0, 0, 0, 0, 0, 0, 0, 0, 0, 0, 0, 0, 0, 0, 0, 0, 0, 0, 0, 0, 0, 0, 0, 0, 0, 0, 0, 0, 0, 0, 0, 0, 0, 0, 0, 0, 0, 0, 0, 0, 0, 0, 0, 0, 0, 0, 0, 0, 0, 0, 0, 0, 0, 0, 0, 0, 0, 0, 0, 0, 0, 0, 0, 0, 0, 0, 0, 0, 0, 0, 0, 0, 0, 0, 0, 0, 0, 0, 0, 0, 0, 0, 0, 0, 0, 0, 0, 0, 0, 0, 0, 0, 0, 0, 0, 0, 0, 0, 0, 0, 0, 0, 0, 0, 0, 0, 0, 0, 0, 0, 0, 0, 0, 0, 0, 0, 0, 0, 0, 0, 0, 0, 0, 0, 0, 0, 0, 0, 0, 0, 0, 0, 0, 0, 0, 0, 0, 0, 0, 0, 0, 0, 0, 0, 0, 0, 0, 0, 0, 0, 0, 0, 0, 0, 0, 0, 0, 0, 0, 0, 0, 0, 0, 0, 0, 0, 0, 0, 0, 0, 0, 0, 0, 0, 0, 0, 0, 0, 0, 0, 0, 0, 0, 0, 0, 0, 0, 0, 0, 0, 0, 0, 0, 0, 0, 0, 0, 0, 0, 0, 0, 0, 0, 0, 0, 0, 0, 0, 0, 0, 0, 0, 0, 0, 0, 0, 0, 0, 0, 0, 0, 0, 0, 0, 0, 0, 0, 0, 0, 0, 0, 0, 0, 0, 0, 0, 0, 0, 0, 0, 0, 0, 0, 0, 0, 0, 0, 0, 0, 0, 0, 0, 0, 0, 0, 0, 0, 0, 0, 0, 0, 0, 0, 0, 0, 0, 0, 0, 0, 0, 0, 0, 0, 0, 0, 0, 0, 0, 0, 0, 0, 0, 0, 0, 0, 0, 0, 0, 0, 0, 0, 0, 0, 0, 0, 0, 0, 0, 0, 0, 0, 0, 0, 0, 0, 0, 0, 0, 0, 0, 0, 0, 0, 0, 0, 0, 0, 0, 0, 0, 0, 0, 0, 0, 0, 0, 0, 0, 0, 0, 0, 0, 0, 0, 0, 0, 0, 0, 0, 0, 0, 0, 0, 0, 0, 0, 0, 0, 0, 0, 0, 0, 0, 0, 0, 0, 0, 0, 0, 0, 0, 0, 0, 0, 0, 0, 0, 0, 0, 0, 0, 0, 0, 0, 0, 0, 0, 0, 0, 0, 0, 0, 0, 0, 0, 0, 0, 0, 0, 0, 0, 0, 0, 0, 0, 0, 0, 0, 0, 0, 0, 0, 0, 0, 0, 0, 0, 0, 0, 0, 0, 0, 0, 0, 0, 0, 0, 0, 0, 0, 0, 0, 0, 0, 0, 0, 0, 0, 0, 0, 0, 0, 0, 0, 0, 0, 0, 0, 0, 0, 0, 0, 0, 0, 0, 0, 0, 0, 0, 0, 0, 0, 0, 0, 0, 0, 0, 0, 0, 0, 0, 0, 0, 0, 0, 0, 0, 0, 0, 0, 0, 0, 0, 0, 0, 0, 0, 0, 0, 0, 0, 0, 0, 0, 0, 0, 0, 0, 0, 0, 0, 0, 0, 0, 0, 0, 0, 0, 0, 0, 0, 0, 0, 0, 0, 0, 0, 0, 0, 0, 0, 0, 0, 0, 0, 0, 0, 0, 0, 0, 0, 0, 0, 0, 0, 0, 0, 0, 0, 0, 0, 0, 0, 0, 0, 0, 0, 0, 0, 0, 0, 0, 0, 0, 0, 0, 0, 0, 0, 0, 0, 0, 0, 0, 0, 0, 0, 0, 0, 0, 0, 0, 0, 0, 0, 0, 0, 0, 0, 0, 0, 0, 0, 0, 0, 0, 0, 0, 0, 0, 0, 0, 0, 0, 0, 0, 0, 0, 0, 0, 0, 0, 0, 0, 0, 0, 0, 0, 0, 0, 0, 0, 0, 0, 0, 0, 0, 0, 0, 0, 0, 0, 0, 0, 0, 0, 0, 0, 0, 0, 0, 0, 0, 0, 0, 0, 0, 0, 0, 0, 0, 0, 0, 0, 0, 0, 0, 0, 0, 0, 0, 0, 0, 0, 0, 0, 0, 0, 0, 0, 0, 0, 0, 0, 0, 0, 0, 0, 0, 0, 0, 0, 0, 0, 0, 0, 0, 0, 0, 0, 0, 0, 0, 0, 0, 0, 0, 0, 0, 0, 0, 0, 0, 0, 0, 0, 0, 0, 0, 0, 0, 0, 0, 0, 0, 0, 0, 0, 0, 0, 0, 0, 0, 0, 0, 0, 0, 0, 0, 0, 0, 0, 0, 0, 0, 0, 0, 0, 0, 0, 0, 0, 0, 0, 0, 0, 0, 0, 0, 0, 0, 0, 0, 0, 0, 0, 0, 0, 0, 0, 0, 0, 0, 0, 0, 0, 0, 0, 0, 0, 0, 0, 0, 0, 0, 0, 0, 0, 0, 0, 0, 0, 0, 0, 0, 0, 0, 0, 0, 0, 0, 0, 0, 0, 0, 0, 0, 0, 0, 0, 0, 0, 0, 0, 0, 0, 0, 0, 0, 0, 0, 0, 0, 0, 0, 0, 0, 0, 0, 0, 0, 0, 0, 0, 0, 0, 0, 0, 0, 0, 0, 0, 0, 0, 0, 0, 0, 0, 0, 0, 0, 0, 0, 0, 0, 0, 0, 0, 0, 0, 0, 0, 0, 0, 0, 0, 0, 0]\n",
      "Fugue1.mid에 대한 Fugue3.mid의 페달링 평가 점수: 100.00 / 100\n",
      "Fugue3.mid의 페달링 Level: 10\n"
     ]
    }
   ],
   "source": [
    "# MIDI 파일의 경로를 지정\n",
    "input_midi_path1 = 'Fugue1.mid'\n",
    "target_midi_path1 = 'Fugue3.mid'\n",
    "\n",
    "score = evaluate_pedaling(input_midi_path1, target_midi_path1)\n",
    "level = calculate_pedal_level(score)\n",
    "\n",
    "print(f\"{target_path}에 대한 {input_path}의 페달링 평가 점수: {score:.2f} / 100\")\n",
    "print(f\"{input_path}의 페달링 Level: {level}\")"
   ]
  },
  {
   "cell_type": "code",
   "execution_count": 241,
   "id": "f6e1a608",
   "metadata": {},
   "outputs": [
    {
     "name": "stdout",
     "output_type": "stream",
     "text": [
      "Note Duration Similarity Score: 71.50%\n",
      "-----------------------------------\n",
      "Note Durations 1\n",
      " [120, 120, 120, 180, 30, 2, 120, 120, 120, 170, 60, 60, 60, 60, 60, 60, 60, 60, 60, 60, 60, 60, 60, 60, 60, 120, 120, 120, 120, 60, 60, 60, 60, 170, 60, 60, 60, 60, 60, 60, 60, 60, 60, 480, 240, 120, 120, 120, 180, 30, 30, 120, 120, 120, 180, 60, 60, 60, 120, 180, 60, 60, 60, 480, 180, 60, 480, 240, 60, 60, 60, 60, 60, 60, 60, 60, 60, 60, 60, 60, 60, 60, 120, 120, 120, 60, 60, 60, 60, 60, 60, 60, 60, 60, 60, 120, 60, 60, 120, 120, 120, 240, 60, 60, 15, 15, 15, 15, 15, 15, 15, 15, 15, 45, 50, 240, 120, 120, 120, 180, 30, 2, 120, 120, 120, 120, 180, 30, 2, 120, 120, 120, 180, 60, 60, 60, 120, 120, 120, 120, 120, 60, 60, 60, 60, 60, 60, 60, 55, 5, 1, 30, 30, 2, 60, 60, 60, 60, 3, 1, 1, 1, 1, 100, 50, 148, 120, 120, 120, 147, 30, 2, 120, 120, 120, 170, 60, 60, 60, 60, 60, 60, 60, 60, 60, 60, 60, 60, 60, 60, 60, 3, 1, 1, 180, 120, 120, 120, 230, 120, 240, 120, 120, 120, 230, 120, 120, 120, 268, 38, 36, 41, 44, 41, 38, 39, 480, 30, 30, 60, 60, 60, 60, 150, 30, 30, 30, 2, 60, 170, 60, 480, 120, 120, 120, 180, 30, 2, 120, 120, 120, 167, 60, 60, 60, 60, 60, 60, 60, 60, 60, 60, 60, 120, 120, 323, 60, 60, 120, 120, 120, 120, 120, 120, 240, 60, 60, 280, 60, 120, 240, 120, 120, 60, 60, 60, 120, 120, 481, 120, 120, 120, 170, 30, 2, 120, 120, 120, 164, 60, 60, 60, 121, 120, 120, 120, 170, 30, 2, 120, 120, 120, 180, 60, 60, 60, 120, 120, 120, 180, 60, 60, 60, 60, 60, 60, 60, 60, 60, 60, 60, 120, 120, 120, 120, 170, 30, 2, 120, 120, 120, 180, 60, 60, 60, 81, 88, 82, 211, 120, 120, 230, 120, 120, 120, 154, 30, 2, 91, 120, 120, 180, 60, 60, 60, 120, 120, 120, 120, 120, 120, 120, 120, 120, 120, 120, 120, 170, 30, 2, 120, 120, 120, 168, 60, 60, 60, 60, 60, 60, 60, 240, 290, 60, 60, 60, 60, 60, 60, 60, 290, 60, 120, 220, 120, 120, 350, 240, 120, 240, 88, 230, 230, 120, 120, 120, 153, 30, 2, 120, 120, 120, 160, 60, 60, 60, 60, 60, 60, 60, 60, 60, 60, 60, 60, 240, 60, 120, 480, 480, 120, 120, 120, 180, 30, 2, 120, 120, 120, 170, 60, 60, 60, 120, 240, 120, 120, 120, 120, 120, 60, 60, 60, 240, 240, 120, 120, 120, 180, 2, 30, 120, 120, 120, 180, 60, 60, 60, 120, 360, 240, 60, 60, 60, 60, 60, 60, 60, 60, 60, 60, 60, 60, 60, 60, 60, 240, 120, 120, 120, 180, 30, 2, 120, 120, 120, 180, 60, 60, 60, 2, 239, 120, 240, 120, 120, 120, 180, 30, 2, 120, 120, 120, 240, 120, 240, 120, 120, 240, 120, 120, 120, 120, 180, 30, 2, 116, 120, 120, 180, 60, 60, 60, 120, 120, 120, 120, 180, 30, 2, 120, 120, 120, 180, 60, 60, 60, 540, 60, 60, 60, 60, 60, 60, 60, 4, 11, 12, 120, 180, 30, 2, 120, 120, 120, 180, 60, 60, 60, 240, 120, 240, 110, 360, 120, 120, 120, 180, 30, 2, 120, 120, 120, 170, 60, 60, 60, 60, 60, 60, 60, 60, 60, 60, 60, 60, 60, 60, 60, 60, 60, 60, 60, 420, 960, 120, 120, 120, 180, 30, 2, 120, 120, 120, 170, 60, 60, 60, 60, 60, 60, 60, 60, 60, 60, 60, 120, 120, 120, 120, 60, 60, 60, 60, 120, 120, 240, 240, 60, 60, 60, 60, 60, 60, 60, 60, 120, 120, 120, 120, 180, 30, 2, 120, 120, 120, 180, 60, 60, 60, 116, 240, 120, 120, 240, 240, 240, 120, 120, 60, 60, 240, 240, 120, 120, 120, 180, 30, 2, 120, 120, 120, 180, 60, 60, 60, 120, 120, 120, 120, 120, 120, 120, 120, 240, 120, 120, 180, 30, 2, 120, 120, 120, 180, 15, 60, 60, 60, 60, 60, 60, 120, 120, 540, 60, 60, 60, 60, 60, 60, 60, 120, 120, 120, 240, 60, 60, 120, 120, 960, 240, 120, 120, 60, 60, 60, 60, 60, 60, 60, 60, 60, 60, 60, 60, 120, 120, 480, 1440]\n",
      "Note Durations 1\n",
      " [120, 60, 60, 60, 60, 120, 120, 120, 60, 60, 120, 120, 120, 120, 120, 120, 120, 60, 60, 60, 60, 60, 60, 60, 60, 60, 60, 60, 60, 60, 60, 300, 60, 60, 60, 60, 60, 60, 60, 60, 60, 60, 60, 30, 30, 120, 480, 480, 360, 120, 120, 7, 120, 350, 60, 60, 350, 120, 340, 60, 60, 350, 120, 300, 60, 60, 60, 300, 60, 60, 60, 60, 60, 60, 60, 60, 60, 60, 60, 120, 120, 120, 60, 60, 120, 120, 120, 120, 120, 120, 60, 60, 60, 60, 60, 60, 60, 60, 60, 60, 60, 60, 60, 60, 60, 60, 2, 2, 80, 60, 60, 60, 60, 60, 60, 60, 60, 60, 60, 60, 60, 60, 60, 60, 60, 60, 60, 60, 60, 60, 60, 60, 60, 60, 60, 60, 60, 60, 60, 300, 60, 60, 60, 60, 60, 60, 60, 60, 60, 60, 60, 60, 60, 60, 60, 300, 60, 60, 60, 300, 60, 60, 60, 300, 60, 60, 60, 300, 60, 60, 60, 300, 60, 60, 60, 300, 60, 60, 60, 480, 480, 360, 120, 120, 120, 60, 60, 60, 60, 60, 60, 60, 60, 60, 60, 60, 60, 60, 60, 60, 55, 60, 60, 60, 60, 22, 22, 22, 22, 22, 22, 45, 50, 237, 120, 60, 60, 60, 60, 120, 120, 120, 60, 60, 120, 120, 60, 60, 60, 60, 120, 120, 120, 7, 60, 60, 60, 60, 60, 60, 60, 60, 60, 120, 120, 120, 60, 60, 120, 120, 120, 120, 120, 120, 60, 60, 60, 60, 60, 60, 60, 60, 60, 60, 60, 60, 60, 60, 60, 60, 300, 60, 60, 60, 60, 60, 60, 60, 60, 60, 60, 60, 120, 120, 240, 60, 60, 273, 60, 60, 3, 120, 120, 120, 120, 120, 60, 60, 60, 60, 60, 60, 60, 60, 60, 60, 60, 60, 60, 60, 60, 60, 60, 60, 60, 60, 60, 60, 60, 60, 60, 60, 60, 60, 60, 60, 60, 60, 60, 60, 60, 60, 60, 60, 60, 60, 60, 60, 60, 60, 60, 60, 60, 60, 60, 60, 60, 60, 60, 60, 60, 60, 60, 60, 60, 60, 60, 60, 60, 60, 60, 60, 60, 60, 60, 60, 60, 60, 60, 60, 120, 120, 120, 60, 60, 60, 60, 60, 60, 60, 60, 60, 60, 120, 120, 120, 60, 60, 60, 60, 60, 60, 60, 60, 60, 4, 120, 120, 120, 60, 60, 60, 60, 60, 60, 60, 60, 60, 60, 60, 60, 60, 60, 22, 22, 22, 22, 22, 22, 22, 22, 22, 22, 22, 22, 22, 22, 22, 22, 22, 22, 22, 22, 32, 50, 60, 60, 60, 60, 60, 60, 60, 60, 60, 60, 60, 60, 60, 60, 60, 60, 60, 60, 60, 60, 60, 60, 60, 60, 60, 60, 60, 60, 60, 60, 60, 60, 60, 60, 60, 60, 60, 60, 60, 60, 60, 60, 60, 60, 60, 60, 60, 60, 60, 60, 60, 2, 2, 2, 60, 120, 60, 60, 60, 60, 120, 120, 120, 60, 60, 120, 120, 120, 120, 120, 120, 120, 60, 60, 60, 60, 60, 60, 60, 60, 60, 60, 60, 60, 60, 60, 300, 60, 60, 60, 60, 60, 60, 60, 60, 60, 60, 60, 120, 120, 480, 480, 360, 120, 120, 240, 120, 120, 120, 590, 60, 60, 350, 120, 350, 60, 60, 360, 120, 300, 60, 60, 60, 4, 60, 60, 60, 60, 60, 60, 60, 60, 60, 60, 60, 120, 120, 120, 60, 60, 120, 120, 120, 120, 120, 120, 120, 60, 60, 60, 60, 60, 60, 60, 60, 60, 60, 60, 60, 60, 60, 60, 60, 60, 60, 60, 60, 120, 120, 110, 110, 110, 110, 480, 120, 60, 60, 60, 60, 120, 120, 120, 60, 60, 120, 120, 120, 120, 120, 120, 120, 60, 60, 60, 60, 60, 60, 60, 60, 60, 60, 60, 60, 60, 60, 300, 60, 60, 60, 60, 60, 60, 60, 60, 60, 60, 60, 240, 6, 305, 60, 60, 240, 120, 350, 60, 60, 360, 120, 300, 60, 60, 60, 240, 180, 60, 60, 60, 60, 60, 60, 60, 300, 60, 60, 60, 60, 60, 60, 60, 60, 60, 60, 60, 120, 120, 120, 60, 60, 234, 60, 60, 240, 120, 120, 120, 120, 240, 120, 300, 60, 60, 60, 120, 120, 300, 60, 60, 60, 120, 120, 300, 60, 60, 60, 240, 120, 60, 60, 60, 60, 120, 120, 60, 60, 120, 120, 120, 120, 120, 240, 120, 120, 120, 120, 120, 120, 60, 60, 120, 120, 60, 60, 60]\n"
     ]
    }
   ],
   "source": [
    "# 각 MIDI 파일의 노트 길이를 추출\n",
    "note_durations_1 = extract_note_durations(input_midi_path1)\n",
    "note_durations_2 = extract_note_durations(target_midi_path1)\n",
    "# 노트 길이 유사도 점수 계산 및 노트 길이 리스트 출력\n",
    "similarity_score, note_durations_1, note_durations_2 = calculate_note_duration_similarity(note_durations_1, note_durations_2)\n",
    "\n",
    "print(f'Note Duration Similarity Score: {similarity_score:.2f}%')\n",
    "print('-----------------------------------')\n",
    "print('Note Durations 1\\n', note_durations_1)\n",
    "print('Note Durations 1\\n', note_durations_2)"
   ]
  },
  {
   "cell_type": "code",
   "execution_count": null,
   "id": "8fb29cae",
   "metadata": {},
   "outputs": [],
   "source": []
  }
 ],
 "metadata": {
  "kernelspec": {
   "display_name": "Python 3 (ipykernel)",
   "language": "python",
   "name": "python3"
  },
  "language_info": {
   "codemirror_mode": {
    "name": "ipython",
    "version": 3
   },
   "file_extension": ".py",
   "mimetype": "text/x-python",
   "name": "python",
   "nbconvert_exporter": "python",
   "pygments_lexer": "ipython3",
   "version": "3.10.11"
  }
 },
 "nbformat": 4,
 "nbformat_minor": 5
}
