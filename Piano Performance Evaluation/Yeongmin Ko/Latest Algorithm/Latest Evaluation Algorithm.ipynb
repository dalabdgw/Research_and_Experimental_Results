{
 "cells": [
  {
   "cell_type": "markdown",
   "id": "4d16e33b",
   "metadata": {},
   "source": [
    "# 0. 라이브러리 불러오기"
   ]
  },
  {
   "cell_type": "code",
   "execution_count": 1,
   "id": "2e8cf1f9",
   "metadata": {},
   "outputs": [],
   "source": [
    "import mido\n",
    "from mido import MidiFile, MidiTrack\n",
    "import numpy as np\n",
    "import pandas as pd\n",
    "import editdistance\n",
    "import os"
   ]
  },
  {
   "cell_type": "markdown",
   "id": "bfe114e5",
   "metadata": {},
   "source": [
    "# 1. 동일한 시간에 동시에 누르는 건반에 대해서 데이터 추출하기"
   ]
  },
  {
   "cell_type": "code",
   "execution_count": 2,
   "id": "a9faa8be",
   "metadata": {},
   "outputs": [],
   "source": [
    "def midi_to_dataframe(file_path):\n",
    "    mid = mido.MidiFile(file_path)\n",
    "\n",
    "    # DataFrame 초기화\n",
    "    columns = ['Sec', 'Ticks', 'msg_type', 'Channel', 'Notes', 'Velocities', 'Pedal', 'Tempo']\n",
    "    midi_df = pd.DataFrame(columns=columns)\n",
    "\n",
    "    # 노트와 velocity, 페달, 템포, 틱스, 시간을 저장할 리스트 초기화\n",
    "    current_notes = []\n",
    "    current_velocities = []\n",
    "    current_pedal = None\n",
    "    current_tempo = None\n",
    "    current_ticks = None\n",
    "    current_time = 0\n",
    "    current_msg_type = []\n",
    "\n",
    "    for msg in mid:\n",
    "        if msg.type in ['note_on', 'note_off']:\n",
    "            # 동일한 시간에 친 노트들을 리스트로 묶어서 저장\n",
    "            if msg.time > 0:\n",
    "                midi_df = pd.concat([midi_df, pd.DataFrame([[current_time, current_ticks, current_msg_type, msg.channel, current_notes, \n",
    "                                                             current_velocities, current_pedal, current_tempo]], columns=columns)], ignore_index=True)\n",
    "                current_notes = []\n",
    "                current_velocities = []\n",
    "                current_msg_type = []\n",
    "\n",
    "            current_notes.append(msg.note)\n",
    "            current_velocities.append(msg.velocity)\n",
    "            current_msg_type.append(msg.type)\n",
    "\n",
    "        elif msg.type == 'control_change':\n",
    "            if msg.control == 64:  # 페달 정보 업데이트\n",
    "                current_pedal = msg.value\n",
    "\n",
    "        elif msg.type == 'set_tempo':\n",
    "            current_tempo = mido.tempo2bpm(msg.tempo)  # 템포 정보 업데이트\n",
    "\n",
    "        current_ticks = msg.time\n",
    "\n",
    "        current_time += msg.time\n",
    "\n",
    "    # 마지막 노트들을 처리\n",
    "    if current_notes:\n",
    "        midi_df = pd.concat([midi_df, pd.DataFrame([[current_time, current_ticks, current_msg_type, '', current_notes, current_velocities, current_pedal, current_tempo]], columns=columns)], ignore_index=True)\n",
    "\n",
    "    return midi_df"
   ]
  },
  {
   "cell_type": "code",
   "execution_count": 6,
   "id": "c05c433f",
   "metadata": {},
   "outputs": [
    {
     "name": "stdout",
     "output_type": "stream",
     "text": [
      "            Sec     Ticks                      msg_type Channel         Notes  \\\n",
      "0             0         0                            []       1            []   \n",
      "1       0.46875   0.46875                     [note_on]       1          [60]   \n",
      "2        0.9375         0           [note_off, note_on]       1      [60, 62]   \n",
      "3       1.40625         0           [note_off, note_on]       1      [62, 64]   \n",
      "4         1.875         0           [note_off, note_on]       1      [64, 65]   \n",
      "..          ...       ...                           ...     ...           ...   \n",
      "766   99.981427         0  [note_off, note_on, note_on]       3  [74, 79, 76]   \n",
      "767   102.96169  2.980262                    [note_off]       1          [48]   \n",
      "768  103.001164  0.039474                    [note_off]       0          [60]   \n",
      "769  103.119585  0.118421                    [note_off]       1          [84]   \n",
      "770  103.139321         0          [note_off, note_off]              [76, 79]   \n",
      "\n",
      "       Velocities Pedal      Tempo  \n",
      "0              []  None  64.000000  \n",
      "1            [64]  None  64.000000  \n",
      "2        [62, 64]  None  64.000000  \n",
      "3        [36, 64]  None  64.000000  \n",
      "4        [34, 64]  None  64.000000  \n",
      "..            ...   ...        ...  \n",
      "766  [74, 64, 64]  None  38.000009  \n",
      "767          [68]  None  38.000009  \n",
      "768          [77]  None  38.000009  \n",
      "769          [79]  None  38.000009  \n",
      "770      [69, 76]  None  38.000009  \n",
      "\n",
      "[771 rows x 8 columns]\n"
     ]
    }
   ],
   "source": [
    "result_df = midi_to_dataframe('midi_data/Fugue1.mid')\n",
    "result_df.to_csv('hello1.csv', index=False)\n",
    "\n",
    "print(result_df)"
   ]
  },
  {
   "cell_type": "code",
   "execution_count": 7,
   "id": "3b0458dd",
   "metadata": {},
   "outputs": [
    {
     "name": "stdout",
     "output_type": "stream",
     "text": [
      "            Sec     Ticks                                           msg_type  \\\n",
      "0             0         0                                                 []   \n",
      "1       1.09756   1.09756                                          [note_on]   \n",
      "2      1.463414         0                                [note_off, note_on]   \n",
      "3      1.646341         0                                [note_off, note_on]   \n",
      "4      1.829268         0                                [note_off, note_on]   \n",
      "..          ...       ...                                                ...   \n",
      "893  159.584519         0                     [note_off, note_off, note_off]   \n",
      "894  159.723864  0.098361               [note_on, note_on, note_on, note_on]   \n",
      "895  160.094554         0  [note_off, note_off, note_off, note_off, note_...   \n",
      "896  160.137657         0      [note_on, note_on, note_on, note_on, note_on]   \n",
      "897  162.206623         0  [note_off, note_off, note_off, note_off, note_...   \n",
      "\n",
      "    Channel                 Notes            Velocities Pedal      Tempo  \n",
      "0         0                    []                    []  None  82.000036  \n",
      "1         0                  [68]                  [64]  None  82.000036  \n",
      "2         0              [68, 70]              [80, 64]  None  82.000036  \n",
      "3         0              [70, 68]              [74, 64]  None  82.000036  \n",
      "4         0              [68, 66]              [85, 64]  None  82.000036  \n",
      "..      ...                   ...                   ...   ...        ...  \n",
      "893       0          [70, 66, 42]          [47, 53, 48]  None  60.999973  \n",
      "894       0      [72, 68, 66, 44]      [64, 64, 64, 64]  None  57.999986  \n",
      "895       0  [72, 63, 66, 68, 44]  [73, 58, 74, 74, 46]  None  57.999986  \n",
      "896       0  [73, 61, 68, 65, 37]  [64, 64, 64, 64, 64]  None  57.999986  \n",
      "897          [73, 65, 68, 61, 37]  [70, 62, 83, 76, 76]  None  57.999986  \n",
      "\n",
      "[898 rows x 8 columns]\n"
     ]
    }
   ],
   "source": [
    "result_df = midi_to_dataframe('midi_data/Fugue3.mid')\n",
    "result_df.to_csv('hello2.csv', index=False)\n",
    "\n",
    "print(result_df)"
   ]
  },
  {
   "cell_type": "code",
   "execution_count": 8,
   "id": "8813caec",
   "metadata": {},
   "outputs": [
    {
     "name": "stdout",
     "output_type": "stream",
     "text": [
      "          Sec      Ticks                                       msg_type  \\\n",
      "0    2.748438   0.748438  [note_on, note_on, note_on, note_on, note_on]   \n",
      "1    3.131250   0.382812                                     [note_off]   \n",
      "2    3.139063   0.007812                                     [note_off]   \n",
      "3    3.146875   0.007812                                     [note_off]   \n",
      "4    3.150000   0.003125                                     [note_off]   \n",
      "..        ...        ...                                            ...   \n",
      "84  23.029688   0.029688  [note_on, note_on, note_on, note_on, note_on]   \n",
      "85  25.315625   2.285938                                     [note_off]   \n",
      "86  25.321875   0.000000                           [note_off, note_off]   \n",
      "87  25.329688   0.007812                                     [note_off]   \n",
      "88  59.000000  33.643750                                     [note_off]   \n",
      "\n",
      "   Channel                 Notes            Velocities Pedal  Tempo  \n",
      "0        0  [41, 53, 57, 60, 64]  [70, 70, 70, 70, 70]   127   80.0  \n",
      "1        0                  [53]                 [101]   127   80.0  \n",
      "2        0                  [57]                  [94]   127   80.0  \n",
      "3        0                  [41]                 [103]   127   80.0  \n",
      "4        0                  [60]                  [74]   127   80.0  \n",
      "..     ...                   ...                   ...   ...    ...  \n",
      "84       0  [36, 55, 59, 62, 64]  [70, 70, 70, 70, 70]     0   80.0  \n",
      "85       0                  [55]                 [107]     0   80.0  \n",
      "86       0              [36, 59]             [108, 96]     0   80.0  \n",
      "87       0                  [62]                  [96]     0   80.0  \n",
      "88                          [64]                 [107]     0   80.0  \n",
      "\n",
      "[89 rows x 8 columns]\n"
     ]
    }
   ],
   "source": [
    "result_df = midi_to_dataframe('midi_data/sample_midi.mid')\n",
    "result_df.to_csv('hello3.csv', index=False)\n",
    "\n",
    "print(result_df)"
   ]
  },
  {
   "cell_type": "code",
   "execution_count": 10,
   "id": "68ac0421",
   "metadata": {},
   "outputs": [
    {
     "name": "stdout",
     "output_type": "stream",
     "text": [
      "          Sec      Ticks                                       msg_type  \\\n",
      "0    2.748438   0.748438  [note_on, note_on, note_on, note_on, note_on]   \n",
      "1    3.131250   0.382812                                     [note_off]   \n",
      "2    3.139063   0.007812                                     [note_off]   \n",
      "3    3.146875   0.007812                                     [note_off]   \n",
      "4    3.150000   0.003125                                     [note_off]   \n",
      "..        ...        ...                                            ...   \n",
      "84  23.029688   0.029688  [note_on, note_on, note_on, note_on, note_on]   \n",
      "85  25.315625   2.285938                                     [note_off]   \n",
      "86  25.321875   0.000000                           [note_off, note_off]   \n",
      "87  25.329688   0.007812                                     [note_off]   \n",
      "88  59.000000  33.643750                                     [note_off]   \n",
      "\n",
      "   Channel                 Notes            Velocities Pedal  Tempo  \n",
      "0        0  [41, 53, 57, 60, 64]  [70, 70, 70, 70, 70]   127   80.0  \n",
      "1        0                  [53]                 [101]   127   80.0  \n",
      "2        0                  [57]                  [94]   127   80.0  \n",
      "3        0                  [41]                 [103]   127   80.0  \n",
      "4        0                  [60]                  [74]   127   80.0  \n",
      "..     ...                   ...                   ...   ...    ...  \n",
      "84       0  [36, 55, 59, 62, 64]  [70, 70, 70, 70, 70]     0   80.0  \n",
      "85       0                  [55]                 [107]     0   80.0  \n",
      "86       0              [36, 59]             [108, 96]     0   80.0  \n",
      "87       0                  [62]                  [96]     0   80.0  \n",
      "88                          [64]                 [107]     0   80.0  \n",
      "\n",
      "[89 rows x 8 columns]\n"
     ]
    }
   ],
   "source": [
    "result_df = midi_to_dataframe('midi_data/sample_midi.mid')\n",
    "result_df.to_csv('hello4.csv', index=False)\n",
    "\n",
    "print(result_df)"
   ]
  },
  {
   "cell_type": "code",
   "execution_count": null,
   "id": "f508845f",
   "metadata": {},
   "outputs": [],
   "source": []
  }
 ],
 "metadata": {
  "kernelspec": {
   "display_name": "Python 3 (ipykernel)",
   "language": "python",
   "name": "python3"
  },
  "language_info": {
   "codemirror_mode": {
    "name": "ipython",
    "version": 3
   },
   "file_extension": ".py",
   "mimetype": "text/x-python",
   "name": "python",
   "nbconvert_exporter": "python",
   "pygments_lexer": "ipython3",
   "version": "3.10.11"
  }
 },
 "nbformat": 4,
 "nbformat_minor": 5
}
