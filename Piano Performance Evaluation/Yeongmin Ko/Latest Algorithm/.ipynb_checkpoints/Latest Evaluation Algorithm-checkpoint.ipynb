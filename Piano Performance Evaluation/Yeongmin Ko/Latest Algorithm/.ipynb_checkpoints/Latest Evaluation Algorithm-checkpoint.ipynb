{
 "cells": [
  {
   "cell_type": "markdown",
   "id": "2e95640a",
   "metadata": {},
   "source": [
    "# 0. 라이브러리 불러오기"
   ]
  },
  {
   "cell_type": "code",
   "execution_count": 1,
   "id": "549927f0",
   "metadata": {},
   "outputs": [],
   "source": [
    "import mido\n",
    "from mido import MidiFile, MidiTrack\n",
    "import numpy as np\n",
    "import pandas as pd\n",
    "import editdistance\n",
    "import os"
   ]
  },
  {
   "cell_type": "markdown",
   "id": "62794ed9",
   "metadata": {},
   "source": [
    "# 1. 동일한 시간에 동시에 누르는 건반에 대해서 데이터 추출하기\n",
    "- 'Sec' (초): 각 미디 이벤트가 발생한 시간\n",
    "- 'Ticks' (틱): MIDI 파일에서 사용되는 시간 단위인 틱\n",
    "- 'msg_type' (이벤트 타입): 각 미디 이벤트의 종류(주로 'note_on', 'note_off', 'set_tempo' 등의 값)\n",
    "- 'note_on' 이벤트는 악기에서 음표를 연주할 때 발생하는 이벤트로, 특정 음표가 시작되는 시점을 나타냄\n",
    "- 'note_off' 이벤트는 해당 음표의 연주가 끝나는 시점을 나타냄\n",
    "- 'set_tempo': 'set_tempo' 이벤트는 MIDI 파일 내에서 템포(속도)를 설정하는 이벤트, 템포는 음악의 속도를 나타내며, 'set_tempo' 이벤트를 통해 BPM(분당 박자) 값이 설정됨\n",
    "- 'Channel' (채널): MIDI에서 사용되는 채널 번호(미디 이벤트가 어떤 악기 채널에 속하는지를 표시)\n",
    "- 'Notes' (음표): 노트 이벤트에서 발생한 음표(음 높이) 정보\n",
    "- 'Velocities' (속도): 노트 이벤트에서 발생한 음표의 속도(음의 세기) 정보\n",
    "- 'Tempo' (템포): 템포 이벤트에서 설정된 BPM (분당 박자) 값\n",
    "- 'diff_velocity_mean' (속도 변화): 각 노트 이벤트에서의 속도의 차이(현재 노트의 평균 속도 - 이전 노트의 평균 속도)\n",
    "    - 음표의 세기, 빠르기 변화 등에 활용"
   ]
  },
  {
   "cell_type": "code",
   "execution_count": 65,
   "id": "7dfb94bf",
   "metadata": {},
   "outputs": [],
   "source": [
    "def midi_to_dataframe(file_path):\n",
    "    mid = mido.MidiFile(file_path)\n",
    "\n",
    "    columns = ['Sec', 'Ticks', 'msg_type', 'Channel', 'Notes', 'Velocities', 'Tempo', 'mean_velocity', 'diff_velocity']\n",
    "    midi_df = pd.DataFrame(columns=columns)\n",
    "\n",
    "    current_notes = []\n",
    "    current_velocities = []\n",
    "    current_tempo = None\n",
    "    current_ticks = None\n",
    "    current_time = 0\n",
    "    current_msg_type = []\n",
    "    prev_notes = []\n",
    "    prev_velocities = []\n",
    "\n",
    "    for msg in mid:\n",
    "        if msg.type in ['note_on', 'note_off']:\n",
    "            if msg.time > 0:\n",
    "                # 이전 노트 및 velocity의 평균 계산\n",
    "                prev_avg_velocity = sum(prev_velocities) / len(prev_velocities) if prev_velocities else 0\n",
    "\n",
    "                # 변화 속도 및 평균 속도 계산\n",
    "                if len(current_velocities) > 0:  # 노트가 있는 경우에만 계산\n",
    "                    diff_velocity = sum(current_velocities) / len(current_velocities) - prev_avg_velocity\n",
    "                    mean_velocity = sum(current_velocities) / len(current_velocities)\n",
    "                else:\n",
    "                    diff_velocity = 0  # 없으면 0으로 처리\n",
    "                    mean_velocity = 0\n",
    "\n",
    "                if current_msg_type:\n",
    "                    midi_df = pd.concat([midi_df, pd.DataFrame([[current_time, current_ticks, current_msg_type, msg.channel, current_notes,\n",
    "                                                                 current_velocities, current_tempo, diff_velocity, mean_velocity]], columns=columns)], ignore_index=True)\n",
    "\n",
    "                prev_notes = current_notes.copy()\n",
    "                prev_velocities = current_velocities.copy()\n",
    "\n",
    "                current_notes = []\n",
    "                current_velocities = []\n",
    "                current_msg_type = []\n",
    "\n",
    "            current_notes.append(msg.note)\n",
    "            current_velocities.append(msg.velocity)\n",
    "            current_msg_type.append(msg.type)\n",
    "\n",
    "        elif msg.type == 'set_tempo':\n",
    "            current_tempo = mido.tempo2bpm(msg.tempo)  # 템포 정보 업데이트\n",
    "\n",
    "        current_ticks = msg.time\n",
    "\n",
    "        current_time += msg.time\n",
    "\n",
    "    # 마지막 노트들을 처리\n",
    "    if current_notes and current_msg_type:\n",
    "        prev_avg_velocity = sum(prev_velocities) / len(prev_velocities) if prev_velocities else 0\n",
    "        if len(current_velocities) > 0:  # 노트가 있는 경우에만 계산\n",
    "            diff_velocity = sum(current_velocities) / len(current_velocities) - prev_avg_velocity\n",
    "            mean_velocity = sum(current_velocities) / len(current_velocities)\n",
    "        else:\n",
    "            diff_velocity = 0\n",
    "            mean_velocity = 0\n",
    "\n",
    "        midi_df = pd.concat([midi_df, pd.DataFrame([[current_time, current_ticks, current_msg_type, '', current_notes,\n",
    "                                                     current_velocities, current_tempo, diff_velocity, mean_velocity]], columns=columns)], ignore_index=True)\n",
    "\n",
    "    return midi_df"
   ]
  },
  {
   "cell_type": "code",
   "execution_count": 72,
   "id": "ccd62f75",
   "metadata": {},
   "outputs": [
    {
     "name": "stdout",
     "output_type": "stream",
     "text": [
      "총 재생시간: 103.13932137500001 초\n"
     ]
    }
   ],
   "source": [
    "def get_total_duration(file_path):\n",
    "    mid = mido.MidiFile(file_path)\n",
    "\n",
    "    total_duration_sec = 0\n",
    "\n",
    "    for msg in mid:\n",
    "        total_duration_sec += msg.time\n",
    "\n",
    "    print(f\"총 재생시간: {total_duration_sec} 초\")\n",
    "\n",
    "# 미디 파일의 총 재생시간 출력\n",
    "get_total_duration('midi_data/Fugue1.mid')"
   ]
  },
  {
   "cell_type": "code",
   "execution_count": 66,
   "id": "7857cd02",
   "metadata": {},
   "outputs": [
    {
     "name": "stdout",
     "output_type": "stream",
     "text": [
      "            Sec     Ticks                      msg_type Channel         Notes  \\\n",
      "0      0.468750  0.468750                     [note_on]       1          [60]   \n",
      "1      0.937500  0.000000           [note_off, note_on]       1      [60, 62]   \n",
      "2      1.406250  0.000000           [note_off, note_on]       1      [62, 64]   \n",
      "3      1.875000  0.000000           [note_off, note_on]       1      [64, 65]   \n",
      "4      2.578125  0.000000           [note_off, note_on]       1      [65, 67]   \n",
      "..          ...       ...                           ...     ...           ...   \n",
      "765   99.981427  0.000000  [note_off, note_on, note_on]       3  [74, 79, 76]   \n",
      "766  102.961690  2.980262                    [note_off]       1          [48]   \n",
      "767  103.001164  0.039474                    [note_off]       0          [60]   \n",
      "768  103.119585  0.118421                    [note_off]       1          [84]   \n",
      "769  103.139321  0.000000          [note_off, note_off]              [76, 79]   \n",
      "\n",
      "       Velocities      Tempo  mean_velocity  diff_velocity  \n",
      "0            [64]  64.000000      64.000000      64.000000  \n",
      "1        [62, 64]  64.000000      -1.000000      63.000000  \n",
      "2        [36, 64]  64.000000     -13.000000      50.000000  \n",
      "3        [34, 64]  64.000000      -1.000000      49.000000  \n",
      "4        [62, 64]  64.000000      14.000000      63.000000  \n",
      "..            ...        ...            ...            ...  \n",
      "765  [74, 64, 64]  38.000009       9.333333      67.333333  \n",
      "766          [68]  38.000009       0.666667      68.000000  \n",
      "767          [77]  38.000009       9.000000      77.000000  \n",
      "768          [79]  38.000009       2.000000      79.000000  \n",
      "769      [69, 76]  38.000009      -6.500000      72.500000  \n",
      "\n",
      "[770 rows x 9 columns]\n"
     ]
    }
   ],
   "source": [
    "result_df = midi_to_dataframe('midi_data/Fugue1.mid')\n",
    "result_df.to_csv('hello1.csv', index=False)\n",
    "\n",
    "print(result_df)"
   ]
  },
  {
   "cell_type": "code",
   "execution_count": 67,
   "id": "b9aeae02",
   "metadata": {
    "scrolled": false
   },
   "outputs": [
    {
     "name": "stdout",
     "output_type": "stream",
     "text": [
      "            Sec     Ticks                                           msg_type  \\\n",
      "0      1.097560  1.097560                                          [note_on]   \n",
      "1      1.463414  0.000000                                [note_off, note_on]   \n",
      "2      1.646341  0.000000                                [note_off, note_on]   \n",
      "3      1.829268  0.000000                                [note_off, note_on]   \n",
      "4      2.012194  0.000000                                [note_off, note_on]   \n",
      "..          ...       ...                                                ...   \n",
      "892  159.584519  0.000000                     [note_off, note_off, note_off]   \n",
      "893  159.723864  0.098361               [note_on, note_on, note_on, note_on]   \n",
      "894  160.094554  0.000000  [note_off, note_off, note_off, note_off, note_...   \n",
      "895  160.137657  0.000000      [note_on, note_on, note_on, note_on, note_on]   \n",
      "896  162.206623  0.000000  [note_off, note_off, note_off, note_off, note_...   \n",
      "\n",
      "    Channel                 Notes            Velocities      Tempo  \\\n",
      "0         0                  [68]                  [64]  82.000036   \n",
      "1         0              [68, 70]              [80, 64]  82.000036   \n",
      "2         0              [70, 68]              [74, 64]  82.000036   \n",
      "3         0              [68, 66]              [85, 64]  82.000036   \n",
      "4         0              [66, 68]              [48, 64]  82.000036   \n",
      "..      ...                   ...                   ...        ...   \n",
      "892       0          [70, 66, 42]          [47, 53, 48]  60.999973   \n",
      "893       0      [72, 68, 66, 44]      [64, 64, 64, 64]  57.999986   \n",
      "894       0  [72, 63, 66, 68, 44]  [73, 58, 74, 74, 46]  57.999986   \n",
      "895       0  [73, 61, 68, 65, 37]  [64, 64, 64, 64, 64]  57.999986   \n",
      "896          [73, 65, 68, 61, 37]  [70, 62, 83, 76, 76]  57.999986   \n",
      "\n",
      "     mean_velocity  diff_velocity  \n",
      "0        64.000000      64.000000  \n",
      "1         8.000000      72.000000  \n",
      "2        -3.000000      69.000000  \n",
      "3         5.500000      74.500000  \n",
      "4       -18.500000      56.000000  \n",
      "..             ...            ...  \n",
      "892      -7.166667      49.333333  \n",
      "893      14.666667      64.000000  \n",
      "894       1.000000      65.000000  \n",
      "895      -1.000000      64.000000  \n",
      "896       9.400000      73.400000  \n",
      "\n",
      "[897 rows x 9 columns]\n"
     ]
    }
   ],
   "source": [
    "result_df = midi_to_dataframe('midi_data/Fugue3.mid')\n",
    "result_df.to_csv('hello2.csv', index=False)\n",
    "\n",
    "print(result_df)"
   ]
  },
  {
   "cell_type": "code",
   "execution_count": 68,
   "id": "591f2372",
   "metadata": {},
   "outputs": [
    {
     "name": "stdout",
     "output_type": "stream",
     "text": [
      "          Sec      Ticks                                       msg_type  \\\n",
      "0    2.748438   0.748438  [note_on, note_on, note_on, note_on, note_on]   \n",
      "1    3.131250   0.382812                                     [note_off]   \n",
      "2    3.139063   0.007812                                     [note_off]   \n",
      "3    3.146875   0.007812                                     [note_off]   \n",
      "4    3.150000   0.003125                                     [note_off]   \n",
      "..        ...        ...                                            ...   \n",
      "84  23.029688   0.029688  [note_on, note_on, note_on, note_on, note_on]   \n",
      "85  25.315625   2.285938                                     [note_off]   \n",
      "86  25.321875   0.000000                           [note_off, note_off]   \n",
      "87  25.329688   0.007812                                     [note_off]   \n",
      "88  59.000000  33.643750                                     [note_off]   \n",
      "\n",
      "   Channel                 Notes            Velocities  Tempo  mean_velocity  \\\n",
      "0        0  [41, 53, 57, 60, 64]  [70, 70, 70, 70, 70]   80.0           70.0   \n",
      "1        0                  [53]                 [101]   80.0           31.0   \n",
      "2        0                  [57]                  [94]   80.0           -7.0   \n",
      "3        0                  [41]                 [103]   80.0            9.0   \n",
      "4        0                  [60]                  [74]   80.0          -29.0   \n",
      "..     ...                   ...                   ...    ...            ...   \n",
      "84       0  [36, 55, 59, 62, 64]  [70, 70, 70, 70, 70]   80.0           -6.0   \n",
      "85       0                  [55]                 [107]   80.0           37.0   \n",
      "86       0              [36, 59]             [108, 96]   80.0           -5.0   \n",
      "87       0                  [62]                  [96]   80.0           -6.0   \n",
      "88                          [64]                 [107]   80.0           11.0   \n",
      "\n",
      "    diff_velocity  \n",
      "0            70.0  \n",
      "1           101.0  \n",
      "2            94.0  \n",
      "3           103.0  \n",
      "4            74.0  \n",
      "..            ...  \n",
      "84           70.0  \n",
      "85          107.0  \n",
      "86          102.0  \n",
      "87           96.0  \n",
      "88          107.0  \n",
      "\n",
      "[89 rows x 9 columns]\n"
     ]
    }
   ],
   "source": [
    "result_df = midi_to_dataframe('midi_data/sample_midi.mid')\n",
    "result_df.to_csv('hello3.csv', index=False)\n",
    "\n",
    "print(result_df)"
   ]
  },
  {
   "cell_type": "code",
   "execution_count": 69,
   "id": "188b1d36",
   "metadata": {},
   "outputs": [
    {
     "name": "stdout",
     "output_type": "stream",
     "text": [
      "          Sec      Ticks                                       msg_type  \\\n",
      "0    2.748438   0.748438  [note_on, note_on, note_on, note_on, note_on]   \n",
      "1    3.131250   0.382812                                     [note_off]   \n",
      "2    3.139063   0.007812                                     [note_off]   \n",
      "3    3.146875   0.007812                                     [note_off]   \n",
      "4    3.150000   0.003125                                     [note_off]   \n",
      "..        ...        ...                                            ...   \n",
      "84  23.029688   0.029688  [note_on, note_on, note_on, note_on, note_on]   \n",
      "85  25.315625   2.285938                                     [note_off]   \n",
      "86  25.321875   0.000000                           [note_off, note_off]   \n",
      "87  25.329688   0.007812                                     [note_off]   \n",
      "88  59.000000  33.643750                                     [note_off]   \n",
      "\n",
      "   Channel                 Notes            Velocities  Tempo  mean_velocity  \\\n",
      "0        0  [41, 53, 57, 60, 64]  [70, 70, 70, 70, 70]   80.0           70.0   \n",
      "1        0                  [53]                 [101]   80.0           31.0   \n",
      "2        0                  [57]                  [94]   80.0           -7.0   \n",
      "3        0                  [41]                 [103]   80.0            9.0   \n",
      "4        0                  [60]                  [74]   80.0          -29.0   \n",
      "..     ...                   ...                   ...    ...            ...   \n",
      "84       0  [36, 55, 59, 62, 64]  [70, 70, 70, 70, 70]   80.0           -6.0   \n",
      "85       0                  [55]                 [107]   80.0           37.0   \n",
      "86       0              [36, 59]             [108, 96]   80.0           -5.0   \n",
      "87       0                  [62]                  [96]   80.0           -6.0   \n",
      "88                          [64]                 [107]   80.0           11.0   \n",
      "\n",
      "    diff_velocity  \n",
      "0            70.0  \n",
      "1           101.0  \n",
      "2            94.0  \n",
      "3           103.0  \n",
      "4            74.0  \n",
      "..            ...  \n",
      "84           70.0  \n",
      "85          107.0  \n",
      "86          102.0  \n",
      "87           96.0  \n",
      "88          107.0  \n",
      "\n",
      "[89 rows x 9 columns]\n"
     ]
    }
   ],
   "source": [
    "result_df = midi_to_dataframe('midi_data/sample_midi.mid')\n",
    "result_df.to_csv('hello4.csv', index=False)\n",
    "\n",
    "print(result_df)"
   ]
  },
  {
   "cell_type": "code",
   "execution_count": null,
   "id": "dd5824fc",
   "metadata": {},
   "outputs": [],
   "source": []
  }
 ],
 "metadata": {
  "kernelspec": {
   "display_name": "Python 3 (ipykernel)",
   "language": "python",
   "name": "python3"
  },
  "language_info": {
   "codemirror_mode": {
    "name": "ipython",
    "version": 3
   },
   "file_extension": ".py",
   "mimetype": "text/x-python",
   "name": "python",
   "nbconvert_exporter": "python",
   "pygments_lexer": "ipython3",
   "version": "3.10.11"
  }
 },
 "nbformat": 4,
 "nbformat_minor": 5
}
